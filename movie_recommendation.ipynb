{
 "cells": [
  {
   "cell_type": "markdown",
   "id": "90cfd420-6a80-4f84-afa3-bfa368f886ca",
   "metadata": {},
   "source": [
    "# Movie Recommendation System"
   ]
  },
  {
   "cell_type": "markdown",
   "id": "1119fa5e-3ad1-4b29-96de-6636c03b197c",
   "metadata": {},
   "source": [
    "# Objective"
   ]
  },
  {
   "cell_type": "code",
   "execution_count": 16,
   "id": "c62d001b-f89f-4206-b03c-07718a31d62c",
   "metadata": {},
   "outputs": [],
   "source": [
    "# A movie recommendation system aims to predict and suggest movies to users based on their preferences and behavior."
   ]
  },
  {
   "cell_type": "markdown",
   "id": "f4affd76-bb55-4be7-829f-f6c3078001e5",
   "metadata": {},
   "source": [
    "# Import Library"
   ]
  },
  {
   "cell_type": "code",
   "execution_count": 25,
   "id": "e19d6232-3f8e-4f8e-bcf1-1b8f2dc242a8",
   "metadata": {},
   "outputs": [],
   "source": [
    "import numpy as np\n",
    "import pandas as pd\n",
    "from matplotlib import pyplot as plt"
   ]
  },
  {
   "cell_type": "markdown",
   "id": "627b571f-93a4-4320-b510-fb0a311e42d7",
   "metadata": {},
   "source": [
    "# Import Dataset"
   ]
  },
  {
   "cell_type": "code",
   "execution_count": 26,
   "id": "122cc283-556d-4f19-923c-1b8f12b2091c",
   "metadata": {},
   "outputs": [],
   "source": [
    "dataset = pd.read_csv(r\"C:\\Users\\Sunny\\Downloads\\MoviesRecommendation.csv\")\n"
   ]
  },
  {
   "cell_type": "code",
   "execution_count": 27,
   "id": "10dce9de-df7e-4bc5-8e91-f4fe613abcb1",
   "metadata": {},
   "outputs": [
    {
     "data": {
      "text/html": [
       "<div>\n",
       "<style scoped>\n",
       "    .dataframe tbody tr th:only-of-type {\n",
       "        vertical-align: middle;\n",
       "    }\n",
       "\n",
       "    .dataframe tbody tr th {\n",
       "        vertical-align: top;\n",
       "    }\n",
       "\n",
       "    .dataframe thead th {\n",
       "        text-align: right;\n",
       "    }\n",
       "</style>\n",
       "<table border=\"1\" class=\"dataframe\">\n",
       "  <thead>\n",
       "    <tr style=\"text-align: right;\">\n",
       "      <th></th>\n",
       "      <th>Movie_ID</th>\n",
       "      <th>Movie_Title</th>\n",
       "      <th>Movie_Genre</th>\n",
       "      <th>Movie_Language</th>\n",
       "      <th>Movie_Budget</th>\n",
       "      <th>Movie_Popularity</th>\n",
       "      <th>Movie_Release_Date</th>\n",
       "      <th>Movie_Revenue</th>\n",
       "      <th>Movie_Runtime</th>\n",
       "      <th>Movie_Vote</th>\n",
       "      <th>...</th>\n",
       "      <th>Movie_Homepage</th>\n",
       "      <th>Movie_Keywords</th>\n",
       "      <th>Movie_Overview</th>\n",
       "      <th>Movie_Production_House</th>\n",
       "      <th>Movie_Production_Country</th>\n",
       "      <th>Movie_Spoken_Language</th>\n",
       "      <th>Movie_Tagline</th>\n",
       "      <th>Movie_Cast</th>\n",
       "      <th>Movie_Crew</th>\n",
       "      <th>Movie_Director</th>\n",
       "    </tr>\n",
       "  </thead>\n",
       "  <tbody>\n",
       "    <tr>\n",
       "      <th>0</th>\n",
       "      <td>1</td>\n",
       "      <td>Four Rooms</td>\n",
       "      <td>Crime Comedy</td>\n",
       "      <td>en</td>\n",
       "      <td>4000000</td>\n",
       "      <td>22.876230</td>\n",
       "      <td>09-12-1995</td>\n",
       "      <td>4300000</td>\n",
       "      <td>98.0</td>\n",
       "      <td>6.5</td>\n",
       "      <td>...</td>\n",
       "      <td>NaN</td>\n",
       "      <td>hotel new year's eve witch bet hotel room</td>\n",
       "      <td>It's Ted the Bellhop's first night on the job....</td>\n",
       "      <td>[{\"name\": \"Miramax Films\", \"id\": 14}, {\"name\":...</td>\n",
       "      <td>[{\"iso_3166_1\": \"US\", \"name\": \"United States o...</td>\n",
       "      <td>[{\"iso_639_1\": \"en\", \"name\": \"English\"}]</td>\n",
       "      <td>Twelve outrageous guests. Four scandalous requ...</td>\n",
       "      <td>Tim Roth Antonio Banderas Jennifer Beals Madon...</td>\n",
       "      <td>[{'name': 'Allison Anders', 'gender': 1, 'depa...</td>\n",
       "      <td>Allison Anders</td>\n",
       "    </tr>\n",
       "    <tr>\n",
       "      <th>1</th>\n",
       "      <td>2</td>\n",
       "      <td>Star Wars</td>\n",
       "      <td>Adventure Action Science Fiction</td>\n",
       "      <td>en</td>\n",
       "      <td>11000000</td>\n",
       "      <td>126.393695</td>\n",
       "      <td>25-05-1977</td>\n",
       "      <td>775398007</td>\n",
       "      <td>121.0</td>\n",
       "      <td>8.1</td>\n",
       "      <td>...</td>\n",
       "      <td>http://www.starwars.com/films/star-wars-episod...</td>\n",
       "      <td>android galaxy hermit death star lightsaber</td>\n",
       "      <td>Princess Leia is captured and held hostage by ...</td>\n",
       "      <td>[{\"name\": \"Lucasfilm\", \"id\": 1}, {\"name\": \"Twe...</td>\n",
       "      <td>[{\"iso_3166_1\": \"US\", \"name\": \"United States o...</td>\n",
       "      <td>[{\"iso_639_1\": \"en\", \"name\": \"English\"}]</td>\n",
       "      <td>A long time ago in a galaxy far, far away...</td>\n",
       "      <td>Mark Hamill Harrison Ford Carrie Fisher Peter ...</td>\n",
       "      <td>[{'name': 'George Lucas', 'gender': 2, 'depart...</td>\n",
       "      <td>George Lucas</td>\n",
       "    </tr>\n",
       "    <tr>\n",
       "      <th>2</th>\n",
       "      <td>3</td>\n",
       "      <td>Finding Nemo</td>\n",
       "      <td>Animation Family</td>\n",
       "      <td>en</td>\n",
       "      <td>94000000</td>\n",
       "      <td>85.688789</td>\n",
       "      <td>30-05-2003</td>\n",
       "      <td>940335536</td>\n",
       "      <td>100.0</td>\n",
       "      <td>7.6</td>\n",
       "      <td>...</td>\n",
       "      <td>http://movies.disney.com/finding-nemo</td>\n",
       "      <td>father son relationship harbor underwater fish...</td>\n",
       "      <td>Nemo, an adventurous young clownfish, is unexp...</td>\n",
       "      <td>[{\"name\": \"Pixar Animation Studios\", \"id\": 3}]</td>\n",
       "      <td>[{\"iso_3166_1\": \"US\", \"name\": \"United States o...</td>\n",
       "      <td>[{\"iso_639_1\": \"en\", \"name\": \"English\"}]</td>\n",
       "      <td>There are 3.7 trillion fish in the ocean, they...</td>\n",
       "      <td>Albert Brooks Ellen DeGeneres Alexander Gould ...</td>\n",
       "      <td>[{'name': 'Andrew Stanton', 'gender': 2, 'depa...</td>\n",
       "      <td>Andrew Stanton</td>\n",
       "    </tr>\n",
       "    <tr>\n",
       "      <th>3</th>\n",
       "      <td>4</td>\n",
       "      <td>Forrest Gump</td>\n",
       "      <td>Comedy Drama Romance</td>\n",
       "      <td>en</td>\n",
       "      <td>55000000</td>\n",
       "      <td>138.133331</td>\n",
       "      <td>06-07-1994</td>\n",
       "      <td>677945399</td>\n",
       "      <td>142.0</td>\n",
       "      <td>8.2</td>\n",
       "      <td>...</td>\n",
       "      <td>NaN</td>\n",
       "      <td>vietnam veteran hippie mentally disabled runni...</td>\n",
       "      <td>A man with a low IQ has accomplished great thi...</td>\n",
       "      <td>[{\"name\": \"Paramount Pictures\", \"id\": 4}]</td>\n",
       "      <td>[{\"iso_3166_1\": \"US\", \"name\": \"United States o...</td>\n",
       "      <td>[{\"iso_639_1\": \"en\", \"name\": \"English\"}]</td>\n",
       "      <td>The world will never be the same, once you've ...</td>\n",
       "      <td>Tom Hanks Robin Wright Gary Sinise Mykelti Wil...</td>\n",
       "      <td>[{'name': 'Alan Silvestri', 'gender': 2, 'depa...</td>\n",
       "      <td>Robert Zemeckis</td>\n",
       "    </tr>\n",
       "    <tr>\n",
       "      <th>4</th>\n",
       "      <td>5</td>\n",
       "      <td>American Beauty</td>\n",
       "      <td>Drama</td>\n",
       "      <td>en</td>\n",
       "      <td>15000000</td>\n",
       "      <td>80.878605</td>\n",
       "      <td>15-09-1999</td>\n",
       "      <td>356296601</td>\n",
       "      <td>122.0</td>\n",
       "      <td>7.9</td>\n",
       "      <td>...</td>\n",
       "      <td>http://www.dreamworks.com/ab/</td>\n",
       "      <td>male nudity female nudity adultery midlife cri...</td>\n",
       "      <td>Lester Burnham, a depressed suburban father in...</td>\n",
       "      <td>[{\"name\": \"DreamWorks SKG\", \"id\": 27}, {\"name\"...</td>\n",
       "      <td>[{\"iso_3166_1\": \"US\", \"name\": \"United States o...</td>\n",
       "      <td>[{\"iso_639_1\": \"en\", \"name\": \"English\"}]</td>\n",
       "      <td>Look closer.</td>\n",
       "      <td>Kevin Spacey Annette Bening Thora Birch Wes Be...</td>\n",
       "      <td>[{'name': 'Thomas Newman', 'gender': 2, 'depar...</td>\n",
       "      <td>Sam Mendes</td>\n",
       "    </tr>\n",
       "  </tbody>\n",
       "</table>\n",
       "<p>5 rows × 21 columns</p>\n",
       "</div>"
      ],
      "text/plain": [
       "   Movie_ID      Movie_Title                       Movie_Genre Movie_Language  \\\n",
       "0         1       Four Rooms                      Crime Comedy             en   \n",
       "1         2        Star Wars  Adventure Action Science Fiction             en   \n",
       "2         3     Finding Nemo                  Animation Family             en   \n",
       "3         4     Forrest Gump              Comedy Drama Romance             en   \n",
       "4         5  American Beauty                             Drama             en   \n",
       "\n",
       "   Movie_Budget  Movie_Popularity Movie_Release_Date  Movie_Revenue  \\\n",
       "0       4000000         22.876230         09-12-1995        4300000   \n",
       "1      11000000        126.393695         25-05-1977      775398007   \n",
       "2      94000000         85.688789         30-05-2003      940335536   \n",
       "3      55000000        138.133331         06-07-1994      677945399   \n",
       "4      15000000         80.878605         15-09-1999      356296601   \n",
       "\n",
       "   Movie_Runtime  Movie_Vote  ...  \\\n",
       "0           98.0         6.5  ...   \n",
       "1          121.0         8.1  ...   \n",
       "2          100.0         7.6  ...   \n",
       "3          142.0         8.2  ...   \n",
       "4          122.0         7.9  ...   \n",
       "\n",
       "                                      Movie_Homepage  \\\n",
       "0                                                NaN   \n",
       "1  http://www.starwars.com/films/star-wars-episod...   \n",
       "2              http://movies.disney.com/finding-nemo   \n",
       "3                                                NaN   \n",
       "4                      http://www.dreamworks.com/ab/   \n",
       "\n",
       "                                      Movie_Keywords  \\\n",
       "0          hotel new year's eve witch bet hotel room   \n",
       "1        android galaxy hermit death star lightsaber   \n",
       "2  father son relationship harbor underwater fish...   \n",
       "3  vietnam veteran hippie mentally disabled runni...   \n",
       "4  male nudity female nudity adultery midlife cri...   \n",
       "\n",
       "                                      Movie_Overview  \\\n",
       "0  It's Ted the Bellhop's first night on the job....   \n",
       "1  Princess Leia is captured and held hostage by ...   \n",
       "2  Nemo, an adventurous young clownfish, is unexp...   \n",
       "3  A man with a low IQ has accomplished great thi...   \n",
       "4  Lester Burnham, a depressed suburban father in...   \n",
       "\n",
       "                              Movie_Production_House  \\\n",
       "0  [{\"name\": \"Miramax Films\", \"id\": 14}, {\"name\":...   \n",
       "1  [{\"name\": \"Lucasfilm\", \"id\": 1}, {\"name\": \"Twe...   \n",
       "2     [{\"name\": \"Pixar Animation Studios\", \"id\": 3}]   \n",
       "3          [{\"name\": \"Paramount Pictures\", \"id\": 4}]   \n",
       "4  [{\"name\": \"DreamWorks SKG\", \"id\": 27}, {\"name\"...   \n",
       "\n",
       "                            Movie_Production_Country  \\\n",
       "0  [{\"iso_3166_1\": \"US\", \"name\": \"United States o...   \n",
       "1  [{\"iso_3166_1\": \"US\", \"name\": \"United States o...   \n",
       "2  [{\"iso_3166_1\": \"US\", \"name\": \"United States o...   \n",
       "3  [{\"iso_3166_1\": \"US\", \"name\": \"United States o...   \n",
       "4  [{\"iso_3166_1\": \"US\", \"name\": \"United States o...   \n",
       "\n",
       "                      Movie_Spoken_Language  \\\n",
       "0  [{\"iso_639_1\": \"en\", \"name\": \"English\"}]   \n",
       "1  [{\"iso_639_1\": \"en\", \"name\": \"English\"}]   \n",
       "2  [{\"iso_639_1\": \"en\", \"name\": \"English\"}]   \n",
       "3  [{\"iso_639_1\": \"en\", \"name\": \"English\"}]   \n",
       "4  [{\"iso_639_1\": \"en\", \"name\": \"English\"}]   \n",
       "\n",
       "                                       Movie_Tagline  \\\n",
       "0  Twelve outrageous guests. Four scandalous requ...   \n",
       "1       A long time ago in a galaxy far, far away...   \n",
       "2  There are 3.7 trillion fish in the ocean, they...   \n",
       "3  The world will never be the same, once you've ...   \n",
       "4                                       Look closer.   \n",
       "\n",
       "                                          Movie_Cast  \\\n",
       "0  Tim Roth Antonio Banderas Jennifer Beals Madon...   \n",
       "1  Mark Hamill Harrison Ford Carrie Fisher Peter ...   \n",
       "2  Albert Brooks Ellen DeGeneres Alexander Gould ...   \n",
       "3  Tom Hanks Robin Wright Gary Sinise Mykelti Wil...   \n",
       "4  Kevin Spacey Annette Bening Thora Birch Wes Be...   \n",
       "\n",
       "                                          Movie_Crew   Movie_Director  \n",
       "0  [{'name': 'Allison Anders', 'gender': 1, 'depa...   Allison Anders  \n",
       "1  [{'name': 'George Lucas', 'gender': 2, 'depart...     George Lucas  \n",
       "2  [{'name': 'Andrew Stanton', 'gender': 2, 'depa...   Andrew Stanton  \n",
       "3  [{'name': 'Alan Silvestri', 'gender': 2, 'depa...  Robert Zemeckis  \n",
       "4  [{'name': 'Thomas Newman', 'gender': 2, 'depar...       Sam Mendes  \n",
       "\n",
       "[5 rows x 21 columns]"
      ]
     },
     "execution_count": 27,
     "metadata": {},
     "output_type": "execute_result"
    }
   ],
   "source": [
    "dataset.head()"
   ]
  },
  {
   "cell_type": "markdown",
   "id": "4cc2cbd1-9481-4a5b-80a0-e248b7f51b57",
   "metadata": {},
   "source": [
    "# Describe Data"
   ]
  },
  {
   "cell_type": "code",
   "execution_count": 28,
   "id": "7ae6d9c3-301c-4094-b23c-124ea703c4dd",
   "metadata": {},
   "outputs": [
    {
     "data": {
      "text/html": [
       "<div>\n",
       "<style scoped>\n",
       "    .dataframe tbody tr th:only-of-type {\n",
       "        vertical-align: middle;\n",
       "    }\n",
       "\n",
       "    .dataframe tbody tr th {\n",
       "        vertical-align: top;\n",
       "    }\n",
       "\n",
       "    .dataframe thead th {\n",
       "        text-align: right;\n",
       "    }\n",
       "</style>\n",
       "<table border=\"1\" class=\"dataframe\">\n",
       "  <thead>\n",
       "    <tr style=\"text-align: right;\">\n",
       "      <th></th>\n",
       "      <th>Movie_ID</th>\n",
       "      <th>Movie_Budget</th>\n",
       "      <th>Movie_Popularity</th>\n",
       "      <th>Movie_Revenue</th>\n",
       "      <th>Movie_Runtime</th>\n",
       "      <th>Movie_Vote</th>\n",
       "      <th>Movie_Vote_Count</th>\n",
       "    </tr>\n",
       "  </thead>\n",
       "  <tbody>\n",
       "    <tr>\n",
       "      <th>count</th>\n",
       "      <td>4760.000000</td>\n",
       "      <td>4.760000e+03</td>\n",
       "      <td>4760.000000</td>\n",
       "      <td>4.760000e+03</td>\n",
       "      <td>4758.000000</td>\n",
       "      <td>4760.000000</td>\n",
       "      <td>4760.000000</td>\n",
       "    </tr>\n",
       "    <tr>\n",
       "      <th>mean</th>\n",
       "      <td>2382.566387</td>\n",
       "      <td>2.920129e+07</td>\n",
       "      <td>21.599510</td>\n",
       "      <td>8.263743e+07</td>\n",
       "      <td>107.184111</td>\n",
       "      <td>6.113866</td>\n",
       "      <td>692.508403</td>\n",
       "    </tr>\n",
       "    <tr>\n",
       "      <th>std</th>\n",
       "      <td>1377.270159</td>\n",
       "      <td>4.075620e+07</td>\n",
       "      <td>31.887919</td>\n",
       "      <td>1.630554e+08</td>\n",
       "      <td>21.960332</td>\n",
       "      <td>1.141294</td>\n",
       "      <td>1235.007337</td>\n",
       "    </tr>\n",
       "    <tr>\n",
       "      <th>min</th>\n",
       "      <td>1.000000</td>\n",
       "      <td>0.000000e+00</td>\n",
       "      <td>0.000372</td>\n",
       "      <td>0.000000e+00</td>\n",
       "      <td>0.000000</td>\n",
       "      <td>0.000000</td>\n",
       "      <td>0.000000</td>\n",
       "    </tr>\n",
       "    <tr>\n",
       "      <th>25%</th>\n",
       "      <td>1190.750000</td>\n",
       "      <td>9.257500e+05</td>\n",
       "      <td>4.807074</td>\n",
       "      <td>0.000000e+00</td>\n",
       "      <td>94.000000</td>\n",
       "      <td>5.600000</td>\n",
       "      <td>55.000000</td>\n",
       "    </tr>\n",
       "    <tr>\n",
       "      <th>50%</th>\n",
       "      <td>2380.500000</td>\n",
       "      <td>1.500000e+07</td>\n",
       "      <td>13.119058</td>\n",
       "      <td>1.944716e+07</td>\n",
       "      <td>104.000000</td>\n",
       "      <td>6.200000</td>\n",
       "      <td>238.000000</td>\n",
       "    </tr>\n",
       "    <tr>\n",
       "      <th>75%</th>\n",
       "      <td>3572.250000</td>\n",
       "      <td>4.000000e+07</td>\n",
       "      <td>28.411929</td>\n",
       "      <td>9.341276e+07</td>\n",
       "      <td>118.000000</td>\n",
       "      <td>6.800000</td>\n",
       "      <td>740.250000</td>\n",
       "    </tr>\n",
       "    <tr>\n",
       "      <th>max</th>\n",
       "      <td>4788.000000</td>\n",
       "      <td>3.800000e+08</td>\n",
       "      <td>875.581305</td>\n",
       "      <td>2.787965e+09</td>\n",
       "      <td>338.000000</td>\n",
       "      <td>10.000000</td>\n",
       "      <td>13752.000000</td>\n",
       "    </tr>\n",
       "  </tbody>\n",
       "</table>\n",
       "</div>"
      ],
      "text/plain": [
       "          Movie_ID  Movie_Budget  Movie_Popularity  Movie_Revenue  \\\n",
       "count  4760.000000  4.760000e+03       4760.000000   4.760000e+03   \n",
       "mean   2382.566387  2.920129e+07         21.599510   8.263743e+07   \n",
       "std    1377.270159  4.075620e+07         31.887919   1.630554e+08   \n",
       "min       1.000000  0.000000e+00          0.000372   0.000000e+00   \n",
       "25%    1190.750000  9.257500e+05          4.807074   0.000000e+00   \n",
       "50%    2380.500000  1.500000e+07         13.119058   1.944716e+07   \n",
       "75%    3572.250000  4.000000e+07         28.411929   9.341276e+07   \n",
       "max    4788.000000  3.800000e+08        875.581305   2.787965e+09   \n",
       "\n",
       "       Movie_Runtime   Movie_Vote  Movie_Vote_Count  \n",
       "count    4758.000000  4760.000000       4760.000000  \n",
       "mean      107.184111     6.113866        692.508403  \n",
       "std        21.960332     1.141294       1235.007337  \n",
       "min         0.000000     0.000000          0.000000  \n",
       "25%        94.000000     5.600000         55.000000  \n",
       "50%       104.000000     6.200000        238.000000  \n",
       "75%       118.000000     6.800000        740.250000  \n",
       "max       338.000000    10.000000      13752.000000  "
      ]
     },
     "execution_count": 28,
     "metadata": {},
     "output_type": "execute_result"
    }
   ],
   "source": [
    "dataset.describe()"
   ]
  },
  {
   "cell_type": "code",
   "execution_count": 29,
   "id": "a4507815-b841-4b30-8c32-623e2d2a993c",
   "metadata": {},
   "outputs": [
    {
     "name": "stdout",
     "output_type": "stream",
     "text": [
      "<class 'pandas.core.frame.DataFrame'>\n",
      "RangeIndex: 4760 entries, 0 to 4759\n",
      "Data columns (total 21 columns):\n",
      " #   Column                    Non-Null Count  Dtype  \n",
      "---  ------                    --------------  -----  \n",
      " 0   Movie_ID                  4760 non-null   int64  \n",
      " 1   Movie_Title               4760 non-null   object \n",
      " 2   Movie_Genre               4760 non-null   object \n",
      " 3   Movie_Language            4760 non-null   object \n",
      " 4   Movie_Budget              4760 non-null   int64  \n",
      " 5   Movie_Popularity          4760 non-null   float64\n",
      " 6   Movie_Release_Date        4760 non-null   object \n",
      " 7   Movie_Revenue             4760 non-null   int64  \n",
      " 8   Movie_Runtime             4758 non-null   float64\n",
      " 9   Movie_Vote                4760 non-null   float64\n",
      " 10  Movie_Vote_Count          4760 non-null   int64  \n",
      " 11  Movie_Homepage            1699 non-null   object \n",
      " 12  Movie_Keywords            4373 non-null   object \n",
      " 13  Movie_Overview            4757 non-null   object \n",
      " 14  Movie_Production_House    4760 non-null   object \n",
      " 15  Movie_Production_Country  4760 non-null   object \n",
      " 16  Movie_Spoken_Language     4760 non-null   object \n",
      " 17  Movie_Tagline             3942 non-null   object \n",
      " 18  Movie_Cast                4733 non-null   object \n",
      " 19  Movie_Crew                4760 non-null   object \n",
      " 20  Movie_Director            4738 non-null   object \n",
      "dtypes: float64(3), int64(4), object(14)\n",
      "memory usage: 781.1+ KB\n"
     ]
    }
   ],
   "source": [
    "dataset.info()"
   ]
  },
  {
   "cell_type": "code",
   "execution_count": 32,
   "id": "d8d375ae-5022-4131-b54a-88a3a6e81839",
   "metadata": {},
   "outputs": [
    {
     "data": {
      "text/plain": [
       "Index(['Movie_ID', 'Movie_Title', 'Movie_Genre', 'Movie_Language',\n",
       "       'Movie_Budget', 'Movie_Popularity', 'Movie_Release_Date',\n",
       "       'Movie_Revenue', 'Movie_Runtime', 'Movie_Vote', 'Movie_Vote_Count',\n",
       "       'Movie_Homepage', 'Movie_Keywords', 'Movie_Overview',\n",
       "       'Movie_Production_House', 'Movie_Production_Country',\n",
       "       'Movie_Spoken_Language', 'Movie_Tagline', 'Movie_Cast', 'Movie_Crew',\n",
       "       'Movie_Director'],\n",
       "      dtype='object')"
      ]
     },
     "execution_count": 32,
     "metadata": {},
     "output_type": "execute_result"
    }
   ],
   "source": [
    "dataset.columns"
   ]
  },
  {
   "cell_type": "code",
   "execution_count": null,
   "id": "84e13183-743c-4978-8069-d9149bedb838",
   "metadata": {},
   "outputs": [],
   "source": []
  },
  {
   "cell_type": "code",
   "execution_count": 33,
   "id": "06b797f6-8a1f-4408-8e10-306c5598aae3",
   "metadata": {},
   "outputs": [
    {
     "data": {
      "text/plain": [
       "(4760, 21)"
      ]
     },
     "execution_count": 33,
     "metadata": {},
     "output_type": "execute_result"
    }
   ],
   "source": [
    "dataset.shape"
   ]
  },
  {
   "cell_type": "markdown",
   "id": "d3ef58b6-8a5e-40b7-8f1f-7d0dfd04bd76",
   "metadata": {},
   "source": [
    "# Feature Selection"
   ]
  },
  {
   "cell_type": "code",
   "execution_count": 38,
   "id": "87673592-d434-4170-8838-ce3357437910",
   "metadata": {},
   "outputs": [
    {
     "data": {
      "text/plain": [
       "Movie_ID                       0\n",
       "Movie_Title                    0\n",
       "Movie_Genre                    0\n",
       "Movie_Language                 0\n",
       "Movie_Budget                   0\n",
       "Movie_Popularity               0\n",
       "Movie_Release_Date             0\n",
       "Movie_Revenue                  0\n",
       "Movie_Runtime                  2\n",
       "Movie_Vote                     0\n",
       "Movie_Vote_Count               0\n",
       "Movie_Homepage              3061\n",
       "Movie_Keywords               387\n",
       "Movie_Overview                 3\n",
       "Movie_Production_House         0\n",
       "Movie_Production_Country       0\n",
       "Movie_Spoken_Language          0\n",
       "Movie_Tagline                818\n",
       "Movie_Cast                    27\n",
       "Movie_Crew                     0\n",
       "Movie_Director                22\n",
       "dtype: int64"
      ]
     },
     "execution_count": 38,
     "metadata": {},
     "output_type": "execute_result"
    }
   ],
   "source": [
    "dataset.isna().sum()"
   ]
  },
  {
   "cell_type": "code",
   "execution_count": 44,
   "id": "7dd42d81-b50e-45fa-916e-71c49637d25e",
   "metadata": {},
   "outputs": [],
   "source": [
    "df = dataset[['Movie_Homepage','Movie_Keywords','Movie_Tagline','Movie_Director']].fillna(' ')"
   ]
  },
  {
   "cell_type": "code",
   "execution_count": 45,
   "id": "03c2cd44-79ff-47bb-a15d-313df422460a",
   "metadata": {},
   "outputs": [
    {
     "data": {
      "text/plain": [
       "(4760, 4)"
      ]
     },
     "execution_count": 45,
     "metadata": {},
     "output_type": "execute_result"
    }
   ],
   "source": [
    "df.shape"
   ]
  },
  {
   "cell_type": "code",
   "execution_count": 47,
   "id": "d8077fb6-08f9-4f9c-8ded-a31cf6191faa",
   "metadata": {},
   "outputs": [
    {
     "data": {
      "text/html": [
       "<div>\n",
       "<style scoped>\n",
       "    .dataframe tbody tr th:only-of-type {\n",
       "        vertical-align: middle;\n",
       "    }\n",
       "\n",
       "    .dataframe tbody tr th {\n",
       "        vertical-align: top;\n",
       "    }\n",
       "\n",
       "    .dataframe thead th {\n",
       "        text-align: right;\n",
       "    }\n",
       "</style>\n",
       "<table border=\"1\" class=\"dataframe\">\n",
       "  <thead>\n",
       "    <tr style=\"text-align: right;\">\n",
       "      <th></th>\n",
       "      <th>Movie_Homepage</th>\n",
       "      <th>Movie_Keywords</th>\n",
       "      <th>Movie_Tagline</th>\n",
       "      <th>Movie_Director</th>\n",
       "    </tr>\n",
       "  </thead>\n",
       "  <tbody>\n",
       "    <tr>\n",
       "      <th>0</th>\n",
       "      <td></td>\n",
       "      <td>hotel new year's eve witch bet hotel room</td>\n",
       "      <td>Twelve outrageous guests. Four scandalous requ...</td>\n",
       "      <td>Allison Anders</td>\n",
       "    </tr>\n",
       "    <tr>\n",
       "      <th>1</th>\n",
       "      <td>http://www.starwars.com/films/star-wars-episod...</td>\n",
       "      <td>android galaxy hermit death star lightsaber</td>\n",
       "      <td>A long time ago in a galaxy far, far away...</td>\n",
       "      <td>George Lucas</td>\n",
       "    </tr>\n",
       "    <tr>\n",
       "      <th>2</th>\n",
       "      <td>http://movies.disney.com/finding-nemo</td>\n",
       "      <td>father son relationship harbor underwater fish...</td>\n",
       "      <td>There are 3.7 trillion fish in the ocean, they...</td>\n",
       "      <td>Andrew Stanton</td>\n",
       "    </tr>\n",
       "    <tr>\n",
       "      <th>3</th>\n",
       "      <td></td>\n",
       "      <td>vietnam veteran hippie mentally disabled runni...</td>\n",
       "      <td>The world will never be the same, once you've ...</td>\n",
       "      <td>Robert Zemeckis</td>\n",
       "    </tr>\n",
       "    <tr>\n",
       "      <th>4</th>\n",
       "      <td>http://www.dreamworks.com/ab/</td>\n",
       "      <td>male nudity female nudity adultery midlife cri...</td>\n",
       "      <td>Look closer.</td>\n",
       "      <td>Sam Mendes</td>\n",
       "    </tr>\n",
       "    <tr>\n",
       "      <th>...</th>\n",
       "      <td>...</td>\n",
       "      <td>...</td>\n",
       "      <td>...</td>\n",
       "      <td>...</td>\n",
       "    </tr>\n",
       "    <tr>\n",
       "      <th>4755</th>\n",
       "      <td></td>\n",
       "      <td></td>\n",
       "      <td>The hot spot where Satan's waitin'.</td>\n",
       "      <td>Pece Dingo</td>\n",
       "    </tr>\n",
       "    <tr>\n",
       "      <th>4756</th>\n",
       "      <td>http://www.growingupsmithmovie.com</td>\n",
       "      <td></td>\n",
       "      <td>It’s better to stand out than to fit in.</td>\n",
       "      <td>Frank Lotito</td>\n",
       "    </tr>\n",
       "    <tr>\n",
       "      <th>4757</th>\n",
       "      <td></td>\n",
       "      <td>christian film sex trafficking</td>\n",
       "      <td>She never knew it could happen to her...</td>\n",
       "      <td>Jaco Booyens</td>\n",
       "    </tr>\n",
       "    <tr>\n",
       "      <th>4758</th>\n",
       "      <td></td>\n",
       "      <td></td>\n",
       "      <td></td>\n",
       "      <td></td>\n",
       "    </tr>\n",
       "    <tr>\n",
       "      <th>4759</th>\n",
       "      <td></td>\n",
       "      <td>music actors legendary perfomer classic hollyw...</td>\n",
       "      <td></td>\n",
       "      <td>Simon Napier-Bell</td>\n",
       "    </tr>\n",
       "  </tbody>\n",
       "</table>\n",
       "<p>4760 rows × 4 columns</p>\n",
       "</div>"
      ],
      "text/plain": [
       "                                         Movie_Homepage  \\\n",
       "0                                                         \n",
       "1     http://www.starwars.com/films/star-wars-episod...   \n",
       "2                 http://movies.disney.com/finding-nemo   \n",
       "3                                                         \n",
       "4                         http://www.dreamworks.com/ab/   \n",
       "...                                                 ...   \n",
       "4755                                                      \n",
       "4756                 http://www.growingupsmithmovie.com   \n",
       "4757                                                      \n",
       "4758                                                      \n",
       "4759                                                      \n",
       "\n",
       "                                         Movie_Keywords  \\\n",
       "0             hotel new year's eve witch bet hotel room   \n",
       "1           android galaxy hermit death star lightsaber   \n",
       "2     father son relationship harbor underwater fish...   \n",
       "3     vietnam veteran hippie mentally disabled runni...   \n",
       "4     male nudity female nudity adultery midlife cri...   \n",
       "...                                                 ...   \n",
       "4755                                                      \n",
       "4756                                                      \n",
       "4757                     christian film sex trafficking   \n",
       "4758                                                      \n",
       "4759  music actors legendary perfomer classic hollyw...   \n",
       "\n",
       "                                          Movie_Tagline     Movie_Director  \n",
       "0     Twelve outrageous guests. Four scandalous requ...     Allison Anders  \n",
       "1          A long time ago in a galaxy far, far away...       George Lucas  \n",
       "2     There are 3.7 trillion fish in the ocean, they...     Andrew Stanton  \n",
       "3     The world will never be the same, once you've ...    Robert Zemeckis  \n",
       "4                                          Look closer.         Sam Mendes  \n",
       "...                                                 ...                ...  \n",
       "4755                The hot spot where Satan's waitin'.         Pece Dingo  \n",
       "4756           It’s better to stand out than to fit in.       Frank Lotito  \n",
       "4757           She never knew it could happen to her...       Jaco Booyens  \n",
       "4758                                                                        \n",
       "4759                                                     Simon Napier-Bell  \n",
       "\n",
       "[4760 rows x 4 columns]"
      ]
     },
     "execution_count": 47,
     "metadata": {},
     "output_type": "execute_result"
    }
   ],
   "source": [
    "df"
   ]
  },
  {
   "cell_type": "code",
   "execution_count": null,
   "id": "3674d372-a755-47ae-a8bc-da8b2d00caff",
   "metadata": {},
   "outputs": [],
   "source": []
  },
  {
   "cell_type": "markdown",
   "id": "af00b8d8-948d-4da5-8897-ac71248017ae",
   "metadata": {},
   "source": [
    "# PreProcessing the data"
   ]
  },
  {
   "cell_type": "code",
   "execution_count": 48,
   "id": "6acf70f5-4ac9-4aa6-9f14-ac0358cbd251",
   "metadata": {},
   "outputs": [],
   "source": [
    "x =df['combined_features'] = df['Movie_Keywords'] + \" \" + df['Movie_Tagline'] + \" \" + df['Movie_Director']"
   ]
  },
  {
   "cell_type": "code",
   "execution_count": 49,
   "id": "5ca10388-77bb-4538-9036-f3e704bd0523",
   "metadata": {},
   "outputs": [
    {
     "data": {
      "text/plain": [
       "(4760,)"
      ]
     },
     "execution_count": 49,
     "metadata": {},
     "output_type": "execute_result"
    }
   ],
   "source": [
    "x.shape"
   ]
  },
  {
   "cell_type": "markdown",
   "id": "3c4f67d8-2737-4f9f-902e-0b71f5202c95",
   "metadata": {},
   "source": [
    "# Features text conversion to tokens "
   ]
  },
  {
   "cell_type": "code",
   "execution_count": 51,
   "id": "bd5385f0-3a4e-4e89-8771-4ca746c119b8",
   "metadata": {},
   "outputs": [],
   "source": [
    "from sklearn.feature_extraction.text import TfidfVectorizer\n",
    "\n",
    "\n",
    "x\n",
    "# Create the TF-IDF Vectorizer\n",
    "tfidf = TfidfVectorizer(stop_words='english')\n",
    "\n",
    "x= tfidf.fit_transform(x)\n",
    "\n"
   ]
  },
  {
   "cell_type": "code",
   "execution_count": 52,
   "id": "0d923beb-c7d8-4a9f-b818-95defc0e565e",
   "metadata": {},
   "outputs": [
    {
     "data": {
      "text/plain": [
       "(4760, 9428)"
      ]
     },
     "execution_count": 52,
     "metadata": {},
     "output_type": "execute_result"
    }
   ],
   "source": [
    "x.shape"
   ]
  },
  {
   "cell_type": "code",
   "execution_count": 53,
   "id": "47a5b8b6-79a8-4476-bd59-6df2a7a4debd",
   "metadata": {},
   "outputs": [
    {
     "name": "stdout",
     "output_type": "stream",
     "text": [
      "<Compressed Sparse Row sparse matrix of dtype 'float64'\n",
      "\twith 48872 stored elements and shape (4760, 9428)>\n",
      "  Coords\tValues\n",
      "  (0, 4018)\t0.3068132593360634\n",
      "  (0, 5816)\t0.2152648886008731\n",
      "  (0, 9349)\t0.3181954951242992\n",
      "  (0, 2809)\t0.3875759476501644\n",
      "  (0, 9249)\t0.1557914953947516\n",
      "  (0, 872)\t0.19140310809836236\n",
      "  (0, 7087)\t0.17880794019537652\n",
      "  (0, 6060)\t0.22939958652869302\n",
      "  (0, 3639)\t0.22939958652869302\n",
      "  (0, 7290)\t0.24051284404929485\n",
      "  (0, 6905)\t0.24051284404929485\n",
      "  (0, 4996)\t0.19140310809836236\n",
      "  (0, 829)\t0.24051284404929485\n",
      "  (0, 2152)\t0.15517554440584264\n",
      "  (0, 4415)\t0.1628582472081216\n",
      "  (0, 9198)\t0.21539853787737698\n",
      "  (0, 4914)\t0.10576294719102743\n",
      "  (0, 309)\t0.22151460483412952\n",
      "  (0, 359)\t0.206176282893338\n",
      "  (1, 368)\t0.2202017362351626\n",
      "  (1, 3329)\t0.5305260154698688\n",
      "  (1, 3866)\t0.2961912417795474\n",
      "  (1, 2176)\t0.15942836859432374\n",
      "  (1, 7904)\t0.1882240787706274\n",
      "  (1, 4923)\t0.2825052801908669\n",
      "  :\t:\n",
      "  (4755, 2375)\t0.4234650402678372\n",
      "  (4756, 876)\t0.4252680315008536\n",
      "  (4756, 3234)\t0.36729721631903256\n",
      "  (4756, 7898)\t0.37898305406900634\n",
      "  (4756, 3110)\t0.47358077705858415\n",
      "  (4756, 5029)\t0.562434839423017\n",
      "  (4757, 4654)\t0.3704455885854537\n",
      "  (4757, 3074)\t0.19672232905875484\n",
      "  (4757, 7460)\t0.2355113090039774\n",
      "  (4757, 3735)\t0.3430133946334929\n",
      "  (4757, 1593)\t0.3056807807207994\n",
      "  (4757, 8525)\t0.3819815691264964\n",
      "  (4757, 4314)\t0.45364962621284005\n",
      "  (4757, 1040)\t0.45364962621284005\n",
      "  (4759, 5690)\t0.2085041537142961\n",
      "  (4759, 3234)\t0.23015146069573658\n",
      "  (4759, 7611)\t0.2579898043222802\n",
      "  (4759, 3957)\t0.27427419142599796\n",
      "  (4759, 828)\t0.30211253505254154\n",
      "  (4759, 1645)\t0.29201918459392684\n",
      "  (4759, 4837)\t0.31562601387284955\n",
      "  (4759, 163)\t0.3361419153241883\n",
      "  (4759, 6258)\t0.35242630242790607\n",
      "  (4759, 7620)\t0.35242630242790607\n",
      "  (4759, 5740)\t0.35242630242790607\n"
     ]
    }
   ],
   "source": [
    "print(x)"
   ]
  },
  {
   "cell_type": "code",
   "execution_count": null,
   "id": "319e7703-345a-47b8-bff2-d72fd0f1b74f",
   "metadata": {},
   "outputs": [],
   "source": []
  },
  {
   "cell_type": "markdown",
   "id": "f3f3d92c-5bb6-4102-af19-7ef1f07a2600",
   "metadata": {},
   "source": [
    "# Get Similarity Score Using Cosine Similarity"
   ]
  },
  {
   "cell_type": "code",
   "execution_count": 55,
   "id": "b4378ee1-5187-42af-9ee5-483fe409a908",
   "metadata": {},
   "outputs": [],
   "source": [
    "#we need to calculate the similarity between movies based on the content in the x.\n",
    "#Cosine similarity is commonly used to measure the similarity between vectors."
   ]
  },
  {
   "cell_type": "code",
   "execution_count": 56,
   "id": "085957bc-d299-4ded-9ccf-0b59339ccc61",
   "metadata": {},
   "outputs": [],
   "source": [
    "from sklearn.metrics.pairwise import cosine_similarity\n",
    "\n",
    "# Calculate the cosine similarity matrix\n",
    "cosine_sim = cosine_similarity(x)\n",
    "\n",
    "# Convert the similarity matrix into a DataFrame for easier indexing\n",
    "cosine_sim_df = pd.DataFrame(cosine_sim, index=df.index, columns=df.index)\n"
   ]
  },
  {
   "cell_type": "code",
   "execution_count": 57,
   "id": "89b1a5af-b5bb-4f62-883b-d03ff595a2ed",
   "metadata": {},
   "outputs": [
    {
     "data": {
      "text/html": [
       "<div>\n",
       "<style scoped>\n",
       "    .dataframe tbody tr th:only-of-type {\n",
       "        vertical-align: middle;\n",
       "    }\n",
       "\n",
       "    .dataframe tbody tr th {\n",
       "        vertical-align: top;\n",
       "    }\n",
       "\n",
       "    .dataframe thead th {\n",
       "        text-align: right;\n",
       "    }\n",
       "</style>\n",
       "<table border=\"1\" class=\"dataframe\">\n",
       "  <thead>\n",
       "    <tr style=\"text-align: right;\">\n",
       "      <th></th>\n",
       "      <th>0</th>\n",
       "      <th>1</th>\n",
       "      <th>2</th>\n",
       "      <th>3</th>\n",
       "      <th>4</th>\n",
       "      <th>5</th>\n",
       "      <th>6</th>\n",
       "      <th>7</th>\n",
       "      <th>8</th>\n",
       "      <th>9</th>\n",
       "      <th>...</th>\n",
       "      <th>4750</th>\n",
       "      <th>4751</th>\n",
       "      <th>4752</th>\n",
       "      <th>4753</th>\n",
       "      <th>4754</th>\n",
       "      <th>4755</th>\n",
       "      <th>4756</th>\n",
       "      <th>4757</th>\n",
       "      <th>4758</th>\n",
       "      <th>4759</th>\n",
       "    </tr>\n",
       "  </thead>\n",
       "  <tbody>\n",
       "    <tr>\n",
       "      <th>0</th>\n",
       "      <td>1.0</td>\n",
       "      <td>0.0</td>\n",
       "      <td>0.0</td>\n",
       "      <td>0.0</td>\n",
       "      <td>0.0</td>\n",
       "      <td>0.000000</td>\n",
       "      <td>0.0</td>\n",
       "      <td>0.000000</td>\n",
       "      <td>0.000000</td>\n",
       "      <td>0.0</td>\n",
       "      <td>...</td>\n",
       "      <td>0.0</td>\n",
       "      <td>0.0</td>\n",
       "      <td>0.0</td>\n",
       "      <td>0.0</td>\n",
       "      <td>0.0</td>\n",
       "      <td>0.0</td>\n",
       "      <td>0.000000</td>\n",
       "      <td>0.0</td>\n",
       "      <td>0.0</td>\n",
       "      <td>0.000000</td>\n",
       "    </tr>\n",
       "    <tr>\n",
       "      <th>1</th>\n",
       "      <td>0.0</td>\n",
       "      <td>1.0</td>\n",
       "      <td>0.0</td>\n",
       "      <td>0.0</td>\n",
       "      <td>0.0</td>\n",
       "      <td>0.000000</td>\n",
       "      <td>0.0</td>\n",
       "      <td>0.000000</td>\n",
       "      <td>0.035926</td>\n",
       "      <td>0.0</td>\n",
       "      <td>...</td>\n",
       "      <td>0.0</td>\n",
       "      <td>0.0</td>\n",
       "      <td>0.0</td>\n",
       "      <td>0.0</td>\n",
       "      <td>0.0</td>\n",
       "      <td>0.0</td>\n",
       "      <td>0.000000</td>\n",
       "      <td>0.0</td>\n",
       "      <td>0.0</td>\n",
       "      <td>0.000000</td>\n",
       "    </tr>\n",
       "    <tr>\n",
       "      <th>2</th>\n",
       "      <td>0.0</td>\n",
       "      <td>0.0</td>\n",
       "      <td>1.0</td>\n",
       "      <td>0.0</td>\n",
       "      <td>0.0</td>\n",
       "      <td>0.000000</td>\n",
       "      <td>0.0</td>\n",
       "      <td>0.000000</td>\n",
       "      <td>0.000000</td>\n",
       "      <td>0.0</td>\n",
       "      <td>...</td>\n",
       "      <td>0.0</td>\n",
       "      <td>0.0</td>\n",
       "      <td>0.0</td>\n",
       "      <td>0.0</td>\n",
       "      <td>0.0</td>\n",
       "      <td>0.0</td>\n",
       "      <td>0.000000</td>\n",
       "      <td>0.0</td>\n",
       "      <td>0.0</td>\n",
       "      <td>0.000000</td>\n",
       "    </tr>\n",
       "    <tr>\n",
       "      <th>3</th>\n",
       "      <td>0.0</td>\n",
       "      <td>0.0</td>\n",
       "      <td>0.0</td>\n",
       "      <td>1.0</td>\n",
       "      <td>0.0</td>\n",
       "      <td>0.077694</td>\n",
       "      <td>0.0</td>\n",
       "      <td>0.020103</td>\n",
       "      <td>0.000000</td>\n",
       "      <td>0.0</td>\n",
       "      <td>...</td>\n",
       "      <td>0.0</td>\n",
       "      <td>0.0</td>\n",
       "      <td>0.0</td>\n",
       "      <td>0.0</td>\n",
       "      <td>0.0</td>\n",
       "      <td>0.0</td>\n",
       "      <td>0.000000</td>\n",
       "      <td>0.0</td>\n",
       "      <td>0.0</td>\n",
       "      <td>0.000000</td>\n",
       "    </tr>\n",
       "    <tr>\n",
       "      <th>4</th>\n",
       "      <td>0.0</td>\n",
       "      <td>0.0</td>\n",
       "      <td>0.0</td>\n",
       "      <td>0.0</td>\n",
       "      <td>1.0</td>\n",
       "      <td>0.000000</td>\n",
       "      <td>0.0</td>\n",
       "      <td>0.000000</td>\n",
       "      <td>0.000000</td>\n",
       "      <td>0.0</td>\n",
       "      <td>...</td>\n",
       "      <td>0.0</td>\n",
       "      <td>0.0</td>\n",
       "      <td>0.0</td>\n",
       "      <td>0.0</td>\n",
       "      <td>0.0</td>\n",
       "      <td>0.0</td>\n",
       "      <td>0.000000</td>\n",
       "      <td>0.0</td>\n",
       "      <td>0.0</td>\n",
       "      <td>0.000000</td>\n",
       "    </tr>\n",
       "    <tr>\n",
       "      <th>...</th>\n",
       "      <td>...</td>\n",
       "      <td>...</td>\n",
       "      <td>...</td>\n",
       "      <td>...</td>\n",
       "      <td>...</td>\n",
       "      <td>...</td>\n",
       "      <td>...</td>\n",
       "      <td>...</td>\n",
       "      <td>...</td>\n",
       "      <td>...</td>\n",
       "      <td>...</td>\n",
       "      <td>...</td>\n",
       "      <td>...</td>\n",
       "      <td>...</td>\n",
       "      <td>...</td>\n",
       "      <td>...</td>\n",
       "      <td>...</td>\n",
       "      <td>...</td>\n",
       "      <td>...</td>\n",
       "      <td>...</td>\n",
       "      <td>...</td>\n",
       "    </tr>\n",
       "    <tr>\n",
       "      <th>4755</th>\n",
       "      <td>0.0</td>\n",
       "      <td>0.0</td>\n",
       "      <td>0.0</td>\n",
       "      <td>0.0</td>\n",
       "      <td>0.0</td>\n",
       "      <td>0.000000</td>\n",
       "      <td>0.0</td>\n",
       "      <td>0.000000</td>\n",
       "      <td>0.000000</td>\n",
       "      <td>0.0</td>\n",
       "      <td>...</td>\n",
       "      <td>0.0</td>\n",
       "      <td>0.0</td>\n",
       "      <td>0.0</td>\n",
       "      <td>0.0</td>\n",
       "      <td>0.0</td>\n",
       "      <td>1.0</td>\n",
       "      <td>0.000000</td>\n",
       "      <td>0.0</td>\n",
       "      <td>0.0</td>\n",
       "      <td>0.000000</td>\n",
       "    </tr>\n",
       "    <tr>\n",
       "      <th>4756</th>\n",
       "      <td>0.0</td>\n",
       "      <td>0.0</td>\n",
       "      <td>0.0</td>\n",
       "      <td>0.0</td>\n",
       "      <td>0.0</td>\n",
       "      <td>0.000000</td>\n",
       "      <td>0.0</td>\n",
       "      <td>0.000000</td>\n",
       "      <td>0.000000</td>\n",
       "      <td>0.0</td>\n",
       "      <td>...</td>\n",
       "      <td>0.0</td>\n",
       "      <td>0.0</td>\n",
       "      <td>0.0</td>\n",
       "      <td>0.0</td>\n",
       "      <td>0.0</td>\n",
       "      <td>0.0</td>\n",
       "      <td>1.000000</td>\n",
       "      <td>0.0</td>\n",
       "      <td>0.0</td>\n",
       "      <td>0.084534</td>\n",
       "    </tr>\n",
       "    <tr>\n",
       "      <th>4757</th>\n",
       "      <td>0.0</td>\n",
       "      <td>0.0</td>\n",
       "      <td>0.0</td>\n",
       "      <td>0.0</td>\n",
       "      <td>0.0</td>\n",
       "      <td>0.000000</td>\n",
       "      <td>0.0</td>\n",
       "      <td>0.000000</td>\n",
       "      <td>0.000000</td>\n",
       "      <td>0.0</td>\n",
       "      <td>...</td>\n",
       "      <td>0.0</td>\n",
       "      <td>0.0</td>\n",
       "      <td>0.0</td>\n",
       "      <td>0.0</td>\n",
       "      <td>0.0</td>\n",
       "      <td>0.0</td>\n",
       "      <td>0.000000</td>\n",
       "      <td>1.0</td>\n",
       "      <td>0.0</td>\n",
       "      <td>0.000000</td>\n",
       "    </tr>\n",
       "    <tr>\n",
       "      <th>4758</th>\n",
       "      <td>0.0</td>\n",
       "      <td>0.0</td>\n",
       "      <td>0.0</td>\n",
       "      <td>0.0</td>\n",
       "      <td>0.0</td>\n",
       "      <td>0.000000</td>\n",
       "      <td>0.0</td>\n",
       "      <td>0.000000</td>\n",
       "      <td>0.000000</td>\n",
       "      <td>0.0</td>\n",
       "      <td>...</td>\n",
       "      <td>0.0</td>\n",
       "      <td>0.0</td>\n",
       "      <td>0.0</td>\n",
       "      <td>0.0</td>\n",
       "      <td>0.0</td>\n",
       "      <td>0.0</td>\n",
       "      <td>0.000000</td>\n",
       "      <td>0.0</td>\n",
       "      <td>0.0</td>\n",
       "      <td>0.000000</td>\n",
       "    </tr>\n",
       "    <tr>\n",
       "      <th>4759</th>\n",
       "      <td>0.0</td>\n",
       "      <td>0.0</td>\n",
       "      <td>0.0</td>\n",
       "      <td>0.0</td>\n",
       "      <td>0.0</td>\n",
       "      <td>0.000000</td>\n",
       "      <td>0.0</td>\n",
       "      <td>0.000000</td>\n",
       "      <td>0.000000</td>\n",
       "      <td>0.0</td>\n",
       "      <td>...</td>\n",
       "      <td>0.0</td>\n",
       "      <td>0.0</td>\n",
       "      <td>0.0</td>\n",
       "      <td>0.0</td>\n",
       "      <td>0.0</td>\n",
       "      <td>0.0</td>\n",
       "      <td>0.084534</td>\n",
       "      <td>0.0</td>\n",
       "      <td>0.0</td>\n",
       "      <td>1.000000</td>\n",
       "    </tr>\n",
       "  </tbody>\n",
       "</table>\n",
       "<p>4760 rows × 4760 columns</p>\n",
       "</div>"
      ],
      "text/plain": [
       "      0     1     2     3     4         5     6         7         8     9     \\\n",
       "0      1.0   0.0   0.0   0.0   0.0  0.000000   0.0  0.000000  0.000000   0.0   \n",
       "1      0.0   1.0   0.0   0.0   0.0  0.000000   0.0  0.000000  0.035926   0.0   \n",
       "2      0.0   0.0   1.0   0.0   0.0  0.000000   0.0  0.000000  0.000000   0.0   \n",
       "3      0.0   0.0   0.0   1.0   0.0  0.077694   0.0  0.020103  0.000000   0.0   \n",
       "4      0.0   0.0   0.0   0.0   1.0  0.000000   0.0  0.000000  0.000000   0.0   \n",
       "...    ...   ...   ...   ...   ...       ...   ...       ...       ...   ...   \n",
       "4755   0.0   0.0   0.0   0.0   0.0  0.000000   0.0  0.000000  0.000000   0.0   \n",
       "4756   0.0   0.0   0.0   0.0   0.0  0.000000   0.0  0.000000  0.000000   0.0   \n",
       "4757   0.0   0.0   0.0   0.0   0.0  0.000000   0.0  0.000000  0.000000   0.0   \n",
       "4758   0.0   0.0   0.0   0.0   0.0  0.000000   0.0  0.000000  0.000000   0.0   \n",
       "4759   0.0   0.0   0.0   0.0   0.0  0.000000   0.0  0.000000  0.000000   0.0   \n",
       "\n",
       "      ...  4750  4751  4752  4753  4754  4755      4756  4757  4758      4759  \n",
       "0     ...   0.0   0.0   0.0   0.0   0.0   0.0  0.000000   0.0   0.0  0.000000  \n",
       "1     ...   0.0   0.0   0.0   0.0   0.0   0.0  0.000000   0.0   0.0  0.000000  \n",
       "2     ...   0.0   0.0   0.0   0.0   0.0   0.0  0.000000   0.0   0.0  0.000000  \n",
       "3     ...   0.0   0.0   0.0   0.0   0.0   0.0  0.000000   0.0   0.0  0.000000  \n",
       "4     ...   0.0   0.0   0.0   0.0   0.0   0.0  0.000000   0.0   0.0  0.000000  \n",
       "...   ...   ...   ...   ...   ...   ...   ...       ...   ...   ...       ...  \n",
       "4755  ...   0.0   0.0   0.0   0.0   0.0   1.0  0.000000   0.0   0.0  0.000000  \n",
       "4756  ...   0.0   0.0   0.0   0.0   0.0   0.0  1.000000   0.0   0.0  0.084534  \n",
       "4757  ...   0.0   0.0   0.0   0.0   0.0   0.0  0.000000   1.0   0.0  0.000000  \n",
       "4758  ...   0.0   0.0   0.0   0.0   0.0   0.0  0.000000   0.0   0.0  0.000000  \n",
       "4759  ...   0.0   0.0   0.0   0.0   0.0   0.0  0.084534   0.0   0.0  1.000000  \n",
       "\n",
       "[4760 rows x 4760 columns]"
      ]
     },
     "execution_count": 57,
     "metadata": {},
     "output_type": "execute_result"
    }
   ],
   "source": [
    "cosine_sim_df"
   ]
  },
  {
   "cell_type": "code",
   "execution_count": 58,
   "id": "84d72931-97e9-4723-9ba2-8e95f7d8e712",
   "metadata": {},
   "outputs": [
    {
     "data": {
      "text/plain": [
       "array([[1., 0., 0., ..., 0., 0., 0.],\n",
       "       [0., 1., 0., ..., 0., 0., 0.],\n",
       "       [0., 0., 1., ..., 0., 0., 0.],\n",
       "       ...,\n",
       "       [0., 0., 0., ..., 1., 0., 0.],\n",
       "       [0., 0., 0., ..., 0., 0., 0.],\n",
       "       [0., 0., 0., ..., 0., 0., 1.]])"
      ]
     },
     "execution_count": 58,
     "metadata": {},
     "output_type": "execute_result"
    }
   ],
   "source": [
    "cosine_sim\n"
   ]
  },
  {
   "cell_type": "code",
   "execution_count": 60,
   "id": "e5538190-1e07-45a9-aa1e-e025f1b6f79e",
   "metadata": {},
   "outputs": [
    {
     "data": {
      "text/plain": [
       "(4760, 4760)"
      ]
     },
     "execution_count": 60,
     "metadata": {},
     "output_type": "execute_result"
    }
   ],
   "source": [
    "cosine_sim.shape"
   ]
  },
  {
   "cell_type": "code",
   "execution_count": null,
   "id": "d9fe2afa-8b41-4e62-975b-60d634d97cb0",
   "metadata": {},
   "outputs": [],
   "source": []
  },
  {
   "cell_type": "markdown",
   "id": "f8767768-2574-4f25-89d4-2b6c67bbb59d",
   "metadata": {},
   "source": [
    "# Get movie name as InputUser and validate for closet spelling"
   ]
  },
  {
   "cell_type": "code",
   "execution_count": 73,
   "id": "29ff217c-0b04-4174-b25c-4462565ebda3",
   "metadata": {},
   "outputs": [
    {
     "name": "stdin",
     "output_type": "stream",
     "text": [
      "Enter your Favourite movie name : Star Wars\n"
     ]
    }
   ],
   "source": [
    "fav_movie_name = input('Enter your Favourite movie name :')\n"
   ]
  },
  {
   "cell_type": "code",
   "execution_count": 74,
   "id": "c070878e-9bec-4444-b2f4-eb6b9f8b5d49",
   "metadata": {},
   "outputs": [],
   "source": [
    "all_movies_title_list = dataset['Movie_Title'].tolist()"
   ]
  },
  {
   "cell_type": "code",
   "execution_count": 75,
   "id": "8abf8078-aa20-4492-a8b5-ac6d645f574a",
   "metadata": {},
   "outputs": [],
   "source": [
    "import difflib"
   ]
  },
  {
   "cell_type": "code",
   "execution_count": 76,
   "id": "fdfa04f0-16a6-4327-ba35-ed89a61a449e",
   "metadata": {},
   "outputs": [],
   "source": [
    "movie_recommendation = difflib.get_close_matches(fav_movie_name, all_movies_title_list)"
   ]
  },
  {
   "cell_type": "code",
   "execution_count": 77,
   "id": "cb876eba-43ec-43aa-8958-05ae490a408d",
   "metadata": {},
   "outputs": [
    {
     "name": "stdout",
     "output_type": "stream",
     "text": [
      "['Star Wars', 'Star Trek', 'State Fair']\n"
     ]
    }
   ],
   "source": [
    "print(movie_recommendation)"
   ]
  },
  {
   "cell_type": "code",
   "execution_count": null,
   "id": "57428c76-2e01-4d85-99c4-6ebdf1f251a6",
   "metadata": {},
   "outputs": [],
   "source": []
  },
  {
   "cell_type": "code",
   "execution_count": 78,
   "id": "702e76c2-713b-4600-8fb4-f68650496313",
   "metadata": {},
   "outputs": [],
   "source": [
    "Close_Match = movie_recommendation[0]"
   ]
  },
  {
   "cell_type": "code",
   "execution_count": 79,
   "id": "ea722567-b250-4c71-a132-6956f67e0182",
   "metadata": {},
   "outputs": [
    {
     "name": "stdout",
     "output_type": "stream",
     "text": [
      "Star Wars\n"
     ]
    }
   ],
   "source": [
    "print(Close_Match)"
   ]
  },
  {
   "cell_type": "markdown",
   "id": "76d3c320-c514-40d2-b3a0-6c6dc344605b",
   "metadata": {},
   "source": [
    "# Index of User Input movie"
   ]
  },
  {
   "cell_type": "code",
   "execution_count": 80,
   "id": "a5e61629-ea25-4549-b24e-4e736f1db38e",
   "metadata": {},
   "outputs": [],
   "source": [
    "index_of_close_match_movie = dataset[dataset.Movie_Title ==Close_Match]['Movie_ID'].values[0]"
   ]
  },
  {
   "cell_type": "code",
   "execution_count": 81,
   "id": "1d3530e0-1a82-4c9c-8595-a39383871adf",
   "metadata": {},
   "outputs": [
    {
     "name": "stdout",
     "output_type": "stream",
     "text": [
      "2\n"
     ]
    }
   ],
   "source": [
    "print(index_of_close_match_movie)"
   ]
  },
  {
   "cell_type": "markdown",
   "id": "174ad3be-045c-4233-a692-8af55146fd3c",
   "metadata": {},
   "source": [
    "# Getting a list of similar movies "
   ]
  },
  {
   "cell_type": "code",
   "execution_count": 82,
   "id": "a819675d-9e50-43f7-bcc4-f2edc4441f65",
   "metadata": {},
   "outputs": [],
   "source": [
    "recommendation_score = list(enumerate(cosine_sim[index_of_close_match_movie]))"
   ]
  },
  {
   "cell_type": "code",
   "execution_count": 88,
   "id": "469886bd-276e-499a-b449-55125f72f032",
   "metadata": {},
   "outputs": [
    {
     "name": "stdout",
     "output_type": "stream",
     "text": [
      "[(0, np.float64(0.0)), (1, np.float64(0.0)), (2, np.float64(1.0)), (3, np.float64(0.0)), (4, np.float64(0.0)), (5, np.float64(0.0)), (6, np.float64(0.0)), (7, np.float64(0.0)), (8, np.float64(0.0)), (9, np.float64(0.0)), (10, np.float64(0.0)), (11, np.float64(0.0)), (12, np.float64(0.0)), (13, np.float64(0.0)), (14, np.float64(0.08541333829093745)), (15, np.float64(0.0)), (16, np.float64(0.0)), (17, np.float64(0.0)), (18, np.float64(0.0)), (19, np.float64(0.0)), (20, np.float64(0.0)), (21, np.float64(0.0)), (22, np.float64(0.05203237735668228)), (23, np.float64(0.0)), (24, np.float64(0.0)), (25, np.float64(0.0)), (26, np.float64(0.020658504977379664)), (27, np.float64(0.0)), (28, np.float64(0.0)), (29, np.float64(0.0)), (30, np.float64(0.0)), (31, np.float64(0.0)), (32, np.float64(0.0)), (33, np.float64(0.0)), (34, np.float64(0.0)), (35, np.float64(0.0)), (36, np.float64(0.0)), (37, np.float64(0.0)), (38, np.float64(0.0)), (39, np.float64(0.0)), (40, np.float64(0.0)), (41, np.float64(0.0)), (42, np.float64(0.0)), (43, np.float64(0.0)), (44, np.float64(0.0)), (45, np.float64(0.0)), (46, np.float64(0.0)), (47, np.float64(0.0)), (48, np.float64(0.0)), (49, np.float64(0.0)), (50, np.float64(0.0)), (51, np.float64(0.0)), (52, np.float64(0.0)), (53, np.float64(0.0762201550007455)), (54, np.float64(0.0)), (55, np.float64(0.0)), (56, np.float64(0.0)), (57, np.float64(0.0)), (58, np.float64(0.018673312934845424)), (59, np.float64(0.0)), (60, np.float64(0.0)), (61, np.float64(0.021595041348129913)), (62, np.float64(0.0)), (63, np.float64(0.0)), (64, np.float64(0.0)), (65, np.float64(0.0)), (66, np.float64(0.0)), (67, np.float64(0.0)), (68, np.float64(0.0)), (69, np.float64(0.0)), (70, np.float64(0.0)), (71, np.float64(0.0)), (72, np.float64(0.0)), (73, np.float64(0.0)), (74, np.float64(0.0)), (75, np.float64(0.0)), (76, np.float64(0.0)), (77, np.float64(0.0)), (78, np.float64(0.0)), (79, np.float64(0.0588954247748158)), (80, np.float64(0.0)), (81, np.float64(0.0)), (82, np.float64(0.0)), (83, np.float64(0.0)), (84, np.float64(0.0)), (85, np.float64(0.0)), (86, np.float64(0.0)), (87, np.float64(0.0)), (88, np.float64(0.0)), (89, np.float64(0.0)), (90, np.float64(0.0)), (91, np.float64(0.0)), (92, np.float64(0.0)), (93, np.float64(0.0)), (94, np.float64(0.0)), (95, np.float64(0.0)), (96, np.float64(0.0)), (97, np.float64(0.0)), (98, np.float64(0.0)), (99, np.float64(0.0)), (100, np.float64(0.0)), (101, np.float64(0.0)), (102, np.float64(0.0)), (103, np.float64(0.0)), (104, np.float64(0.0)), (105, np.float64(0.0)), (106, np.float64(0.08807570916922554)), (107, np.float64(0.0)), (108, np.float64(0.0)), (109, np.float64(0.03111977883865463)), (110, np.float64(0.0)), (111, np.float64(0.0)), (112, np.float64(0.0)), (113, np.float64(0.0)), (114, np.float64(0.0)), (115, np.float64(0.0)), (116, np.float64(0.0)), (117, np.float64(0.0)), (118, np.float64(0.0)), (119, np.float64(0.0)), (120, np.float64(0.0)), (121, np.float64(0.0)), (122, np.float64(0.0)), (123, np.float64(0.0)), (124, np.float64(0.0)), (125, np.float64(0.0)), (126, np.float64(0.0)), (127, np.float64(0.0)), (128, np.float64(0.0)), (129, np.float64(0.0)), (130, np.float64(0.0570699234324167)), (131, np.float64(0.0)), (132, np.float64(0.0)), (133, np.float64(0.0750243554335793)), (134, np.float64(0.0)), (135, np.float64(0.0)), (136, np.float64(0.0)), (137, np.float64(0.0)), (138, np.float64(0.0)), (139, np.float64(0.0)), (140, np.float64(0.09889074901614861)), (141, np.float64(0.0)), (142, np.float64(0.0)), (143, np.float64(0.0)), (144, np.float64(0.10639152780993055)), (145, np.float64(0.0)), (146, np.float64(0.0911501806745611)), (147, np.float64(0.0)), (148, np.float64(0.0)), (149, np.float64(0.020524330444344898)), (150, np.float64(0.0)), (151, np.float64(0.0)), (152, np.float64(0.0)), (153, np.float64(0.0)), (154, np.float64(0.01844108738782356)), (155, np.float64(0.0)), (156, np.float64(0.0)), (157, np.float64(0.0)), (158, np.float64(0.0)), (159, np.float64(0.0)), (160, np.float64(0.0)), (161, np.float64(0.0)), (162, np.float64(0.0)), (163, np.float64(0.0)), (164, np.float64(0.030855237783521137)), (165, np.float64(0.06162088818841563)), (166, np.float64(0.0)), (167, np.float64(0.030033093339001355)), (168, np.float64(0.0)), (169, np.float64(0.020856767395356603)), (170, np.float64(0.01889300433029101)), (171, np.float64(0.0)), (172, np.float64(0.0)), (173, np.float64(0.08804578927260344)), (174, np.float64(0.0)), (175, np.float64(0.016369032254546757)), (176, np.float64(0.022844310516708086)), (177, np.float64(0.0)), (178, np.float64(0.0)), (179, np.float64(0.06933969767955067)), (180, np.float64(0.0)), (181, np.float64(0.0)), (182, np.float64(0.057216820216522864)), (183, np.float64(0.0)), (184, np.float64(0.0)), (185, np.float64(0.019706319448874122)), (186, np.float64(0.0)), (187, np.float64(0.0)), (188, np.float64(0.04461636229757822)), (189, np.float64(0.0)), (190, np.float64(0.0)), (191, np.float64(0.0)), (192, np.float64(0.0)), (193, np.float64(0.0)), (194, np.float64(0.0)), (195, np.float64(0.0)), (196, np.float64(0.0)), (197, np.float64(0.0)), (198, np.float64(0.10894451763424368)), (199, np.float64(0.0)), (200, np.float64(0.0)), (201, np.float64(0.022656635939778742)), (202, np.float64(0.0197689822609533)), (203, np.float64(0.0)), (204, np.float64(0.0)), (205, np.float64(0.0)), (206, np.float64(0.0)), (207, np.float64(0.0)), (208, np.float64(0.03522389306406918)), (209, np.float64(0.0)), (210, np.float64(0.0)), (211, np.float64(0.0)), (212, np.float64(0.0)), (213, np.float64(0.0)), (214, np.float64(0.0)), (215, np.float64(0.0)), (216, np.float64(0.0)), (217, np.float64(0.0)), (218, np.float64(0.0)), (219, np.float64(0.0)), (220, np.float64(0.0)), (221, np.float64(0.0)), (222, np.float64(0.0)), (223, np.float64(0.0)), (224, np.float64(0.0)), (225, np.float64(0.0)), (226, np.float64(0.0)), (227, np.float64(0.0)), (228, np.float64(0.0)), (229, np.float64(0.0)), (230, np.float64(0.0975995929776811)), (231, np.float64(0.0)), (232, np.float64(0.0)), (233, np.float64(0.0)), (234, np.float64(0.0)), (235, np.float64(0.0)), (236, np.float64(0.0)), (237, np.float64(0.0)), (238, np.float64(0.0)), (239, np.float64(0.06355574329160968)), (240, np.float64(0.0)), (241, np.float64(0.0)), (242, np.float64(0.0)), (243, np.float64(0.0)), (244, np.float64(0.0)), (245, np.float64(0.0)), (246, np.float64(0.0)), (247, np.float64(0.251640544346818)), (248, np.float64(0.0)), (249, np.float64(0.0)), (250, np.float64(0.0)), (251, np.float64(0.0)), (252, np.float64(0.0)), (253, np.float64(0.0)), (254, np.float64(0.026295769276185706)), (255, np.float64(0.0)), (256, np.float64(0.0)), (257, np.float64(0.0)), (258, np.float64(0.0)), (259, np.float64(0.0)), (260, np.float64(0.0)), (261, np.float64(0.0)), (262, np.float64(0.0)), (263, np.float64(0.0)), (264, np.float64(0.0)), (265, np.float64(0.0)), (266, np.float64(0.0)), (267, np.float64(0.0)), (268, np.float64(0.0)), (269, np.float64(0.0)), (270, np.float64(0.0)), (271, np.float64(0.016333632202395185)), (272, np.float64(0.0)), (273, np.float64(0.0)), (274, np.float64(0.0)), (275, np.float64(0.0)), (276, np.float64(0.0)), (277, np.float64(0.0)), (278, np.float64(0.0)), (279, np.float64(0.020377090163266137)), (280, np.float64(0.0)), (281, np.float64(0.0)), (282, np.float64(0.0)), (283, np.float64(0.0)), (284, np.float64(0.0)), (285, np.float64(0.0)), (286, np.float64(0.019102641340357503)), (287, np.float64(0.0)), (288, np.float64(0.0)), (289, np.float64(0.0)), (290, np.float64(0.0)), (291, np.float64(0.0)), (292, np.float64(0.020466809305674606)), (293, np.float64(0.12928292617128087)), (294, np.float64(0.0)), (295, np.float64(0.0)), (296, np.float64(0.0)), (297, np.float64(0.0)), (298, np.float64(0.0)), (299, np.float64(0.0)), (300, np.float64(0.0)), (301, np.float64(0.0)), (302, np.float64(0.0)), (303, np.float64(0.0)), (304, np.float64(0.0)), (305, np.float64(0.0)), (306, np.float64(0.0)), (307, np.float64(0.0)), (308, np.float64(0.0)), (309, np.float64(0.01717772892409604)), (310, np.float64(0.0)), (311, np.float64(0.0)), (312, np.float64(0.019373212955427176)), (313, np.float64(0.0)), (314, np.float64(0.0)), (315, np.float64(0.0)), (316, np.float64(0.0)), (317, np.float64(0.017613886235571054)), (318, np.float64(0.0)), (319, np.float64(0.0)), (320, np.float64(0.0)), (321, np.float64(0.0)), (322, np.float64(0.0)), (323, np.float64(0.0)), (324, np.float64(0.018497726945159738)), (325, np.float64(0.0)), (326, np.float64(0.0)), (327, np.float64(0.0)), (328, np.float64(0.0)), (329, np.float64(0.0)), (330, np.float64(0.0)), (331, np.float64(0.0)), (332, np.float64(0.0)), (333, np.float64(0.0)), (334, np.float64(0.019239107340920294)), (335, np.float64(0.0)), (336, np.float64(0.0)), (337, np.float64(0.0)), (338, np.float64(0.0)), (339, np.float64(0.0)), (340, np.float64(0.0)), (341, np.float64(0.0)), (342, np.float64(0.0)), (343, np.float64(0.0)), (344, np.float64(0.0)), (345, np.float64(0.0)), (346, np.float64(0.03623271441241043)), (347, np.float64(0.04978705784582156)), (348, np.float64(0.0)), (349, np.float64(0.0)), (350, np.float64(0.0)), (351, np.float64(0.01598493619338544)), (352, np.float64(0.0)), (353, np.float64(0.0)), (354, np.float64(0.0)), (355, np.float64(0.0)), (356, np.float64(0.0)), (357, np.float64(0.0)), (358, np.float64(0.0)), (359, np.float64(0.0)), (360, np.float64(0.0)), (361, np.float64(0.04852464623099819)), (362, np.float64(0.06299172666477411)), (363, np.float64(0.0)), (364, np.float64(0.0)), (365, np.float64(0.0)), (366, np.float64(0.0)), (367, np.float64(0.0)), (368, np.float64(0.0)), (369, np.float64(0.01868393775745303)), (370, np.float64(0.0)), (371, np.float64(0.0)), (372, np.float64(0.0)), (373, np.float64(0.0)), (374, np.float64(0.0)), (375, np.float64(0.0)), (376, np.float64(0.0)), (377, np.float64(0.0)), (378, np.float64(0.0)), (379, np.float64(0.0)), (380, np.float64(0.0)), (381, np.float64(0.0)), (382, np.float64(0.0)), (383, np.float64(0.0)), (384, np.float64(0.0)), (385, np.float64(0.0)), (386, np.float64(0.0)), (387, np.float64(0.0)), (388, np.float64(0.0)), (389, np.float64(0.0)), (390, np.float64(0.0)), (391, np.float64(0.0)), (392, np.float64(0.0)), (393, np.float64(0.0)), (394, np.float64(0.0)), (395, np.float64(0.02442524703023916)), (396, np.float64(0.0)), (397, np.float64(0.0)), (398, np.float64(0.0)), (399, np.float64(0.0)), (400, np.float64(0.0)), (401, np.float64(0.0)), (402, np.float64(0.0)), (403, np.float64(0.0)), (404, np.float64(0.0)), (405, np.float64(0.0)), (406, np.float64(0.0)), (407, np.float64(0.0)), (408, np.float64(0.0)), (409, np.float64(0.0)), (410, np.float64(0.0)), (411, np.float64(0.0)), (412, np.float64(0.0)), (413, np.float64(0.0)), (414, np.float64(0.0)), (415, np.float64(0.0)), (416, np.float64(0.0)), (417, np.float64(0.0)), (418, np.float64(0.0)), (419, np.float64(0.0)), (420, np.float64(0.0)), (421, np.float64(0.051494178904068794)), (422, np.float64(0.0)), (423, np.float64(0.0)), (424, np.float64(0.0)), (425, np.float64(0.0)), (426, np.float64(0.0)), (427, np.float64(0.0)), (428, np.float64(0.0)), (429, np.float64(0.0)), (430, np.float64(0.0)), (431, np.float64(0.0)), (432, np.float64(0.0)), (433, np.float64(0.0)), (434, np.float64(0.0)), (435, np.float64(0.0)), (436, np.float64(0.0)), (437, np.float64(0.07071199500418913)), (438, np.float64(0.0)), (439, np.float64(0.0)), (440, np.float64(0.0)), (441, np.float64(0.016938309536794253)), (442, np.float64(0.0)), (443, np.float64(0.0)), (444, np.float64(0.0)), (445, np.float64(0.0)), (446, np.float64(0.05838726848290803)), (447, np.float64(0.0)), (448, np.float64(0.0)), (449, np.float64(0.0)), (450, np.float64(0.0)), (451, np.float64(0.037149202214145076)), (452, np.float64(0.0)), (453, np.float64(0.0)), (454, np.float64(0.018304387529438162)), (455, np.float64(0.0)), (456, np.float64(0.0)), (457, np.float64(0.018501710062832355)), (458, np.float64(0.0)), (459, np.float64(0.0)), (460, np.float64(0.0)), (461, np.float64(0.024100398745506228)), (462, np.float64(0.0)), (463, np.float64(0.0)), (464, np.float64(0.0)), (465, np.float64(0.01854001350954487)), (466, np.float64(0.0)), (467, np.float64(0.0)), (468, np.float64(0.0)), (469, np.float64(0.0)), (470, np.float64(0.0)), (471, np.float64(0.0)), (472, np.float64(0.0)), (473, np.float64(0.020913180680906505)), (474, np.float64(0.0)), (475, np.float64(0.0)), (476, np.float64(0.0)), (477, np.float64(0.0)), (478, np.float64(0.0)), (479, np.float64(0.0)), (480, np.float64(0.0)), (481, np.float64(0.0)), (482, np.float64(0.0)), (483, np.float64(0.0)), (484, np.float64(0.0)), (485, np.float64(0.0)), (486, np.float64(0.0)), (487, np.float64(0.0)), (488, np.float64(0.08945946599520122)), (489, np.float64(0.025861787425210427)), (490, np.float64(0.0)), (491, np.float64(0.0)), (492, np.float64(0.0)), (493, np.float64(0.0)), (494, np.float64(0.0)), (495, np.float64(0.0)), (496, np.float64(0.0)), (497, np.float64(0.0)), (498, np.float64(0.0)), (499, np.float64(0.0)), (500, np.float64(0.0)), (501, np.float64(0.0272239073302745)), (502, np.float64(0.0)), (503, np.float64(0.0)), (504, np.float64(0.0)), (505, np.float64(0.0)), (506, np.float64(0.0)), (507, np.float64(0.0)), (508, np.float64(0.0)), (509, np.float64(0.0)), (510, np.float64(0.0)), (511, np.float64(0.0)), (512, np.float64(0.0)), (513, np.float64(0.0)), (514, np.float64(0.0)), (515, np.float64(0.0)), (516, np.float64(0.0)), (517, np.float64(0.0)), (518, np.float64(0.0)), (519, np.float64(0.0)), (520, np.float64(0.0)), (521, np.float64(0.0)), (522, np.float64(0.0)), (523, np.float64(0.0)), (524, np.float64(0.01901027049725352)), (525, np.float64(0.0)), (526, np.float64(0.0)), (527, np.float64(0.0)), (528, np.float64(0.0)), (529, np.float64(0.0)), (530, np.float64(0.0)), (531, np.float64(0.0)), (532, np.float64(0.0)), (533, np.float64(0.0)), (534, np.float64(0.0)), (535, np.float64(0.0)), (536, np.float64(0.0)), (537, np.float64(0.0)), (538, np.float64(0.0)), (539, np.float64(0.0)), (540, np.float64(0.0)), (541, np.float64(0.0)), (542, np.float64(0.0)), (543, np.float64(0.0)), (544, np.float64(0.0)), (545, np.float64(0.0)), (546, np.float64(0.0)), (547, np.float64(0.0)), (548, np.float64(0.09257983615246179)), (549, np.float64(0.018151209439898126)), (550, np.float64(0.0)), (551, np.float64(0.0)), (552, np.float64(0.0)), (553, np.float64(0.0)), (554, np.float64(0.0)), (555, np.float64(0.0)), (556, np.float64(0.0)), (557, np.float64(0.0)), (558, np.float64(0.0)), (559, np.float64(0.0)), (560, np.float64(0.0)), (561, np.float64(0.0)), (562, np.float64(0.0)), (563, np.float64(0.0)), (564, np.float64(0.0)), (565, np.float64(0.0)), (566, np.float64(0.04373136190664804)), (567, np.float64(0.0)), (568, np.float64(0.0)), (569, np.float64(0.03562617484764266)), (570, np.float64(0.0)), (571, np.float64(0.0)), (572, np.float64(0.0)), (573, np.float64(0.0)), (574, np.float64(0.0)), (575, np.float64(0.0)), (576, np.float64(0.0)), (577, np.float64(0.0)), (578, np.float64(0.05013802328316115)), (579, np.float64(0.0)), (580, np.float64(0.0)), (581, np.float64(0.0)), (582, np.float64(0.0)), (583, np.float64(0.0)), (584, np.float64(0.058240175694585686)), (585, np.float64(0.01880667939008425)), (586, np.float64(0.0)), (587, np.float64(0.0)), (588, np.float64(0.0)), (589, np.float64(0.0)), (590, np.float64(0.0)), (591, np.float64(0.0)), (592, np.float64(0.0)), (593, np.float64(0.0)), (594, np.float64(0.0)), (595, np.float64(0.0)), (596, np.float64(0.0)), (597, np.float64(0.0)), (598, np.float64(0.0)), (599, np.float64(0.0)), (600, np.float64(0.021347231133520873)), (601, np.float64(0.0)), (602, np.float64(0.0)), (603, np.float64(0.0)), (604, np.float64(0.0)), (605, np.float64(0.0)), (606, np.float64(0.0)), (607, np.float64(0.01880377885149951)), (608, np.float64(0.0)), (609, np.float64(0.0)), (610, np.float64(0.0)), (611, np.float64(0.01674500033933883)), (612, np.float64(0.0)), (613, np.float64(0.0)), (614, np.float64(0.0)), (615, np.float64(0.0310247633483386)), (616, np.float64(0.0)), (617, np.float64(0.0)), (618, np.float64(0.0)), (619, np.float64(0.0)), (620, np.float64(0.05594062158556481)), (621, np.float64(0.0)), (622, np.float64(0.0)), (623, np.float64(0.0)), (624, np.float64(0.0)), (625, np.float64(0.0)), (626, np.float64(0.0)), (627, np.float64(0.0)), (628, np.float64(0.020245633537660332)), (629, np.float64(0.028482792735426195)), (630, np.float64(0.0)), (631, np.float64(0.0)), (632, np.float64(0.0)), (633, np.float64(0.0)), (634, np.float64(0.0)), (635, np.float64(0.0)), (636, np.float64(0.0)), (637, np.float64(0.0)), (638, np.float64(0.0)), (639, np.float64(0.0)), (640, np.float64(0.03977634912200078)), (641, np.float64(0.015754790639330423)), (642, np.float64(0.0)), (643, np.float64(0.08294805064099356)), (644, np.float64(0.0)), (645, np.float64(0.0)), (646, np.float64(0.021857631469250863)), (647, np.float64(0.0)), (648, np.float64(0.0)), (649, np.float64(0.0)), (650, np.float64(0.0)), (651, np.float64(0.03742426819031723)), (652, np.float64(0.0)), (653, np.float64(0.0)), (654, np.float64(0.0)), (655, np.float64(0.0)), (656, np.float64(0.0)), (657, np.float64(0.0)), (658, np.float64(0.0)), (659, np.float64(0.0)), (660, np.float64(0.0)), (661, np.float64(0.0)), (662, np.float64(0.02006511243568723)), (663, np.float64(0.0)), (664, np.float64(0.0)), (665, np.float64(0.05934043335146908)), (666, np.float64(0.0)), (667, np.float64(0.0)), (668, np.float64(0.0)), (669, np.float64(0.0)), (670, np.float64(0.0)), (671, np.float64(0.0)), (672, np.float64(0.0)), (673, np.float64(0.0)), (674, np.float64(0.0)), (675, np.float64(0.0)), (676, np.float64(0.0)), (677, np.float64(0.0)), (678, np.float64(0.0)), (679, np.float64(0.0)), (680, np.float64(0.0)), (681, np.float64(0.0)), (682, np.float64(0.0)), (683, np.float64(0.0)), (684, np.float64(0.0)), (685, np.float64(0.0)), (686, np.float64(0.0)), (687, np.float64(0.0)), (688, np.float64(0.0)), (689, np.float64(0.02015223026151371)), (690, np.float64(0.0)), (691, np.float64(0.09665056592738056)), (692, np.float64(0.0)), (693, np.float64(0.021829710517161816)), (694, np.float64(0.0)), (695, np.float64(0.09106253109574598)), (696, np.float64(0.0)), (697, np.float64(0.0)), (698, np.float64(0.0)), (699, np.float64(0.0)), (700, np.float64(0.0)), (701, np.float64(0.0)), (702, np.float64(0.0)), (703, np.float64(0.0)), (704, np.float64(0.0)), (705, np.float64(0.13966135526850715)), (706, np.float64(0.02731465573081895)), (707, np.float64(0.0)), (708, np.float64(0.0)), (709, np.float64(0.0)), (710, np.float64(0.0)), (711, np.float64(0.0)), (712, np.float64(0.0)), (713, np.float64(0.0)), (714, np.float64(0.0)), (715, np.float64(0.0)), (716, np.float64(0.0)), (717, np.float64(0.0)), (718, np.float64(0.0)), (719, np.float64(0.0)), (720, np.float64(0.0)), (721, np.float64(0.0)), (722, np.float64(0.0)), (723, np.float64(0.0)), (724, np.float64(0.07649959915408036)), (725, np.float64(0.0)), (726, np.float64(0.0)), (727, np.float64(0.0)), (728, np.float64(0.0)), (729, np.float64(0.0)), (730, np.float64(0.0440256839015966)), (731, np.float64(0.0)), (732, np.float64(0.0)), (733, np.float64(0.0)), (734, np.float64(0.0)), (735, np.float64(0.0)), (736, np.float64(0.0)), (737, np.float64(0.0)), (738, np.float64(0.0)), (739, np.float64(0.0)), (740, np.float64(0.0)), (741, np.float64(0.0)), (742, np.float64(0.020669179450286505)), (743, np.float64(0.0)), (744, np.float64(0.0)), (745, np.float64(0.0)), (746, np.float64(0.0)), (747, np.float64(0.0)), (748, np.float64(0.0)), (749, np.float64(0.0)), (750, np.float64(0.0)), (751, np.float64(0.0)), (752, np.float64(0.1155469436905825)), (753, np.float64(0.0)), (754, np.float64(0.0)), (755, np.float64(0.018298312314210297)), (756, np.float64(0.0551428314291414)), (757, np.float64(0.0)), (758, np.float64(0.0)), (759, np.float64(0.0)), (760, np.float64(0.0)), (761, np.float64(0.0)), (762, np.float64(0.0)), (763, np.float64(0.0)), (764, np.float64(0.0)), (765, np.float64(0.0)), (766, np.float64(0.0)), (767, np.float64(0.0)), (768, np.float64(0.0)), (769, np.float64(0.022045980004085336)), (770, np.float64(0.0)), (771, np.float64(0.0)), (772, np.float64(0.0)), (773, np.float64(0.0)), (774, np.float64(0.0)), (775, np.float64(0.0)), (776, np.float64(0.0)), (777, np.float64(0.0)), (778, np.float64(0.0)), (779, np.float64(0.0)), (780, np.float64(0.0)), (781, np.float64(0.0)), (782, np.float64(0.0)), (783, np.float64(0.0)), (784, np.float64(0.0)), (785, np.float64(0.0)), (786, np.float64(0.0)), (787, np.float64(0.03308916558380887)), (788, np.float64(0.0)), (789, np.float64(0.0)), (790, np.float64(0.0)), (791, np.float64(0.0)), (792, np.float64(0.0)), (793, np.float64(0.0)), (794, np.float64(0.06520254876326041)), (795, np.float64(0.0)), (796, np.float64(0.0)), (797, np.float64(0.0)), (798, np.float64(0.0)), (799, np.float64(0.0)), (800, np.float64(0.0)), (801, np.float64(0.0)), (802, np.float64(0.0)), (803, np.float64(0.0)), (804, np.float64(0.0)), (805, np.float64(0.0)), (806, np.float64(0.043386585634496475)), (807, np.float64(0.0)), (808, np.float64(0.0)), (809, np.float64(0.0)), (810, np.float64(0.0)), (811, np.float64(0.0)), (812, np.float64(0.0)), (813, np.float64(0.0)), (814, np.float64(0.0)), (815, np.float64(0.0)), (816, np.float64(0.0)), (817, np.float64(0.031067823364835316)), (818, np.float64(0.0)), (819, np.float64(0.0)), (820, np.float64(0.0)), (821, np.float64(0.0)), (822, np.float64(0.0)), (823, np.float64(0.0)), (824, np.float64(0.0)), (825, np.float64(0.0)), (826, np.float64(0.0)), (827, np.float64(0.0)), (828, np.float64(0.0)), (829, np.float64(0.0)), (830, np.float64(0.0)), (831, np.float64(0.016405247159022904)), (832, np.float64(0.0)), (833, np.float64(0.0)), (834, np.float64(0.0)), (835, np.float64(0.0)), (836, np.float64(0.0)), (837, np.float64(0.0)), (838, np.float64(0.0)), (839, np.float64(0.06582584559316257)), (840, np.float64(0.0)), (841, np.float64(0.0)), (842, np.float64(0.0)), (843, np.float64(0.017079828595672888)), (844, np.float64(0.0)), (845, np.float64(0.0)), (846, np.float64(0.021274081577392696)), (847, np.float64(0.025429555485889772)), (848, np.float64(0.0)), (849, np.float64(0.02198114927486199)), (850, np.float64(0.049668488665458935)), (851, np.float64(0.0)), (852, np.float64(0.019302128478523233)), (853, np.float64(0.0)), (854, np.float64(0.043795257672916504)), (855, np.float64(0.0)), (856, np.float64(0.0)), (857, np.float64(0.0)), (858, np.float64(0.0)), (859, np.float64(0.0)), (860, np.float64(0.0)), (861, np.float64(0.0)), (862, np.float64(0.049637396161724114)), (863, np.float64(0.0)), (864, np.float64(0.0)), (865, np.float64(0.0)), (866, np.float64(0.0)), (867, np.float64(0.0)), (868, np.float64(0.0)), (869, np.float64(0.0)), (870, np.float64(0.0)), (871, np.float64(0.0)), (872, np.float64(0.022398061010705794)), (873, np.float64(0.0)), (874, np.float64(0.0)), (875, np.float64(0.0)), (876, np.float64(0.0)), (877, np.float64(0.0)), (878, np.float64(0.0)), (879, np.float64(0.0)), (880, np.float64(0.0)), (881, np.float64(0.0)), (882, np.float64(0.0)), (883, np.float64(0.0)), (884, np.float64(0.0)), (885, np.float64(0.0)), (886, np.float64(0.0)), (887, np.float64(0.05625949737973084)), (888, np.float64(0.0)), (889, np.float64(0.0)), (890, np.float64(0.0)), (891, np.float64(0.0)), (892, np.float64(0.0)), (893, np.float64(0.0)), (894, np.float64(0.0)), (895, np.float64(0.0)), (896, np.float64(0.0)), (897, np.float64(0.0)), (898, np.float64(0.0)), (899, np.float64(0.03262121591809501)), (900, np.float64(0.03761857431485748)), (901, np.float64(0.028203900374409747)), (902, np.float64(0.0)), (903, np.float64(0.0)), (904, np.float64(0.0)), (905, np.float64(0.0)), (906, np.float64(0.0)), (907, np.float64(0.0)), (908, np.float64(0.0)), (909, np.float64(0.0)), (910, np.float64(0.0)), (911, np.float64(0.06090197426716148)), (912, np.float64(0.0)), (913, np.float64(0.0)), (914, np.float64(0.0)), (915, np.float64(0.043909891686502785)), (916, np.float64(0.0)), (917, np.float64(0.0)), (918, np.float64(0.0)), (919, np.float64(0.0)), (920, np.float64(0.0)), (921, np.float64(0.0)), (922, np.float64(0.0)), (923, np.float64(0.0)), (924, np.float64(0.0)), (925, np.float64(0.0)), (926, np.float64(0.0)), (927, np.float64(0.0)), (928, np.float64(0.0)), (929, np.float64(0.0)), (930, np.float64(0.0)), (931, np.float64(0.0)), (932, np.float64(0.07992927934507583)), (933, np.float64(0.0)), (934, np.float64(0.0)), (935, np.float64(0.020067882142175503)), (936, np.float64(0.0)), (937, np.float64(0.0)), (938, np.float64(0.0)), (939, np.float64(0.0)), (940, np.float64(0.0)), (941, np.float64(0.0)), (942, np.float64(0.0)), (943, np.float64(0.0)), (944, np.float64(0.0)), (945, np.float64(0.0)), (946, np.float64(0.0)), (947, np.float64(0.0)), (948, np.float64(0.0)), (949, np.float64(0.0)), (950, np.float64(0.0)), (951, np.float64(0.0)), (952, np.float64(0.0)), (953, np.float64(0.0)), (954, np.float64(0.0)), (955, np.float64(0.0)), (956, np.float64(0.0)), (957, np.float64(0.0)), (958, np.float64(0.0)), (959, np.float64(0.0)), (960, np.float64(0.0)), (961, np.float64(0.0)), (962, np.float64(0.0)), (963, np.float64(0.0)), (964, np.float64(0.0)), (965, np.float64(0.0)), (966, np.float64(0.0)), (967, np.float64(0.0)), (968, np.float64(0.0)), (969, np.float64(0.0)), (970, np.float64(0.0)), (971, np.float64(0.021933468289009952)), (972, np.float64(0.0)), (973, np.float64(0.0)), (974, np.float64(0.0)), (975, np.float64(0.0)), (976, np.float64(0.0)), (977, np.float64(0.0)), (978, np.float64(0.017260040751218723)), (979, np.float64(0.0)), (980, np.float64(0.0)), (981, np.float64(0.0)), (982, np.float64(0.0)), (983, np.float64(0.0)), (984, np.float64(0.0)), (985, np.float64(0.0)), (986, np.float64(0.0)), (987, np.float64(0.0)), (988, np.float64(0.08613455766149267)), (989, np.float64(0.07801957685062895)), (990, np.float64(0.0)), (991, np.float64(0.0)), (992, np.float64(0.0)), (993, np.float64(0.0)), (994, np.float64(0.0)), (995, np.float64(0.0)), (996, np.float64(0.0)), (997, np.float64(0.0)), (998, np.float64(0.023732912312930673)), (999, np.float64(0.0)), (1000, np.float64(0.0)), (1001, np.float64(0.0)), (1002, np.float64(0.0)), (1003, np.float64(0.0)), (1004, np.float64(0.01940345127314336)), (1005, np.float64(0.0)), (1006, np.float64(0.021998055197965754)), (1007, np.float64(0.0)), (1008, np.float64(0.0)), (1009, np.float64(0.01847082992472928)), (1010, np.float64(0.0)), (1011, np.float64(0.0)), (1012, np.float64(0.0)), (1013, np.float64(0.0)), (1014, np.float64(0.0)), (1015, np.float64(0.0)), (1016, np.float64(0.0)), (1017, np.float64(0.0)), (1018, np.float64(0.0)), (1019, np.float64(0.0)), (1020, np.float64(0.0)), (1021, np.float64(0.04483057298741767)), (1022, np.float64(0.0)), (1023, np.float64(0.0)), (1024, np.float64(0.0)), (1025, np.float64(0.0)), (1026, np.float64(0.0)), (1027, np.float64(0.0)), (1028, np.float64(0.0)), (1029, np.float64(0.0)), (1030, np.float64(0.0)), (1031, np.float64(0.0)), (1032, np.float64(0.0)), (1033, np.float64(0.0)), (1034, np.float64(0.0)), (1035, np.float64(0.0)), (1036, np.float64(0.0)), (1037, np.float64(0.0)), (1038, np.float64(0.07888927009971833)), (1039, np.float64(0.0)), (1040, np.float64(0.021471828346427017)), (1041, np.float64(0.08764033032212737)), (1042, np.float64(0.0)), (1043, np.float64(0.0)), (1044, np.float64(0.0)), (1045, np.float64(0.0)), (1046, np.float64(0.04864801409335489)), (1047, np.float64(0.0)), (1048, np.float64(0.0)), (1049, np.float64(0.0291389639358243)), (1050, np.float64(0.07553328063242792)), (1051, np.float64(0.0)), (1052, np.float64(0.0)), (1053, np.float64(0.0)), (1054, np.float64(0.0)), (1055, np.float64(0.0)), (1056, np.float64(0.0)), (1057, np.float64(0.0)), (1058, np.float64(0.0)), (1059, np.float64(0.0)), (1060, np.float64(0.0)), (1061, np.float64(0.0)), (1062, np.float64(0.017366844078265137)), (1063, np.float64(0.0)), (1064, np.float64(0.0)), (1065, np.float64(0.0)), (1066, np.float64(0.0)), (1067, np.float64(0.03880055269734063)), (1068, np.float64(0.0)), (1069, np.float64(0.0)), (1070, np.float64(0.0)), (1071, np.float64(0.0)), (1072, np.float64(0.13563074627438887)), (1073, np.float64(0.018517308656743194)), (1074, np.float64(0.0)), (1075, np.float64(0.0)), (1076, np.float64(0.019307822995946914)), (1077, np.float64(0.021267008387670972)), (1078, np.float64(0.0)), (1079, np.float64(0.04445599113993723)), (1080, np.float64(0.0)), (1081, np.float64(0.0)), (1082, np.float64(0.0)), (1083, np.float64(0.0)), (1084, np.float64(0.021609595418137468)), (1085, np.float64(0.0)), (1086, np.float64(0.0)), (1087, np.float64(0.0)), (1088, np.float64(0.024841426113248216)), (1089, np.float64(0.0)), (1090, np.float64(0.0)), (1091, np.float64(0.0)), (1092, np.float64(0.0)), (1093, np.float64(0.0)), (1094, np.float64(0.0)), (1095, np.float64(0.0)), (1096, np.float64(0.0)), (1097, np.float64(0.0)), (1098, np.float64(0.0)), (1099, np.float64(0.0)), (1100, np.float64(0.0)), (1101, np.float64(0.0)), (1102, np.float64(0.0)), (1103, np.float64(0.02402659249003518)), (1104, np.float64(0.02209829754457277)), (1105, np.float64(0.0)), (1106, np.float64(0.0)), (1107, np.float64(0.10626866152826724)), (1108, np.float64(0.0)), (1109, np.float64(0.0)), (1110, np.float64(0.0)), (1111, np.float64(0.0)), (1112, np.float64(0.020255682040631683)), (1113, np.float64(0.0)), (1114, np.float64(0.0)), (1115, np.float64(0.0)), (1116, np.float64(0.0)), (1117, np.float64(0.0)), (1118, np.float64(0.0)), (1119, np.float64(0.0)), (1120, np.float64(0.0)), (1121, np.float64(0.0)), (1122, np.float64(0.0)), (1123, np.float64(0.0)), (1124, np.float64(0.0)), (1125, np.float64(0.0)), (1126, np.float64(0.0)), (1127, np.float64(0.0)), (1128, np.float64(0.0)), (1129, np.float64(0.0)), (1130, np.float64(0.0)), (1131, np.float64(0.0)), (1132, np.float64(0.01874688127367292)), (1133, np.float64(0.0)), (1134, np.float64(0.0)), (1135, np.float64(0.0)), (1136, np.float64(0.0)), (1137, np.float64(0.0)), (1138, np.float64(0.0)), (1139, np.float64(0.0)), (1140, np.float64(0.0)), (1141, np.float64(0.0)), (1142, np.float64(0.0)), (1143, np.float64(0.0)), (1144, np.float64(0.0)), (1145, np.float64(0.0)), (1146, np.float64(0.0)), (1147, np.float64(0.0)), (1148, np.float64(0.0)), (1149, np.float64(0.0)), (1150, np.float64(0.0)), (1151, np.float64(0.0)), (1152, np.float64(0.0)), (1153, np.float64(0.0)), (1154, np.float64(0.0)), (1155, np.float64(0.0)), (1156, np.float64(0.0)), (1157, np.float64(0.0)), (1158, np.float64(0.0)), (1159, np.float64(0.0)), (1160, np.float64(0.0)), (1161, np.float64(0.0)), (1162, np.float64(0.035536180911974795)), (1163, np.float64(0.0)), (1164, np.float64(0.0)), (1165, np.float64(0.0)), (1166, np.float64(0.0)), (1167, np.float64(0.0)), (1168, np.float64(0.0)), (1169, np.float64(0.0)), (1170, np.float64(0.0)), (1171, np.float64(0.0)), (1172, np.float64(0.0)), (1173, np.float64(0.0)), (1174, np.float64(0.0)), (1175, np.float64(0.0)), (1176, np.float64(0.11055262825987305)), (1177, np.float64(0.0)), (1178, np.float64(0.0)), (1179, np.float64(0.0)), (1180, np.float64(0.047547736985417206)), (1181, np.float64(0.0)), (1182, np.float64(0.1458736648499198)), (1183, np.float64(0.0)), (1184, np.float64(0.0)), (1185, np.float64(0.0)), (1186, np.float64(0.0)), (1187, np.float64(0.0)), (1188, np.float64(0.0)), (1189, np.float64(0.0)), (1190, np.float64(0.0)), (1191, np.float64(0.0)), (1192, np.float64(0.0)), (1193, np.float64(0.0)), (1194, np.float64(0.0)), (1195, np.float64(0.035306705703000665)), (1196, np.float64(0.0)), (1197, np.float64(0.0)), (1198, np.float64(0.0)), (1199, np.float64(0.0)), (1200, np.float64(0.0)), (1201, np.float64(0.0)), (1202, np.float64(0.01829343803830552)), (1203, np.float64(0.0)), (1204, np.float64(0.0)), (1205, np.float64(0.0)), (1206, np.float64(0.0)), (1207, np.float64(0.0)), (1208, np.float64(0.0)), (1209, np.float64(0.0)), (1210, np.float64(0.0)), (1211, np.float64(0.0)), (1212, np.float64(0.07443915667403352)), (1213, np.float64(0.0)), (1214, np.float64(0.0)), (1215, np.float64(0.0)), (1216, np.float64(0.0)), (1217, np.float64(0.0)), (1218, np.float64(0.0)), (1219, np.float64(0.0)), (1220, np.float64(0.0)), (1221, np.float64(0.0)), (1222, np.float64(0.0)), (1223, np.float64(0.048510544431550645)), (1224, np.float64(0.0)), (1225, np.float64(0.0)), (1226, np.float64(0.0)), (1227, np.float64(0.0)), (1228, np.float64(0.0)), (1229, np.float64(0.0)), (1230, np.float64(0.0)), (1231, np.float64(0.01983157415356846)), (1232, np.float64(0.0)), (1233, np.float64(0.0)), (1234, np.float64(0.0)), (1235, np.float64(0.0)), (1236, np.float64(0.0)), (1237, np.float64(0.0)), (1238, np.float64(0.0)), (1239, np.float64(0.0)), (1240, np.float64(0.0)), (1241, np.float64(0.0)), (1242, np.float64(0.0)), (1243, np.float64(0.0)), (1244, np.float64(0.0)), (1245, np.float64(0.0)), (1246, np.float64(0.0)), (1247, np.float64(0.0)), (1248, np.float64(0.0)), (1249, np.float64(0.0)), (1250, np.float64(0.0)), (1251, np.float64(0.0)), (1252, np.float64(0.0)), (1253, np.float64(0.0)), (1254, np.float64(0.0)), (1255, np.float64(0.035562677058564786)), (1256, np.float64(0.0)), (1257, np.float64(0.0)), (1258, np.float64(0.0)), (1259, np.float64(0.0)), (1260, np.float64(0.0)), (1261, np.float64(0.0)), (1262, np.float64(0.0)), (1263, np.float64(0.0)), (1264, np.float64(0.0)), (1265, np.float64(0.0)), (1266, np.float64(0.0)), (1267, np.float64(0.0)), (1268, np.float64(0.0)), (1269, np.float64(0.0)), (1270, np.float64(0.0)), (1271, np.float64(0.0)), (1272, np.float64(0.0)), (1273, np.float64(0.0)), (1274, np.float64(0.0)), (1275, np.float64(0.0)), (1276, np.float64(0.14310303960367568)), (1277, np.float64(0.0)), (1278, np.float64(0.0)), (1279, np.float64(0.0)), (1280, np.float64(0.0)), (1281, np.float64(0.0)), (1282, np.float64(0.0)), (1283, np.float64(0.0)), (1284, np.float64(0.07601009577894455)), (1285, np.float64(0.0)), (1286, np.float64(0.0)), (1287, np.float64(0.0)), (1288, np.float64(0.0)), (1289, np.float64(0.0)), (1290, np.float64(0.0)), (1291, np.float64(0.0)), (1292, np.float64(0.022231200123652626)), (1293, np.float64(0.0)), (1294, np.float64(0.0)), (1295, np.float64(0.0)), (1296, np.float64(0.0)), (1297, np.float64(0.0)), (1298, np.float64(0.0)), (1299, np.float64(0.0)), (1300, np.float64(0.0)), (1301, np.float64(0.0)), (1302, np.float64(0.0)), (1303, np.float64(0.0)), (1304, np.float64(0.0)), (1305, np.float64(0.0)), (1306, np.float64(0.0)), (1307, np.float64(0.0)), (1308, np.float64(0.0)), (1309, np.float64(0.0)), (1310, np.float64(0.0)), (1311, np.float64(0.0)), (1312, np.float64(0.0)), (1313, np.float64(0.0)), (1314, np.float64(0.0)), (1315, np.float64(0.058078347709838225)), (1316, np.float64(0.0)), (1317, np.float64(0.0)), (1318, np.float64(0.0)), (1319, np.float64(0.1452596760077319)), (1320, np.float64(0.0)), (1321, np.float64(0.0)), (1322, np.float64(0.0)), (1323, np.float64(0.0)), (1324, np.float64(0.0)), (1325, np.float64(0.0)), (1326, np.float64(0.0)), (1327, np.float64(0.13112365385330105)), (1328, np.float64(0.0)), (1329, np.float64(0.0)), (1330, np.float64(0.0)), (1331, np.float64(0.0)), (1332, np.float64(0.0)), (1333, np.float64(0.0)), (1334, np.float64(0.0)), (1335, np.float64(0.0)), (1336, np.float64(0.0)), (1337, np.float64(0.0)), (1338, np.float64(0.0)), (1339, np.float64(0.0)), (1340, np.float64(0.0)), (1341, np.float64(0.0)), (1342, np.float64(0.0)), (1343, np.float64(0.0)), (1344, np.float64(0.0)), (1345, np.float64(0.0)), (1346, np.float64(0.0)), (1347, np.float64(0.0)), (1348, np.float64(0.0)), (1349, np.float64(0.0)), (1350, np.float64(0.0)), (1351, np.float64(0.0)), (1352, np.float64(0.01687164472210001)), (1353, np.float64(0.0)), (1354, np.float64(0.0)), (1355, np.float64(0.0)), (1356, np.float64(0.0)), (1357, np.float64(0.0)), (1358, np.float64(0.0)), (1359, np.float64(0.0)), (1360, np.float64(0.0)), (1361, np.float64(0.0)), (1362, np.float64(0.0)), (1363, np.float64(0.0)), (1364, np.float64(0.021566376663915938)), (1365, np.float64(0.017412379854411707)), (1366, np.float64(0.0)), (1367, np.float64(0.0)), (1368, np.float64(0.0)), (1369, np.float64(0.0)), (1370, np.float64(0.0)), (1371, np.float64(0.0)), (1372, np.float64(0.0)), (1373, np.float64(0.019296279913226126)), (1374, np.float64(0.0)), (1375, np.float64(0.0)), (1376, np.float64(0.027969119595801954)), (1377, np.float64(0.0)), (1378, np.float64(0.0)), (1379, np.float64(0.0)), (1380, np.float64(0.0)), (1381, np.float64(0.0)), (1382, np.float64(0.0)), (1383, np.float64(0.04194845890274168)), (1384, np.float64(0.0)), (1385, np.float64(0.0)), (1386, np.float64(0.0)), (1387, np.float64(0.0)), (1388, np.float64(0.0)), (1389, np.float64(0.030422529678096888)), (1390, np.float64(0.0)), (1391, np.float64(0.0)), (1392, np.float64(0.0)), (1393, np.float64(0.0)), (1394, np.float64(0.0)), (1395, np.float64(0.0)), (1396, np.float64(0.0)), (1397, np.float64(0.0)), (1398, np.float64(0.0)), (1399, np.float64(0.0)), (1400, np.float64(0.0)), (1401, np.float64(0.0)), (1402, np.float64(0.0)), (1403, np.float64(0.0)), (1404, np.float64(0.0)), (1405, np.float64(0.10657154786601304)), (1406, np.float64(0.018126990359128525)), (1407, np.float64(0.0)), (1408, np.float64(0.0)), (1409, np.float64(0.0953442615123592)), (1410, np.float64(0.0)), (1411, np.float64(0.0)), (1412, np.float64(0.0)), (1413, np.float64(0.0)), (1414, np.float64(0.0)), (1415, np.float64(0.0)), (1416, np.float64(0.0)), (1417, np.float64(0.0)), (1418, np.float64(0.0)), (1419, np.float64(0.0)), (1420, np.float64(0.0)), (1421, np.float64(0.019470558361282923)), (1422, np.float64(0.0)), (1423, np.float64(0.0)), (1424, np.float64(0.0)), (1425, np.float64(0.0)), (1426, np.float64(0.0)), (1427, np.float64(0.0)), (1428, np.float64(0.0)), (1429, np.float64(0.0)), (1430, np.float64(0.0)), (1431, np.float64(0.0)), (1432, np.float64(0.0)), (1433, np.float64(0.08043458995292316)), (1434, np.float64(0.0)), (1435, np.float64(0.0)), (1436, np.float64(0.0)), (1437, np.float64(0.0)), (1438, np.float64(0.0)), (1439, np.float64(0.0)), (1440, np.float64(0.0)), (1441, np.float64(0.0)), (1442, np.float64(0.0)), (1443, np.float64(0.0)), (1444, np.float64(0.0)), (1445, np.float64(0.0)), (1446, np.float64(0.0)), (1447, np.float64(0.01992642016612886)), (1448, np.float64(0.0)), (1449, np.float64(0.0)), (1450, np.float64(0.0)), (1451, np.float64(0.0)), (1452, np.float64(0.0)), (1453, np.float64(0.0)), (1454, np.float64(0.0)), (1455, np.float64(0.0)), (1456, np.float64(0.0)), (1457, np.float64(0.0)), (1458, np.float64(0.0)), (1459, np.float64(0.0647517349895464)), (1460, np.float64(0.0)), (1461, np.float64(0.02984810829374943)), (1462, np.float64(0.0)), (1463, np.float64(0.0)), (1464, np.float64(0.017703774954997583)), (1465, np.float64(0.0)), (1466, np.float64(0.0)), (1467, np.float64(0.0)), (1468, np.float64(0.0)), (1469, np.float64(0.0)), (1470, np.float64(0.0)), (1471, np.float64(0.0)), (1472, np.float64(0.0)), (1473, np.float64(0.17142873486713817)), (1474, np.float64(0.0)), (1475, np.float64(0.0)), (1476, np.float64(0.0)), (1477, np.float64(0.10839359906162642)), (1478, np.float64(0.0)), (1479, np.float64(0.0)), (1480, np.float64(0.0)), (1481, np.float64(0.04739884382473364)), (1482, np.float64(0.01835334480285213)), (1483, np.float64(0.0)), (1484, np.float64(0.06274915553722135)), (1485, np.float64(0.0)), (1486, np.float64(0.0)), (1487, np.float64(0.0)), (1488, np.float64(0.0)), (1489, np.float64(0.0)), (1490, np.float64(0.0)), (1491, np.float64(0.0)), (1492, np.float64(0.016656065502543265)), (1493, np.float64(0.0)), (1494, np.float64(0.0)), (1495, np.float64(0.0)), (1496, np.float64(0.0)), (1497, np.float64(0.0)), (1498, np.float64(0.0)), (1499, np.float64(0.0)), (1500, np.float64(0.0)), (1501, np.float64(0.0)), (1502, np.float64(0.0)), (1503, np.float64(0.0)), (1504, np.float64(0.0)), (1505, np.float64(0.0)), (1506, np.float64(0.0)), (1507, np.float64(0.0)), (1508, np.float64(0.0)), (1509, np.float64(0.0)), (1510, np.float64(0.0)), (1511, np.float64(0.0)), (1512, np.float64(0.0)), (1513, np.float64(0.0)), (1514, np.float64(0.0)), (1515, np.float64(0.0)), (1516, np.float64(0.0)), (1517, np.float64(0.0)), (1518, np.float64(0.0)), (1519, np.float64(0.0)), (1520, np.float64(0.0)), (1521, np.float64(0.0)), (1522, np.float64(0.0)), (1523, np.float64(0.06791470984511298)), (1524, np.float64(0.11056030046498931)), (1525, np.float64(0.0)), (1526, np.float64(0.0)), (1527, np.float64(0.0)), (1528, np.float64(0.0)), (1529, np.float64(0.019290818892348637)), (1530, np.float64(0.0)), (1531, np.float64(0.0)), (1532, np.float64(0.020127313239894046)), (1533, np.float64(0.0)), (1534, np.float64(0.0)), (1535, np.float64(0.0)), (1536, np.float64(0.0)), (1537, np.float64(0.0)), (1538, np.float64(0.0338610542524597)), (1539, np.float64(0.0)), (1540, np.float64(0.0)), (1541, np.float64(0.0)), (1542, np.float64(0.0)), (1543, np.float64(0.0)), (1544, np.float64(0.0)), (1545, np.float64(0.0)), (1546, np.float64(0.0)), (1547, np.float64(0.0)), (1548, np.float64(0.0)), (1549, np.float64(0.0)), (1550, np.float64(0.0)), (1551, np.float64(0.0)), (1552, np.float64(0.038445773676286966)), (1553, np.float64(0.0)), (1554, np.float64(0.0)), (1555, np.float64(0.044929366875698755)), (1556, np.float64(0.0)), (1557, np.float64(0.12077175875871181)), (1558, np.float64(0.0)), (1559, np.float64(0.0)), (1560, np.float64(0.0)), (1561, np.float64(0.01985576053574405)), (1562, np.float64(0.0)), (1563, np.float64(0.0)), (1564, np.float64(0.03160315594779345)), (1565, np.float64(0.0)), (1566, np.float64(0.0)), (1567, np.float64(0.0)), (1568, np.float64(0.0)), (1569, np.float64(0.0)), (1570, np.float64(0.0)), (1571, np.float64(0.0)), (1572, np.float64(0.0)), (1573, np.float64(0.0)), (1574, np.float64(0.0)), (1575, np.float64(0.0)), (1576, np.float64(0.0)), (1577, np.float64(0.0)), (1578, np.float64(0.021304140243597933)), (1579, np.float64(0.0)), (1580, np.float64(0.0)), (1581, np.float64(0.0)), (1582, np.float64(0.0)), (1583, np.float64(0.0)), (1584, np.float64(0.04993277340985535)), (1585, np.float64(0.0)), (1586, np.float64(0.0)), (1587, np.float64(0.0)), (1588, np.float64(0.0)), (1589, np.float64(0.0)), (1590, np.float64(0.0)), (1591, np.float64(0.0)), (1592, np.float64(0.0)), (1593, np.float64(0.0)), (1594, np.float64(0.02425720934198799)), (1595, np.float64(0.0)), (1596, np.float64(0.0)), (1597, np.float64(0.0)), (1598, np.float64(0.0)), (1599, np.float64(0.0)), (1600, np.float64(0.0)), (1601, np.float64(0.0)), (1602, np.float64(0.0)), (1603, np.float64(0.0)), (1604, np.float64(0.0)), (1605, np.float64(0.0)), (1606, np.float64(0.0)), (1607, np.float64(0.0)), (1608, np.float64(0.0)), (1609, np.float64(0.0)), (1610, np.float64(0.0)), (1611, np.float64(0.0)), (1612, np.float64(0.0)), (1613, np.float64(0.0)), (1614, np.float64(0.0)), (1615, np.float64(0.0)), (1616, np.float64(0.0)), (1617, np.float64(0.0)), (1618, np.float64(0.0)), (1619, np.float64(0.0)), (1620, np.float64(0.0)), (1621, np.float64(0.021098979189036707)), (1622, np.float64(0.0)), (1623, np.float64(0.0)), (1624, np.float64(0.0)), (1625, np.float64(0.020380231032955134)), (1626, np.float64(0.0)), (1627, np.float64(0.0)), (1628, np.float64(0.0)), (1629, np.float64(0.03720205335190738)), (1630, np.float64(0.0)), (1631, np.float64(0.0)), (1632, np.float64(0.0)), (1633, np.float64(0.0)), (1634, np.float64(0.05092857225144587)), (1635, np.float64(0.0)), (1636, np.float64(0.0)), (1637, np.float64(0.0)), (1638, np.float64(0.0)), (1639, np.float64(0.0)), (1640, np.float64(0.0)), (1641, np.float64(0.0)), (1642, np.float64(0.0)), (1643, np.float64(0.03621101854082751)), (1644, np.float64(0.0)), (1645, np.float64(0.0)), (1646, np.float64(0.01646459328272264)), (1647, np.float64(0.05503550367003847)), (1648, np.float64(0.0)), (1649, np.float64(0.0)), (1650, np.float64(0.0)), (1651, np.float64(0.0)), (1652, np.float64(0.0)), (1653, np.float64(0.0)), (1654, np.float64(0.0)), (1655, np.float64(0.0)), (1656, np.float64(0.0)), (1657, np.float64(0.0)), (1658, np.float64(0.0)), (1659, np.float64(0.0)), (1660, np.float64(0.0)), (1661, np.float64(0.0)), (1662, np.float64(0.0)), (1663, np.float64(0.019123757621438885)), (1664, np.float64(0.0)), (1665, np.float64(0.0)), (1666, np.float64(0.0)), (1667, np.float64(0.019122462278790588)), (1668, np.float64(0.0)), (1669, np.float64(0.0)), (1670, np.float64(0.0)), (1671, np.float64(0.0)), (1672, np.float64(0.0)), (1673, np.float64(0.11760158209969113)), (1674, np.float64(0.0)), (1675, np.float64(0.0)), (1676, np.float64(0.0)), (1677, np.float64(0.0)), (1678, np.float64(0.0)), (1679, np.float64(0.0)), (1680, np.float64(0.0)), (1681, np.float64(0.0)), (1682, np.float64(0.0)), (1683, np.float64(0.0)), (1684, np.float64(0.0)), (1685, np.float64(0.0)), (1686, np.float64(0.0)), (1687, np.float64(0.0)), (1688, np.float64(0.0)), (1689, np.float64(0.0)), (1690, np.float64(0.0)), (1691, np.float64(0.0)), (1692, np.float64(0.0)), (1693, np.float64(0.0)), (1694, np.float64(0.0)), (1695, np.float64(0.0)), (1696, np.float64(0.0)), (1697, np.float64(0.0)), (1698, np.float64(0.0)), (1699, np.float64(0.0)), (1700, np.float64(0.0)), (1701, np.float64(0.0)), (1702, np.float64(0.0)), (1703, np.float64(0.0)), (1704, np.float64(0.0)), (1705, np.float64(0.0)), (1706, np.float64(0.0)), (1707, np.float64(0.0)), (1708, np.float64(0.0)), (1709, np.float64(0.0)), (1710, np.float64(0.0)), (1711, np.float64(0.0)), (1712, np.float64(0.04100993167415097)), (1713, np.float64(0.0)), (1714, np.float64(0.2557786356939867)), (1715, np.float64(0.07672270361609788)), (1716, np.float64(0.0)), (1717, np.float64(0.0)), (1718, np.float64(0.0)), (1719, np.float64(0.0)), (1720, np.float64(0.0)), (1721, np.float64(0.0)), (1722, np.float64(0.0)), (1723, np.float64(0.0)), (1724, np.float64(0.0)), (1725, np.float64(0.0)), (1726, np.float64(0.050263383186847296)), (1727, np.float64(0.0)), (1728, np.float64(0.0)), (1729, np.float64(0.0)), (1730, np.float64(0.0)), (1731, np.float64(0.0)), (1732, np.float64(0.0)), (1733, np.float64(0.0)), (1734, np.float64(0.0)), (1735, np.float64(0.0)), (1736, np.float64(0.0)), (1737, np.float64(0.1408198822571076)), (1738, np.float64(0.0)), (1739, np.float64(0.0)), (1740, np.float64(0.0)), (1741, np.float64(0.020624464081932855)), (1742, np.float64(0.0)), (1743, np.float64(0.0)), (1744, np.float64(0.0)), (1745, np.float64(0.0)), (1746, np.float64(0.0)), (1747, np.float64(0.0)), (1748, np.float64(0.0)), (1749, np.float64(0.0)), (1750, np.float64(0.0)), (1751, np.float64(0.0)), (1752, np.float64(0.0)), (1753, np.float64(0.0)), (1754, np.float64(0.0)), (1755, np.float64(0.0)), (1756, np.float64(0.0)), (1757, np.float64(0.0)), (1758, np.float64(0.20072884591130202)), (1759, np.float64(0.018216321264082767)), (1760, np.float64(0.0)), (1761, np.float64(0.0)), (1762, np.float64(0.020150181642161508)), (1763, np.float64(0.0)), (1764, np.float64(0.05117811373136487)), (1765, np.float64(0.0)), (1766, np.float64(0.0)), (1767, np.float64(0.0)), (1768, np.float64(0.02147218920031277)), (1769, np.float64(0.0)), (1770, np.float64(0.0)), (1771, np.float64(0.05386903828505199)), (1772, np.float64(0.0)), (1773, np.float64(0.0)), (1774, np.float64(0.014680627042244761)), (1775, np.float64(0.0)), (1776, np.float64(0.0)), (1777, np.float64(0.0)), (1778, np.float64(0.03877658745302266)), (1779, np.float64(0.0)), (1780, np.float64(0.0)), (1781, np.float64(0.0)), (1782, np.float64(0.0)), (1783, np.float64(0.0)), (1784, np.float64(0.0)), (1785, np.float64(0.0)), (1786, np.float64(0.0)), (1787, np.float64(0.0)), (1788, np.float64(0.0)), (1789, np.float64(0.0)), (1790, np.float64(0.0)), (1791, np.float64(0.0)), (1792, np.float64(0.0)), (1793, np.float64(0.0)), (1794, np.float64(0.0)), (1795, np.float64(0.0)), (1796, np.float64(0.0)), (1797, np.float64(0.0)), (1798, np.float64(0.0)), (1799, np.float64(0.0)), (1800, np.float64(0.0)), (1801, np.float64(0.0)), (1802, np.float64(0.0)), (1803, np.float64(0.0)), (1804, np.float64(0.0)), (1805, np.float64(0.0)), (1806, np.float64(0.0)), (1807, np.float64(0.0)), (1808, np.float64(0.0)), (1809, np.float64(0.0)), (1810, np.float64(0.07434692365698804)), (1811, np.float64(0.0)), (1812, np.float64(0.04469241116334742)), (1813, np.float64(0.0)), (1814, np.float64(0.0)), (1815, np.float64(0.0)), (1816, np.float64(0.0)), (1817, np.float64(0.0)), (1818, np.float64(0.0)), (1819, np.float64(0.0)), (1820, np.float64(0.0)), (1821, np.float64(0.0)), (1822, np.float64(0.0)), (1823, np.float64(0.0)), (1824, np.float64(0.0)), (1825, np.float64(0.0)), (1826, np.float64(0.0)), (1827, np.float64(0.0)), (1828, np.float64(0.0)), (1829, np.float64(0.0)), (1830, np.float64(0.0)), (1831, np.float64(0.0)), (1832, np.float64(0.0)), (1833, np.float64(0.06521012401308847)), (1834, np.float64(0.0)), (1835, np.float64(0.0)), (1836, np.float64(0.0)), (1837, np.float64(0.0)), (1838, np.float64(0.0)), (1839, np.float64(0.0)), (1840, np.float64(0.0)), (1841, np.float64(0.0)), (1842, np.float64(0.0)), (1843, np.float64(0.037332526292998894)), (1844, np.float64(0.0)), (1845, np.float64(0.01615389278681933)), (1846, np.float64(0.036200983879294206)), (1847, np.float64(0.0)), (1848, np.float64(0.0)), (1849, np.float64(0.0)), (1850, np.float64(0.0)), (1851, np.float64(0.0)), (1852, np.float64(0.0)), (1853, np.float64(0.0)), (1854, np.float64(0.0)), (1855, np.float64(0.0)), (1856, np.float64(0.0)), (1857, np.float64(0.0)), (1858, np.float64(0.0)), (1859, np.float64(0.0)), (1860, np.float64(0.10982573597508676)), (1861, np.float64(0.07520157629361776)), (1862, np.float64(0.0)), (1863, np.float64(0.0)), (1864, np.float64(0.03551880943659885)), (1865, np.float64(0.0)), (1866, np.float64(0.0)), (1867, np.float64(0.0)), (1868, np.float64(0.0)), (1869, np.float64(0.0)), (1870, np.float64(0.0)), (1871, np.float64(0.0)), (1872, np.float64(0.0)), (1873, np.float64(0.0)), (1874, np.float64(0.0)), (1875, np.float64(0.0)), (1876, np.float64(0.0)), (1877, np.float64(0.01983912746973866)), (1878, np.float64(0.0)), (1879, np.float64(0.0)), (1880, np.float64(0.0)), (1881, np.float64(0.0)), (1882, np.float64(0.0)), (1883, np.float64(0.0)), (1884, np.float64(0.0)), (1885, np.float64(0.0)), (1886, np.float64(0.13927803931711)), (1887, np.float64(0.0)), (1888, np.float64(0.0)), (1889, np.float64(0.0)), (1890, np.float64(0.0)), (1891, np.float64(0.0)), (1892, np.float64(0.0)), (1893, np.float64(0.0)), (1894, np.float64(0.0)), (1895, np.float64(0.0)), (1896, np.float64(0.0)), (1897, np.float64(0.0)), (1898, np.float64(0.0)), (1899, np.float64(0.0)), (1900, np.float64(0.0)), (1901, np.float64(0.0)), (1902, np.float64(0.034359883503022624)), (1903, np.float64(0.0)), (1904, np.float64(0.0)), (1905, np.float64(0.0)), (1906, np.float64(0.0)), (1907, np.float64(0.0)), (1908, np.float64(0.0)), (1909, np.float64(0.0)), (1910, np.float64(0.0)), (1911, np.float64(0.0)), (1912, np.float64(0.01833145192889173)), (1913, np.float64(0.0)), (1914, np.float64(0.0)), (1915, np.float64(0.0)), (1916, np.float64(0.0)), (1917, np.float64(0.0)), (1918, np.float64(0.0)), (1919, np.float64(0.0)), (1920, np.float64(0.045437804376370676)), (1921, np.float64(0.0)), (1922, np.float64(0.0)), (1923, np.float64(0.0)), (1924, np.float64(0.0)), (1925, np.float64(0.0)), (1926, np.float64(0.04236353460386075)), (1927, np.float64(0.09233722899714569)), (1928, np.float64(0.0)), (1929, np.float64(0.0)), (1930, np.float64(0.0)), (1931, np.float64(0.0)), (1932, np.float64(0.0)), (1933, np.float64(0.0)), (1934, np.float64(0.0)), (1935, np.float64(0.01995921399568816)), (1936, np.float64(0.0)), (1937, np.float64(0.0)), (1938, np.float64(0.0)), (1939, np.float64(0.0)), (1940, np.float64(0.0)), (1941, np.float64(0.0)), (1942, np.float64(0.0)), (1943, np.float64(0.0)), (1944, np.float64(0.0)), (1945, np.float64(0.0)), (1946, np.float64(0.0)), (1947, np.float64(0.0)), (1948, np.float64(0.0)), (1949, np.float64(0.0)), (1950, np.float64(0.07413075392959681)), (1951, np.float64(0.024423600595322746)), (1952, np.float64(0.0)), (1953, np.float64(0.0207739742341394)), (1954, np.float64(0.03662810500966105)), (1955, np.float64(0.0)), (1956, np.float64(0.0)), (1957, np.float64(0.0)), (1958, np.float64(0.033775886183798266)), (1959, np.float64(0.09529081951965865)), (1960, np.float64(0.0)), (1961, np.float64(0.0)), (1962, np.float64(0.0)), (1963, np.float64(0.014782361190887189)), (1964, np.float64(0.05553018810498634)), (1965, np.float64(0.0)), (1966, np.float64(0.0)), (1967, np.float64(0.0)), (1968, np.float64(0.0)), (1969, np.float64(0.0)), (1970, np.float64(0.0)), (1971, np.float64(0.0)), (1972, np.float64(0.07256117374456207)), (1973, np.float64(0.018401572466679422)), (1974, np.float64(0.05867572411846853)), (1975, np.float64(0.0)), (1976, np.float64(0.0)), (1977, np.float64(0.0)), (1978, np.float64(0.0)), (1979, np.float64(0.020917240776694393)), (1980, np.float64(0.0)), (1981, np.float64(0.0)), (1982, np.float64(0.0)), (1983, np.float64(0.0)), (1984, np.float64(0.0)), (1985, np.float64(0.0)), (1986, np.float64(0.0)), (1987, np.float64(0.0)), (1988, np.float64(0.0)), (1989, np.float64(0.0)), (1990, np.float64(0.0)), (1991, np.float64(0.0)), (1992, np.float64(0.0)), (1993, np.float64(0.0)), (1994, np.float64(0.0)), (1995, np.float64(0.0)), (1996, np.float64(0.0)), (1997, np.float64(0.0)), (1998, np.float64(0.0)), (1999, np.float64(0.0)), (2000, np.float64(0.0)), (2001, np.float64(0.0)), (2002, np.float64(0.0)), (2003, np.float64(0.0)), (2004, np.float64(0.0)), (2005, np.float64(0.0)), (2006, np.float64(0.0)), (2007, np.float64(0.0)), (2008, np.float64(0.0)), (2009, np.float64(0.02310305257184649)), (2010, np.float64(0.0)), (2011, np.float64(0.0)), (2012, np.float64(0.0)), (2013, np.float64(0.0)), (2014, np.float64(0.0)), (2015, np.float64(0.0)), (2016, np.float64(0.0)), (2017, np.float64(0.0)), (2018, np.float64(0.0)), (2019, np.float64(0.0)), (2020, np.float64(0.0)), (2021, np.float64(0.0)), (2022, np.float64(0.0)), (2023, np.float64(0.0)), (2024, np.float64(0.0)), (2025, np.float64(0.0)), (2026, np.float64(0.0)), (2027, np.float64(0.0)), (2028, np.float64(0.0)), (2029, np.float64(0.0)), (2030, np.float64(0.0)), (2031, np.float64(0.0)), (2032, np.float64(0.0)), (2033, np.float64(0.0)), (2034, np.float64(0.0)), (2035, np.float64(0.0)), (2036, np.float64(0.0)), (2037, np.float64(0.0)), (2038, np.float64(0.0)), (2039, np.float64(0.0)), (2040, np.float64(0.04904052705806735)), (2041, np.float64(0.06354504873342659)), (2042, np.float64(0.0)), (2043, np.float64(0.0)), (2044, np.float64(0.0)), (2045, np.float64(0.0)), (2046, np.float64(0.0)), (2047, np.float64(0.0)), (2048, np.float64(0.0)), (2049, np.float64(0.0)), (2050, np.float64(0.0)), (2051, np.float64(0.0)), (2052, np.float64(0.0)), (2053, np.float64(0.0)), (2054, np.float64(0.0)), (2055, np.float64(0.0)), (2056, np.float64(0.0)), (2057, np.float64(0.0)), (2058, np.float64(0.0)), (2059, np.float64(0.0)), (2060, np.float64(0.0)), (2061, np.float64(0.0)), (2062, np.float64(0.0)), (2063, np.float64(0.0)), (2064, np.float64(0.0)), (2065, np.float64(0.0)), (2066, np.float64(0.0)), (2067, np.float64(0.0)), (2068, np.float64(0.0)), (2069, np.float64(0.0)), (2070, np.float64(0.0)), (2071, np.float64(0.0)), (2072, np.float64(0.0)), (2073, np.float64(0.0)), (2074, np.float64(0.0)), (2075, np.float64(0.0)), (2076, np.float64(0.0)), (2077, np.float64(0.0)), (2078, np.float64(0.0)), (2079, np.float64(0.0)), (2080, np.float64(0.0)), (2081, np.float64(0.0)), (2082, np.float64(0.0)), (2083, np.float64(0.0)), (2084, np.float64(0.0)), (2085, np.float64(0.0)), (2086, np.float64(0.0)), (2087, np.float64(0.0)), (2088, np.float64(0.0)), (2089, np.float64(0.0)), (2090, np.float64(0.0)), (2091, np.float64(0.0450997029860115)), (2092, np.float64(0.0)), (2093, np.float64(0.0)), (2094, np.float64(0.0)), (2095, np.float64(0.0)), (2096, np.float64(0.0)), (2097, np.float64(0.0)), (2098, np.float64(0.11573432947227445)), (2099, np.float64(0.0)), (2100, np.float64(0.0)), (2101, np.float64(0.0)), (2102, np.float64(0.0)), (2103, np.float64(0.0)), (2104, np.float64(0.0)), (2105, np.float64(0.0)), (2106, np.float64(0.0)), (2107, np.float64(0.0)), (2108, np.float64(0.0)), (2109, np.float64(0.019093903899992406)), (2110, np.float64(0.0)), (2111, np.float64(0.06607180394915108)), (2112, np.float64(0.0)), (2113, np.float64(0.0797295117110705)), (2114, np.float64(0.0)), (2115, np.float64(0.0)), (2116, np.float64(0.02956040541716408)), (2117, np.float64(0.020377271313601748)), (2118, np.float64(0.0)), (2119, np.float64(0.0)), (2120, np.float64(0.0)), (2121, np.float64(0.055754319729900595)), (2122, np.float64(0.0)), (2123, np.float64(0.0)), (2124, np.float64(0.0)), (2125, np.float64(0.0)), (2126, np.float64(0.0)), (2127, np.float64(0.0)), (2128, np.float64(0.0)), (2129, np.float64(0.0)), (2130, np.float64(0.0)), (2131, np.float64(0.0)), (2132, np.float64(0.0)), (2133, np.float64(0.0)), (2134, np.float64(0.0)), (2135, np.float64(0.17394578335106212)), (2136, np.float64(0.0)), (2137, np.float64(0.0)), (2138, np.float64(0.023826425847330298)), (2139, np.float64(0.0)), (2140, np.float64(0.0)), (2141, np.float64(0.0)), (2142, np.float64(0.0)), (2143, np.float64(0.01914907012639433)), (2144, np.float64(0.021419270534276287)), (2145, np.float64(0.0)), (2146, np.float64(0.0)), (2147, np.float64(0.0)), (2148, np.float64(0.0)), (2149, np.float64(0.0)), (2150, np.float64(0.0)), (2151, np.float64(0.0)), (2152, np.float64(0.0)), (2153, np.float64(0.0)), (2154, np.float64(0.0)), (2155, np.float64(0.0)), (2156, np.float64(0.0)), (2157, np.float64(0.038944619392078245)), (2158, np.float64(0.0)), (2159, np.float64(0.0)), (2160, np.float64(0.0)), (2161, np.float64(0.0)), (2162, np.float64(0.0)), (2163, np.float64(0.0)), (2164, np.float64(0.0)), (2165, np.float64(0.0)), (2166, np.float64(0.0)), (2167, np.float64(0.0)), (2168, np.float64(0.0)), (2169, np.float64(0.0)), (2170, np.float64(0.0)), (2171, np.float64(0.0)), (2172, np.float64(0.0)), (2173, np.float64(0.0)), (2174, np.float64(0.0)), (2175, np.float64(0.0)), (2176, np.float64(0.0)), (2177, np.float64(0.0)), (2178, np.float64(0.0)), (2179, np.float64(0.0)), (2180, np.float64(0.0)), (2181, np.float64(0.0)), (2182, np.float64(0.0)), (2183, np.float64(0.0)), (2184, np.float64(0.0)), (2185, np.float64(0.0)), (2186, np.float64(0.0)), (2187, np.float64(0.0)), (2188, np.float64(0.0)), (2189, np.float64(0.0)), (2190, np.float64(0.026103668168221343)), (2191, np.float64(0.0)), (2192, np.float64(0.018416798768871426)), (2193, np.float64(0.0)), (2194, np.float64(0.0)), (2195, np.float64(0.0)), (2196, np.float64(0.0)), (2197, np.float64(0.0)), (2198, np.float64(0.0)), (2199, np.float64(0.0)), (2200, np.float64(0.0)), (2201, np.float64(0.03623525318530007)), (2202, np.float64(0.0)), (2203, np.float64(0.0)), (2204, np.float64(0.0)), (2205, np.float64(0.0)), (2206, np.float64(0.0)), (2207, np.float64(0.0)), (2208, np.float64(0.0)), (2209, np.float64(0.0)), (2210, np.float64(0.0)), (2211, np.float64(0.01624787164415482)), (2212, np.float64(0.0)), (2213, np.float64(0.0)), (2214, np.float64(0.0)), (2215, np.float64(0.0)), (2216, np.float64(0.0)), (2217, np.float64(0.0)), (2218, np.float64(0.0)), (2219, np.float64(0.0)), (2220, np.float64(0.0)), (2221, np.float64(0.0)), (2222, np.float64(0.0)), (2223, np.float64(0.0)), (2224, np.float64(0.0)), (2225, np.float64(0.0)), (2226, np.float64(0.0)), (2227, np.float64(0.0)), (2228, np.float64(0.0)), (2229, np.float64(0.0)), (2230, np.float64(0.0)), (2231, np.float64(0.0)), (2232, np.float64(0.0)), (2233, np.float64(0.0)), (2234, np.float64(0.02167103406368458)), (2235, np.float64(0.0)), (2236, np.float64(0.0)), (2237, np.float64(0.0)), (2238, np.float64(0.0)), (2239, np.float64(0.0)), (2240, np.float64(0.0)), (2241, np.float64(0.0)), (2242, np.float64(0.0)), (2243, np.float64(0.0)), (2244, np.float64(0.0)), (2245, np.float64(0.01854243304766979)), (2246, np.float64(0.0)), (2247, np.float64(0.0)), (2248, np.float64(0.0)), (2249, np.float64(0.0)), (2250, np.float64(0.04061642024614795)), (2251, np.float64(0.0)), (2252, np.float64(0.0)), (2253, np.float64(0.0)), (2254, np.float64(0.0)), (2255, np.float64(0.0)), (2256, np.float64(0.0)), (2257, np.float64(0.0)), (2258, np.float64(0.0)), (2259, np.float64(0.0)), (2260, np.float64(0.0)), (2261, np.float64(0.0)), (2262, np.float64(0.0)), (2263, np.float64(0.0)), (2264, np.float64(0.09847311071040724)), (2265, np.float64(0.0)), (2266, np.float64(0.0)), (2267, np.float64(0.0)), (2268, np.float64(0.0)), (2269, np.float64(0.0)), (2270, np.float64(0.0)), (2271, np.float64(0.0)), (2272, np.float64(0.0)), (2273, np.float64(0.0)), (2274, np.float64(0.0)), (2275, np.float64(0.0)), (2276, np.float64(0.0)), (2277, np.float64(0.0)), (2278, np.float64(0.0)), (2279, np.float64(0.0)), (2280, np.float64(0.0)), (2281, np.float64(0.0)), (2282, np.float64(0.0)), (2283, np.float64(0.0)), (2284, np.float64(0.048727033300420636)), (2285, np.float64(0.0)), (2286, np.float64(0.0)), (2287, np.float64(0.0)), (2288, np.float64(0.0)), (2289, np.float64(0.0)), (2290, np.float64(0.0)), (2291, np.float64(0.0)), (2292, np.float64(0.09193309041224453)), (2293, np.float64(0.0)), (2294, np.float64(0.0)), (2295, np.float64(0.0)), (2296, np.float64(0.0)), (2297, np.float64(0.0)), (2298, np.float64(0.0)), (2299, np.float64(0.0)), (2300, np.float64(0.0)), (2301, np.float64(0.0)), (2302, np.float64(0.0)), (2303, np.float64(0.0)), (2304, np.float64(0.0)), (2305, np.float64(0.0)), (2306, np.float64(0.0)), (2307, np.float64(0.0)), (2308, np.float64(0.0)), (2309, np.float64(0.0)), (2310, np.float64(0.0)), (2311, np.float64(0.0)), (2312, np.float64(0.0)), (2313, np.float64(0.0)), (2314, np.float64(0.0)), (2315, np.float64(0.0)), (2316, np.float64(0.05648772844233718)), (2317, np.float64(0.0)), (2318, np.float64(0.0)), (2319, np.float64(0.0)), (2320, np.float64(0.0)), (2321, np.float64(0.0)), (2322, np.float64(0.0)), (2323, np.float64(0.0)), (2324, np.float64(0.0)), (2325, np.float64(0.0)), (2326, np.float64(0.0)), (2327, np.float64(0.01824414536923824)), (2328, np.float64(0.0)), (2329, np.float64(0.0)), (2330, np.float64(0.0)), (2331, np.float64(0.0)), (2332, np.float64(0.0)), (2333, np.float64(0.0)), (2334, np.float64(0.0)), (2335, np.float64(0.13876733255831625)), (2336, np.float64(0.0)), (2337, np.float64(0.0)), (2338, np.float64(0.0)), (2339, np.float64(0.0)), (2340, np.float64(0.07507519959881291)), (2341, np.float64(0.0)), (2342, np.float64(0.0)), (2343, np.float64(0.0)), (2344, np.float64(0.0)), (2345, np.float64(0.0)), (2346, np.float64(0.0)), (2347, np.float64(0.0)), (2348, np.float64(0.0)), (2349, np.float64(0.0)), (2350, np.float64(0.0)), (2351, np.float64(0.0)), (2352, np.float64(0.016061426207363397)), (2353, np.float64(0.0)), (2354, np.float64(0.0)), (2355, np.float64(0.0)), (2356, np.float64(0.0)), (2357, np.float64(0.0)), (2358, np.float64(0.0)), (2359, np.float64(0.0)), (2360, np.float64(0.0)), (2361, np.float64(0.0)), (2362, np.float64(0.0)), (2363, np.float64(0.0)), (2364, np.float64(0.0)), (2365, np.float64(0.0)), (2366, np.float64(0.0)), (2367, np.float64(0.0)), (2368, np.float64(0.0)), (2369, np.float64(0.0)), (2370, np.float64(0.10082963104101259)), (2371, np.float64(0.0)), (2372, np.float64(0.02337769787444502)), (2373, np.float64(0.0)), (2374, np.float64(0.0)), (2375, np.float64(0.0)), (2376, np.float64(0.0)), (2377, np.float64(0.0)), (2378, np.float64(0.0)), (2379, np.float64(0.0)), (2380, np.float64(0.0)), (2381, np.float64(0.0)), (2382, np.float64(0.0)), (2383, np.float64(0.0)), (2384, np.float64(0.0)), (2385, np.float64(0.0)), (2386, np.float64(0.0)), (2387, np.float64(0.0)), (2388, np.float64(0.0)), (2389, np.float64(0.0)), (2390, np.float64(0.02384671054608121)), (2391, np.float64(0.0)), (2392, np.float64(0.0)), (2393, np.float64(0.09510846458596021)), (2394, np.float64(0.0)), (2395, np.float64(0.0)), (2396, np.float64(0.0)), (2397, np.float64(0.0)), (2398, np.float64(0.01535525118830751)), (2399, np.float64(0.0)), (2400, np.float64(0.0)), (2401, np.float64(0.0)), (2402, np.float64(0.022828948056220055)), (2403, np.float64(0.0)), (2404, np.float64(0.0)), (2405, np.float64(0.02463668241480006)), (2406, np.float64(0.07357946613473186)), (2407, np.float64(0.0)), (2408, np.float64(0.0)), (2409, np.float64(0.0)), (2410, np.float64(0.0)), (2411, np.float64(0.0)), (2412, np.float64(0.0)), (2413, np.float64(0.0)), (2414, np.float64(0.0)), (2415, np.float64(0.0)), (2416, np.float64(0.0)), (2417, np.float64(0.0)), (2418, np.float64(0.0)), (2419, np.float64(0.0)), (2420, np.float64(0.0)), (2421, np.float64(0.0)), (2422, np.float64(0.0)), (2423, np.float64(0.0)), (2424, np.float64(0.0)), (2425, np.float64(0.0)), (2426, np.float64(0.0)), (2427, np.float64(0.0)), (2428, np.float64(0.0)), (2429, np.float64(0.0)), (2430, np.float64(0.0)), (2431, np.float64(0.0)), (2432, np.float64(0.0)), (2433, np.float64(0.151410746993945)), (2434, np.float64(0.0)), (2435, np.float64(0.0)), (2436, np.float64(0.0)), (2437, np.float64(0.0)), (2438, np.float64(0.0)), (2439, np.float64(0.0)), (2440, np.float64(0.0)), (2441, np.float64(0.015619523143389928)), (2442, np.float64(0.0)), (2443, np.float64(0.0)), (2444, np.float64(0.0)), (2445, np.float64(0.0)), (2446, np.float64(0.0)), (2447, np.float64(0.0)), (2448, np.float64(0.0)), (2449, np.float64(0.0)), (2450, np.float64(0.02372311502079626)), (2451, np.float64(0.0)), (2452, np.float64(0.0)), (2453, np.float64(0.0)), (2454, np.float64(0.0)), (2455, np.float64(0.0)), (2456, np.float64(0.0)), (2457, np.float64(0.0)), (2458, np.float64(0.0)), (2459, np.float64(0.0)), (2460, np.float64(0.020696564642833874)), (2461, np.float64(0.0)), (2462, np.float64(0.0)), (2463, np.float64(0.0)), (2464, np.float64(0.0)), (2465, np.float64(0.0)), (2466, np.float64(0.0)), (2467, np.float64(0.0)), (2468, np.float64(0.0)), (2469, np.float64(0.0)), (2470, np.float64(0.0)), (2471, np.float64(0.0)), (2472, np.float64(0.0)), (2473, np.float64(0.03149165155890745)), (2474, np.float64(0.0)), (2475, np.float64(0.0)), (2476, np.float64(0.0)), (2477, np.float64(0.0)), (2478, np.float64(0.0)), (2479, np.float64(0.0)), (2480, np.float64(0.0)), (2481, np.float64(0.0)), (2482, np.float64(0.0)), (2483, np.float64(0.0)), (2484, np.float64(0.0)), (2485, np.float64(0.0)), (2486, np.float64(0.0)), (2487, np.float64(0.0)), (2488, np.float64(0.0)), (2489, np.float64(0.0)), (2490, np.float64(0.0)), (2491, np.float64(0.0)), (2492, np.float64(0.0)), (2493, np.float64(0.0)), (2494, np.float64(0.0)), (2495, np.float64(0.0)), (2496, np.float64(0.0)), (2497, np.float64(0.0)), (2498, np.float64(0.0)), (2499, np.float64(0.0)), (2500, np.float64(0.0)), (2501, np.float64(0.0)), (2502, np.float64(0.0)), (2503, np.float64(0.0)), (2504, np.float64(0.0)), (2505, np.float64(0.0)), (2506, np.float64(0.0)), (2507, np.float64(0.0)), (2508, np.float64(0.0)), (2509, np.float64(0.0)), (2510, np.float64(0.05622097470832943)), (2511, np.float64(0.0)), (2512, np.float64(0.0)), (2513, np.float64(0.0)), (2514, np.float64(0.0)), (2515, np.float64(0.0)), (2516, np.float64(0.0)), (2517, np.float64(0.0)), (2518, np.float64(0.0)), (2519, np.float64(0.0)), (2520, np.float64(0.0)), (2521, np.float64(0.0)), (2522, np.float64(0.0)), (2523, np.float64(0.0)), (2524, np.float64(0.0)), (2525, np.float64(0.0)), (2526, np.float64(0.0)), (2527, np.float64(0.0)), (2528, np.float64(0.018853092340813647)), (2529, np.float64(0.0)), (2530, np.float64(0.0)), (2531, np.float64(0.0)), (2532, np.float64(0.0)), (2533, np.float64(0.0)), (2534, np.float64(0.0)), (2535, np.float64(0.0)), (2536, np.float64(0.0)), (2537, np.float64(0.0)), (2538, np.float64(0.0)), (2539, np.float64(0.0)), (2540, np.float64(0.0)), (2541, np.float64(0.044108129263493646)), (2542, np.float64(0.0)), (2543, np.float64(0.0)), (2544, np.float64(0.023120394965249837)), (2545, np.float64(0.0)), (2546, np.float64(0.0)), (2547, np.float64(0.0)), (2548, np.float64(0.0)), (2549, np.float64(0.0)), (2550, np.float64(0.0)), (2551, np.float64(0.0)), (2552, np.float64(0.0)), (2553, np.float64(0.04123531631233218)), (2554, np.float64(0.0)), (2555, np.float64(0.0)), (2556, np.float64(0.0)), (2557, np.float64(0.0)), (2558, np.float64(0.0)), (2559, np.float64(0.0)), (2560, np.float64(0.0)), (2561, np.float64(0.0)), (2562, np.float64(0.0)), (2563, np.float64(0.0)), (2564, np.float64(0.0)), (2565, np.float64(0.0)), (2566, np.float64(0.0)), (2567, np.float64(0.0)), (2568, np.float64(0.09386220901084263)), (2569, np.float64(0.0)), (2570, np.float64(0.0)), (2571, np.float64(0.0)), (2572, np.float64(0.0)), (2573, np.float64(0.0)), (2574, np.float64(0.0)), (2575, np.float64(0.0)), (2576, np.float64(0.0)), (2577, np.float64(0.0)), (2578, np.float64(0.0)), (2579, np.float64(0.028859987674509716)), (2580, np.float64(0.0)), (2581, np.float64(0.0)), (2582, np.float64(0.0)), (2583, np.float64(0.0)), (2584, np.float64(0.0)), (2585, np.float64(0.0)), (2586, np.float64(0.0)), (2587, np.float64(0.0)), (2588, np.float64(0.0)), (2589, np.float64(0.04265474319813709)), (2590, np.float64(0.0)), (2591, np.float64(0.11888586157210533)), (2592, np.float64(0.0)), (2593, np.float64(0.0)), (2594, np.float64(0.0)), (2595, np.float64(0.0)), (2596, np.float64(0.0)), (2597, np.float64(0.0)), (2598, np.float64(0.0)), (2599, np.float64(0.0)), (2600, np.float64(0.0)), (2601, np.float64(0.0)), (2602, np.float64(0.0)), (2603, np.float64(0.0)), (2604, np.float64(0.0)), (2605, np.float64(0.0)), (2606, np.float64(0.0)), (2607, np.float64(0.0)), (2608, np.float64(0.0)), (2609, np.float64(0.0)), (2610, np.float64(0.0)), (2611, np.float64(0.05218539012772962)), (2612, np.float64(0.0)), (2613, np.float64(0.0)), (2614, np.float64(0.0)), (2615, np.float64(0.019185041496093378)), (2616, np.float64(0.0)), (2617, np.float64(0.0)), (2618, np.float64(0.0)), (2619, np.float64(0.0)), (2620, np.float64(0.0)), (2621, np.float64(0.0)), (2622, np.float64(0.0)), (2623, np.float64(0.0)), (2624, np.float64(0.0)), (2625, np.float64(0.0)), (2626, np.float64(0.0)), (2627, np.float64(0.0)), (2628, np.float64(0.0)), (2629, np.float64(0.0)), (2630, np.float64(0.0)), (2631, np.float64(0.0)), (2632, np.float64(0.0)), (2633, np.float64(0.0)), (2634, np.float64(0.04950406802904478)), (2635, np.float64(0.0)), (2636, np.float64(0.0)), (2637, np.float64(0.0)), (2638, np.float64(0.0)), (2639, np.float64(0.0)), (2640, np.float64(0.0)), (2641, np.float64(0.0)), (2642, np.float64(0.0)), (2643, np.float64(0.0)), (2644, np.float64(0.0)), (2645, np.float64(0.0)), (2646, np.float64(0.0)), (2647, np.float64(0.0)), (2648, np.float64(0.0)), (2649, np.float64(0.0)), (2650, np.float64(0.0)), (2651, np.float64(0.0)), (2652, np.float64(0.0)), (2653, np.float64(0.04972730798163094)), (2654, np.float64(0.08871516375020036)), (2655, np.float64(0.0)), (2656, np.float64(0.0)), (2657, np.float64(0.0)), (2658, np.float64(0.0)), (2659, np.float64(0.0)), (2660, np.float64(0.0)), (2661, np.float64(0.05306621282091848)), (2662, np.float64(0.0)), (2663, np.float64(0.023537421342172644)), (2664, np.float64(0.0)), (2665, np.float64(0.0)), (2666, np.float64(0.0)), (2667, np.float64(0.0)), (2668, np.float64(0.0)), (2669, np.float64(0.0)), (2670, np.float64(0.0)), (2671, np.float64(0.0)), (2672, np.float64(0.0)), (2673, np.float64(0.0)), (2674, np.float64(0.0)), (2675, np.float64(0.0)), (2676, np.float64(0.0)), (2677, np.float64(0.0)), (2678, np.float64(0.0)), (2679, np.float64(0.0)), (2680, np.float64(0.0)), (2681, np.float64(0.0)), (2682, np.float64(0.0)), (2683, np.float64(0.04223996544074591)), (2684, np.float64(0.0)), (2685, np.float64(0.020173650195442483)), (2686, np.float64(0.0)), (2687, np.float64(0.0)), (2688, np.float64(0.0)), (2689, np.float64(0.0)), (2690, np.float64(0.0)), (2691, np.float64(0.0)), (2692, np.float64(0.0)), (2693, np.float64(0.0)), (2694, np.float64(0.0)), (2695, np.float64(0.0)), (2696, np.float64(0.0)), (2697, np.float64(0.0)), (2698, np.float64(0.0)), (2699, np.float64(0.0)), (2700, np.float64(0.0)), (2701, np.float64(0.0)), (2702, np.float64(0.0)), (2703, np.float64(0.0)), (2704, np.float64(0.0314308614837365)), (2705, np.float64(0.0)), (2706, np.float64(0.0)), (2707, np.float64(0.0)), (2708, np.float64(0.0)), (2709, np.float64(0.0)), (2710, np.float64(0.0)), (2711, np.float64(0.0)), (2712, np.float64(0.0)), (2713, np.float64(0.0)), (2714, np.float64(0.0)), (2715, np.float64(0.0)), (2716, np.float64(0.0)), (2717, np.float64(0.0)), (2718, np.float64(0.0)), (2719, np.float64(0.0)), (2720, np.float64(0.0)), (2721, np.float64(0.0)), (2722, np.float64(0.0)), (2723, np.float64(0.03371025524329622)), (2724, np.float64(0.0)), (2725, np.float64(0.0)), (2726, np.float64(0.0)), (2727, np.float64(0.0)), (2728, np.float64(0.0)), (2729, np.float64(0.0)), (2730, np.float64(0.0)), (2731, np.float64(0.0)), (2732, np.float64(0.021364687520501198)), (2733, np.float64(0.0598033997539942)), (2734, np.float64(0.03840131190378303)), (2735, np.float64(0.0)), (2736, np.float64(0.0)), (2737, np.float64(0.0)), (2738, np.float64(0.0)), (2739, np.float64(0.0)), (2740, np.float64(0.0)), (2741, np.float64(0.02200647416537414)), (2742, np.float64(0.0)), (2743, np.float64(0.0)), (2744, np.float64(0.0)), (2745, np.float64(0.0)), (2746, np.float64(0.0)), (2747, np.float64(0.0)), (2748, np.float64(0.0)), (2749, np.float64(0.0)), (2750, np.float64(0.0)), (2751, np.float64(0.0)), (2752, np.float64(0.051896694688058964)), (2753, np.float64(0.0)), (2754, np.float64(0.0)), (2755, np.float64(0.0)), (2756, np.float64(0.0)), (2757, np.float64(0.0)), (2758, np.float64(0.0)), (2759, np.float64(0.0)), (2760, np.float64(0.0)), (2761, np.float64(0.0)), (2762, np.float64(0.0)), (2763, np.float64(0.0)), (2764, np.float64(0.0)), (2765, np.float64(0.0)), (2766, np.float64(0.0)), (2767, np.float64(0.0)), (2768, np.float64(0.0)), (2769, np.float64(0.0)), (2770, np.float64(0.0)), (2771, np.float64(0.0)), (2772, np.float64(0.0)), (2773, np.float64(0.0)), (2774, np.float64(0.0)), (2775, np.float64(0.0)), (2776, np.float64(0.0)), (2777, np.float64(0.0)), (2778, np.float64(0.0)), (2779, np.float64(0.0)), (2780, np.float64(0.0)), (2781, np.float64(0.0)), (2782, np.float64(0.038641880675615706)), (2783, np.float64(0.0)), (2784, np.float64(0.0)), (2785, np.float64(0.0)), (2786, np.float64(0.0)), (2787, np.float64(0.0)), (2788, np.float64(0.0)), (2789, np.float64(0.017488842919266664)), (2790, np.float64(0.0)), (2791, np.float64(0.0)), (2792, np.float64(0.0)), (2793, np.float64(0.0)), (2794, np.float64(0.0)), (2795, np.float64(0.0)), (2796, np.float64(0.0)), (2797, np.float64(0.0)), (2798, np.float64(0.0)), (2799, np.float64(0.0)), (2800, np.float64(0.0)), (2801, np.float64(0.0)), (2802, np.float64(0.0)), (2803, np.float64(0.0)), (2804, np.float64(0.0)), (2805, np.float64(0.0)), (2806, np.float64(0.0)), (2807, np.float64(0.0)), (2808, np.float64(0.0)), (2809, np.float64(0.09179205671773963)), (2810, np.float64(0.0)), (2811, np.float64(0.0)), (2812, np.float64(0.0)), (2813, np.float64(0.0)), (2814, np.float64(0.0)), (2815, np.float64(0.0)), (2816, np.float64(0.0)), (2817, np.float64(0.0)), (2818, np.float64(0.0)), (2819, np.float64(0.0)), (2820, np.float64(0.0)), (2821, np.float64(0.0)), (2822, np.float64(0.0)), (2823, np.float64(0.0)), (2824, np.float64(0.0)), (2825, np.float64(0.0)), (2826, np.float64(0.0)), (2827, np.float64(0.0)), (2828, np.float64(0.0)), (2829, np.float64(0.0)), (2830, np.float64(0.0)), (2831, np.float64(0.0)), (2832, np.float64(0.0)), (2833, np.float64(0.0)), (2834, np.float64(0.0)), (2835, np.float64(0.0)), (2836, np.float64(0.0)), (2837, np.float64(0.0)), (2838, np.float64(0.0)), (2839, np.float64(0.0)), (2840, np.float64(0.0)), (2841, np.float64(0.0)), (2842, np.float64(0.0)), (2843, np.float64(0.0)), (2844, np.float64(0.0)), (2845, np.float64(0.0)), (2846, np.float64(0.0)), (2847, np.float64(0.0)), (2848, np.float64(0.0)), (2849, np.float64(0.0)), (2850, np.float64(0.0)), (2851, np.float64(0.0)), (2852, np.float64(0.0)), (2853, np.float64(0.0)), (2854, np.float64(0.0)), (2855, np.float64(0.0)), (2856, np.float64(0.0)), (2857, np.float64(0.0)), (2858, np.float64(0.0)), (2859, np.float64(0.0)), (2860, np.float64(0.0)), (2861, np.float64(0.0)), (2862, np.float64(0.0)), (2863, np.float64(0.0)), (2864, np.float64(0.06318323974491075)), (2865, np.float64(0.0)), (2866, np.float64(0.0)), (2867, np.float64(0.0)), (2868, np.float64(0.0)), (2869, np.float64(0.0)), (2870, np.float64(0.0)), (2871, np.float64(0.0)), (2872, np.float64(0.0)), (2873, np.float64(0.0)), (2874, np.float64(0.0)), (2875, np.float64(0.0)), (2876, np.float64(0.0)), (2877, np.float64(0.0)), (2878, np.float64(0.0)), (2879, np.float64(0.0)), (2880, np.float64(0.0)), (2881, np.float64(0.0)), (2882, np.float64(0.0)), (2883, np.float64(0.0)), (2884, np.float64(0.0)), (2885, np.float64(0.0)), (2886, np.float64(0.0)), (2887, np.float64(0.0)), (2888, np.float64(0.0)), (2889, np.float64(0.0)), (2890, np.float64(0.0)), (2891, np.float64(0.0)), (2892, np.float64(0.0)), (2893, np.float64(0.0)), (2894, np.float64(0.0)), (2895, np.float64(0.0)), (2896, np.float64(0.0)), (2897, np.float64(0.1171059308918839)), (2898, np.float64(0.0)), (2899, np.float64(0.0)), (2900, np.float64(0.0)), (2901, np.float64(0.0)), (2902, np.float64(0.0)), (2903, np.float64(0.0)), (2904, np.float64(0.0)), (2905, np.float64(0.0)), (2906, np.float64(0.0)), (2907, np.float64(0.0)), (2908, np.float64(0.0)), (2909, np.float64(0.0)), (2910, np.float64(0.0)), (2911, np.float64(0.0)), (2912, np.float64(0.0)), (2913, np.float64(0.0)), (2914, np.float64(0.0)), (2915, np.float64(0.024271712988366025)), (2916, np.float64(0.0)), (2917, np.float64(0.0)), (2918, np.float64(0.0)), (2919, np.float64(0.0)), (2920, np.float64(0.0)), (2921, np.float64(0.06837856054757922)), (2922, np.float64(0.0)), (2923, np.float64(0.0)), (2924, np.float64(0.0)), (2925, np.float64(0.0)), (2926, np.float64(0.0)), (2927, np.float64(0.0)), (2928, np.float64(0.0)), (2929, np.float64(0.0)), (2930, np.float64(0.0)), (2931, np.float64(0.0)), (2932, np.float64(0.0)), (2933, np.float64(0.0)), (2934, np.float64(0.0)), (2935, np.float64(0.0)), (2936, np.float64(0.0)), (2937, np.float64(0.0)), (2938, np.float64(0.08691409866252821)), (2939, np.float64(0.0)), (2940, np.float64(0.0)), (2941, np.float64(0.0)), (2942, np.float64(0.0)), (2943, np.float64(0.0)), (2944, np.float64(0.0)), (2945, np.float64(0.0)), (2946, np.float64(0.0)), (2947, np.float64(0.0)), (2948, np.float64(0.0)), (2949, np.float64(0.0)), (2950, np.float64(0.0)), (2951, np.float64(0.0)), (2952, np.float64(0.0)), (2953, np.float64(0.0)), (2954, np.float64(0.0)), (2955, np.float64(0.0)), (2956, np.float64(0.0)), (2957, np.float64(0.0)), (2958, np.float64(0.019210333260578978)), (2959, np.float64(0.0)), (2960, np.float64(0.0)), (2961, np.float64(0.0)), (2962, np.float64(0.0)), (2963, np.float64(0.0)), (2964, np.float64(0.044223811489473026)), (2965, np.float64(0.0)), (2966, np.float64(0.0)), (2967, np.float64(0.0)), (2968, np.float64(0.0)), (2969, np.float64(0.0)), (2970, np.float64(0.0)), (2971, np.float64(0.0)), (2972, np.float64(0.0)), (2973, np.float64(0.0)), (2974, np.float64(0.0)), (2975, np.float64(0.0)), (2976, np.float64(0.0)), (2977, np.float64(0.0)), (2978, np.float64(0.0)), (2979, np.float64(0.0)), (2980, np.float64(0.019117791785148632)), (2981, np.float64(0.0)), (2982, np.float64(0.0)), (2983, np.float64(0.0)), (2984, np.float64(0.0)), (2985, np.float64(0.0)), (2986, np.float64(0.0)), (2987, np.float64(0.0)), (2988, np.float64(0.0)), (2989, np.float64(0.0)), (2990, np.float64(0.0)), (2991, np.float64(0.0)), (2992, np.float64(0.0)), (2993, np.float64(0.0)), (2994, np.float64(0.0)), (2995, np.float64(0.0)), (2996, np.float64(0.0)), (2997, np.float64(0.0)), (2998, np.float64(0.0)), (2999, np.float64(0.022239990019774815)), (3000, np.float64(0.0)), (3001, np.float64(0.0)), (3002, np.float64(0.0)), (3003, np.float64(0.0)), (3004, np.float64(0.0)), (3005, np.float64(0.0)), (3006, np.float64(0.0)), (3007, np.float64(0.0)), (3008, np.float64(0.0)), (3009, np.float64(0.0)), (3010, np.float64(0.0)), (3011, np.float64(0.0)), (3012, np.float64(0.0)), (3013, np.float64(0.0)), (3014, np.float64(0.0)), (3015, np.float64(0.0)), (3016, np.float64(0.0)), (3017, np.float64(0.0)), (3018, np.float64(0.0)), (3019, np.float64(0.0)), (3020, np.float64(0.0)), (3021, np.float64(0.0)), (3022, np.float64(0.0)), (3023, np.float64(0.0)), (3024, np.float64(0.0)), (3025, np.float64(0.0)), (3026, np.float64(0.0)), (3027, np.float64(0.03609315218098392)), (3028, np.float64(0.0)), (3029, np.float64(0.0)), (3030, np.float64(0.0)), (3031, np.float64(0.0)), (3032, np.float64(0.0)), (3033, np.float64(0.0)), (3034, np.float64(0.02491394227505814)), (3035, np.float64(0.0)), (3036, np.float64(0.0)), (3037, np.float64(0.0)), (3038, np.float64(0.0)), (3039, np.float64(0.0)), (3040, np.float64(0.0)), (3041, np.float64(0.0)), (3042, np.float64(0.0)), (3043, np.float64(0.0)), (3044, np.float64(0.0)), (3045, np.float64(0.0)), (3046, np.float64(0.0)), (3047, np.float64(0.0)), (3048, np.float64(0.0)), (3049, np.float64(0.0)), (3050, np.float64(0.0)), (3051, np.float64(0.0)), (3052, np.float64(0.0)), (3053, np.float64(0.0)), (3054, np.float64(0.0)), (3055, np.float64(0.0)), (3056, np.float64(0.0)), (3057, np.float64(0.0438040347984246)), (3058, np.float64(0.0)), (3059, np.float64(0.0)), (3060, np.float64(0.0)), (3061, np.float64(0.0)), (3062, np.float64(0.0)), (3063, np.float64(0.0)), (3064, np.float64(0.0)), (3065, np.float64(0.032225280852857724)), (3066, np.float64(0.0)), (3067, np.float64(0.0)), (3068, np.float64(0.0)), (3069, np.float64(0.0)), (3070, np.float64(0.0)), (3071, np.float64(0.0)), (3072, np.float64(0.0)), (3073, np.float64(0.0)), (3074, np.float64(0.09093693055825626)), (3075, np.float64(0.0)), (3076, np.float64(0.0)), (3077, np.float64(0.0)), (3078, np.float64(0.0)), (3079, np.float64(0.0)), (3080, np.float64(0.0)), (3081, np.float64(0.0)), (3082, np.float64(0.0)), (3083, np.float64(0.0)), (3084, np.float64(0.0)), (3085, np.float64(0.0)), (3086, np.float64(0.0)), (3087, np.float64(0.0)), (3088, np.float64(0.0)), (3089, np.float64(0.0)), (3090, np.float64(0.0)), (3091, np.float64(0.0)), (3092, np.float64(0.0)), (3093, np.float64(0.0)), (3094, np.float64(0.025326068549077634)), (3095, np.float64(0.0)), (3096, np.float64(0.0)), (3097, np.float64(0.0)), (3098, np.float64(0.01836968756947768)), (3099, np.float64(0.0)), (3100, np.float64(0.0)), (3101, np.float64(0.0)), (3102, np.float64(0.0)), (3103, np.float64(0.05864860818940463)), (3104, np.float64(0.020077503661144813)), (3105, np.float64(0.0)), (3106, np.float64(0.0)), (3107, np.float64(0.0)), (3108, np.float64(0.0)), (3109, np.float64(0.0)), (3110, np.float64(0.0)), (3111, np.float64(0.018117236330271163)), (3112, np.float64(0.0)), (3113, np.float64(0.0)), (3114, np.float64(0.0)), (3115, np.float64(0.0)), (3116, np.float64(0.0)), (3117, np.float64(0.0)), (3118, np.float64(0.0)), (3119, np.float64(0.0)), (3120, np.float64(0.0)), (3121, np.float64(0.0)), (3122, np.float64(0.0)), (3123, np.float64(0.0)), (3124, np.float64(0.0)), (3125, np.float64(0.0)), (3126, np.float64(0.0)), (3127, np.float64(0.0)), (3128, np.float64(0.0)), (3129, np.float64(0.0)), (3130, np.float64(0.0)), (3131, np.float64(0.0)), (3132, np.float64(0.0)), (3133, np.float64(0.0)), (3134, np.float64(0.0)), (3135, np.float64(0.0)), (3136, np.float64(0.0)), (3137, np.float64(0.0)), (3138, np.float64(0.0)), (3139, np.float64(0.0)), (3140, np.float64(0.0)), (3141, np.float64(0.0)), (3142, np.float64(0.0)), (3143, np.float64(0.0)), (3144, np.float64(0.15544833002265257)), (3145, np.float64(0.0)), (3146, np.float64(0.0)), (3147, np.float64(0.0)), (3148, np.float64(0.022193281450803785)), (3149, np.float64(0.0)), (3150, np.float64(0.0)), (3151, np.float64(0.0)), (3152, np.float64(0.0)), (3153, np.float64(0.0)), (3154, np.float64(0.0)), (3155, np.float64(0.0)), (3156, np.float64(0.0)), (3157, np.float64(0.0)), (3158, np.float64(0.0)), (3159, np.float64(0.0)), (3160, np.float64(0.0)), (3161, np.float64(0.0)), (3162, np.float64(0.0)), (3163, np.float64(0.0)), (3164, np.float64(0.0)), (3165, np.float64(0.0)), (3166, np.float64(0.0)), (3167, np.float64(0.0)), (3168, np.float64(0.0)), (3169, np.float64(0.0)), (3170, np.float64(0.0)), (3171, np.float64(0.0)), (3172, np.float64(0.0)), (3173, np.float64(0.021892525169101805)), (3174, np.float64(0.0)), (3175, np.float64(0.0)), (3176, np.float64(0.0)), (3177, np.float64(0.0)), (3178, np.float64(0.0)), (3179, np.float64(0.0)), (3180, np.float64(0.0)), (3181, np.float64(0.1468677299759112)), (3182, np.float64(0.0)), (3183, np.float64(0.0)), (3184, np.float64(0.0)), (3185, np.float64(0.0)), (3186, np.float64(0.0)), (3187, np.float64(0.0)), (3188, np.float64(0.02099056077232453)), (3189, np.float64(0.0)), (3190, np.float64(0.0)), (3191, np.float64(0.0)), (3192, np.float64(0.0)), (3193, np.float64(0.0)), (3194, np.float64(0.0)), (3195, np.float64(0.0)), (3196, np.float64(0.0)), (3197, np.float64(0.0)), (3198, np.float64(0.0)), (3199, np.float64(0.09583349621839878)), (3200, np.float64(0.0)), (3201, np.float64(0.08014205962815858)), (3202, np.float64(0.0)), (3203, np.float64(0.0)), (3204, np.float64(0.0)), (3205, np.float64(0.0)), (3206, np.float64(0.0)), (3207, np.float64(0.0)), (3208, np.float64(0.0)), (3209, np.float64(0.0)), (3210, np.float64(0.0)), (3211, np.float64(0.0)), (3212, np.float64(0.0805244434734859)), (3213, np.float64(0.0)), (3214, np.float64(0.0)), (3215, np.float64(0.0)), (3216, np.float64(0.02985110216542455)), (3217, np.float64(0.0)), (3218, np.float64(0.04017818736684341)), (3219, np.float64(0.0)), (3220, np.float64(0.0)), (3221, np.float64(0.0)), (3222, np.float64(0.0)), (3223, np.float64(0.0)), (3224, np.float64(0.0)), (3225, np.float64(0.09996345568782211)), (3226, np.float64(0.02831818598065282)), (3227, np.float64(0.0)), (3228, np.float64(0.0)), (3229, np.float64(0.031157360228987317)), (3230, np.float64(0.0)), (3231, np.float64(0.0)), (3232, np.float64(0.0)), (3233, np.float64(0.0)), (3234, np.float64(0.0)), (3235, np.float64(0.0)), (3236, np.float64(0.0)), (3237, np.float64(0.0)), (3238, np.float64(0.016680931483922124)), (3239, np.float64(0.0)), (3240, np.float64(0.0)), (3241, np.float64(0.0)), (3242, np.float64(0.0)), (3243, np.float64(0.03676561347748751)), (3244, np.float64(0.0)), (3245, np.float64(0.0)), (3246, np.float64(0.0)), (3247, np.float64(0.0)), (3248, np.float64(0.0)), (3249, np.float64(0.0)), (3250, np.float64(0.0)), (3251, np.float64(0.0)), (3252, np.float64(0.0)), (3253, np.float64(0.0)), (3254, np.float64(0.0)), (3255, np.float64(0.0)), (3256, np.float64(0.15976709297059383)), (3257, np.float64(0.06935704715730183)), (3258, np.float64(0.0)), (3259, np.float64(0.0)), (3260, np.float64(0.08477614987846681)), (3261, np.float64(0.0)), (3262, np.float64(0.0)), (3263, np.float64(0.0)), (3264, np.float64(0.0)), (3265, np.float64(0.0)), (3266, np.float64(0.0)), (3267, np.float64(0.0)), (3268, np.float64(0.0)), (3269, np.float64(0.0)), (3270, np.float64(0.0)), (3271, np.float64(0.0)), (3272, np.float64(0.0)), (3273, np.float64(0.0)), (3274, np.float64(0.0)), (3275, np.float64(0.0)), (3276, np.float64(0.0)), (3277, np.float64(0.0)), (3278, np.float64(0.0)), (3279, np.float64(0.0)), (3280, np.float64(0.0)), (3281, np.float64(0.0)), (3282, np.float64(0.0)), (3283, np.float64(0.0)), (3284, np.float64(0.0)), (3285, np.float64(0.0)), (3286, np.float64(0.0)), (3287, np.float64(0.0)), (3288, np.float64(0.08492917796370707)), (3289, np.float64(0.0)), (3290, np.float64(0.0)), (3291, np.float64(0.0)), (3292, np.float64(0.0)), (3293, np.float64(0.0)), (3294, np.float64(0.0)), (3295, np.float64(0.0)), (3296, np.float64(0.0)), (3297, np.float64(0.0)), (3298, np.float64(0.0)), (3299, np.float64(0.0)), (3300, np.float64(0.0)), (3301, np.float64(0.0)), (3302, np.float64(0.0)), (3303, np.float64(0.0)), (3304, np.float64(0.0)), (3305, np.float64(0.0)), (3306, np.float64(0.0)), (3307, np.float64(0.0)), (3308, np.float64(0.0)), (3309, np.float64(0.0)), (3310, np.float64(0.0)), (3311, np.float64(0.0)), (3312, np.float64(0.0)), (3313, np.float64(0.04178216746391545)), (3314, np.float64(0.0)), (3315, np.float64(0.0)), (3316, np.float64(0.0)), (3317, np.float64(0.0)), (3318, np.float64(0.0)), (3319, np.float64(0.0)), (3320, np.float64(0.0)), (3321, np.float64(0.0)), (3322, np.float64(0.0)), (3323, np.float64(0.0)), (3324, np.float64(0.0)), (3325, np.float64(0.0)), (3326, np.float64(0.0)), (3327, np.float64(0.0)), (3328, np.float64(0.0)), (3329, np.float64(0.0)), (3330, np.float64(0.0)), (3331, np.float64(0.0)), (3332, np.float64(0.0)), (3333, np.float64(0.0)), (3334, np.float64(0.0)), (3335, np.float64(0.0)), (3336, np.float64(0.0)), (3337, np.float64(0.0)), (3338, np.float64(0.0)), (3339, np.float64(0.0)), (3340, np.float64(0.0)), (3341, np.float64(0.0)), (3342, np.float64(0.0)), (3343, np.float64(0.0)), (3344, np.float64(0.0)), (3345, np.float64(0.0)), (3346, np.float64(0.0635075940214162)), (3347, np.float64(0.0)), (3348, np.float64(0.0)), (3349, np.float64(0.0)), (3350, np.float64(0.01948174784306581)), (3351, np.float64(0.0)), (3352, np.float64(0.0)), (3353, np.float64(0.0)), (3354, np.float64(0.0)), (3355, np.float64(0.0)), (3356, np.float64(0.0)), (3357, np.float64(0.0)), (3358, np.float64(0.0)), (3359, np.float64(0.0)), (3360, np.float64(0.0)), (3361, np.float64(0.0)), (3362, np.float64(0.0)), (3363, np.float64(0.0)), (3364, np.float64(0.0)), (3365, np.float64(0.0)), (3366, np.float64(0.0)), (3367, np.float64(0.0)), (3368, np.float64(0.0)), (3369, np.float64(0.0)), (3370, np.float64(0.0)), (3371, np.float64(0.0)), (3372, np.float64(0.0)), (3373, np.float64(0.0)), (3374, np.float64(0.0)), (3375, np.float64(0.0)), (3376, np.float64(0.018694893488955977)), (3377, np.float64(0.0)), (3378, np.float64(0.0)), (3379, np.float64(0.051263485508775145)), (3380, np.float64(0.0)), (3381, np.float64(0.0)), (3382, np.float64(0.0)), (3383, np.float64(0.0)), (3384, np.float64(0.0)), (3385, np.float64(0.0)), (3386, np.float64(0.0)), (3387, np.float64(0.0)), (3388, np.float64(0.0)), (3389, np.float64(0.0)), (3390, np.float64(0.1522200202035396)), (3391, np.float64(0.0)), (3392, np.float64(0.020270951491087125)), (3393, np.float64(0.0)), (3394, np.float64(0.0)), (3395, np.float64(0.0)), (3396, np.float64(0.0)), (3397, np.float64(0.0)), (3398, np.float64(0.0)), (3399, np.float64(0.0)), (3400, np.float64(0.0)), (3401, np.float64(0.0)), (3402, np.float64(0.0)), (3403, np.float64(0.04100808905203061)), (3404, np.float64(0.0)), (3405, np.float64(0.0)), (3406, np.float64(0.0)), (3407, np.float64(0.0)), (3408, np.float64(0.0)), (3409, np.float64(0.0)), (3410, np.float64(0.0)), (3411, np.float64(0.0)), (3412, np.float64(0.06804628896246648)), (3413, np.float64(0.026389331448986576)), (3414, np.float64(0.0)), (3415, np.float64(0.0)), (3416, np.float64(0.0)), (3417, np.float64(0.0)), (3418, np.float64(0.0)), (3419, np.float64(0.0)), (3420, np.float64(0.0)), (3421, np.float64(0.04925389492899594)), (3422, np.float64(0.0)), (3423, np.float64(0.0)), (3424, np.float64(0.0)), (3425, np.float64(0.0)), (3426, np.float64(0.0)), (3427, np.float64(0.0)), (3428, np.float64(0.0)), (3429, np.float64(0.0)), (3430, np.float64(0.01844594675660152)), (3431, np.float64(0.0)), (3432, np.float64(0.0)), (3433, np.float64(0.0)), (3434, np.float64(0.0)), (3435, np.float64(0.0)), (3436, np.float64(0.0)), (3437, np.float64(0.0)), (3438, np.float64(0.0)), (3439, np.float64(0.0)), (3440, np.float64(0.0)), (3441, np.float64(0.0)), (3442, np.float64(0.023048629961436588)), (3443, np.float64(0.0)), (3444, np.float64(0.0)), (3445, np.float64(0.0)), (3446, np.float64(0.0)), (3447, np.float64(0.0)), (3448, np.float64(0.0)), (3449, np.float64(0.0)), (3450, np.float64(0.0)), (3451, np.float64(0.0)), (3452, np.float64(0.0)), (3453, np.float64(0.0)), (3454, np.float64(0.0)), (3455, np.float64(0.0)), (3456, np.float64(0.0)), (3457, np.float64(0.0)), (3458, np.float64(0.0)), (3459, np.float64(0.0)), (3460, np.float64(0.0)), (3461, np.float64(0.0351658793303228)), (3462, np.float64(0.0)), (3463, np.float64(0.0)), (3464, np.float64(0.0)), (3465, np.float64(0.0)), (3466, np.float64(0.0)), (3467, np.float64(0.15968580863137113)), (3468, np.float64(0.05609803559227927)), (3469, np.float64(0.0)), (3470, np.float64(0.0)), (3471, np.float64(0.15542649349670937)), (3472, np.float64(0.0)), (3473, np.float64(0.0)), (3474, np.float64(0.0)), (3475, np.float64(0.0)), (3476, np.float64(0.0)), (3477, np.float64(0.0)), (3478, np.float64(0.0)), (3479, np.float64(0.0)), (3480, np.float64(0.0)), (3481, np.float64(0.0)), (3482, np.float64(0.0)), (3483, np.float64(0.0)), (3484, np.float64(0.0)), (3485, np.float64(0.0)), (3486, np.float64(0.0)), (3487, np.float64(0.0)), (3488, np.float64(0.0)), (3489, np.float64(0.0)), (3490, np.float64(0.0)), (3491, np.float64(0.0)), (3492, np.float64(0.0)), (3493, np.float64(0.0)), (3494, np.float64(0.0)), (3495, np.float64(0.0)), (3496, np.float64(0.0)), (3497, np.float64(0.0)), (3498, np.float64(0.0)), (3499, np.float64(0.0)), (3500, np.float64(0.0)), (3501, np.float64(0.024995032073871305)), (3502, np.float64(0.0)), (3503, np.float64(0.0)), (3504, np.float64(0.0)), (3505, np.float64(0.0)), (3506, np.float64(0.0)), (3507, np.float64(0.0)), (3508, np.float64(0.029218452126894286)), (3509, np.float64(0.0)), (3510, np.float64(0.0)), (3511, np.float64(0.024688366550739183)), (3512, np.float64(0.0)), (3513, np.float64(0.0)), (3514, np.float64(0.0)), (3515, np.float64(0.0)), (3516, np.float64(0.0)), (3517, np.float64(0.020891031052896823)), (3518, np.float64(0.0)), (3519, np.float64(0.0)), (3520, np.float64(0.0)), (3521, np.float64(0.0)), (3522, np.float64(0.0)), (3523, np.float64(0.0)), (3524, np.float64(0.0)), (3525, np.float64(0.0)), (3526, np.float64(0.0)), (3527, np.float64(0.0)), (3528, np.float64(0.0)), (3529, np.float64(0.0)), (3530, np.float64(0.0)), (3531, np.float64(0.05773712730898534)), (3532, np.float64(0.0)), (3533, np.float64(0.0)), (3534, np.float64(0.0)), (3535, np.float64(0.0)), (3536, np.float64(0.0)), (3537, np.float64(0.0)), (3538, np.float64(0.0)), (3539, np.float64(0.0)), (3540, np.float64(0.1021831590608355)), (3541, np.float64(0.035756501132058006)), (3542, np.float64(0.0)), (3543, np.float64(0.0)), (3544, np.float64(0.0)), (3545, np.float64(0.0)), (3546, np.float64(0.0)), (3547, np.float64(0.0)), (3548, np.float64(0.0654975413867216)), (3549, np.float64(0.0)), (3550, np.float64(0.0)), (3551, np.float64(0.0)), (3552, np.float64(0.0)), (3553, np.float64(0.0)), (3554, np.float64(0.0)), (3555, np.float64(0.0)), (3556, np.float64(0.0)), (3557, np.float64(0.0)), (3558, np.float64(0.0)), (3559, np.float64(0.0)), (3560, np.float64(0.0)), (3561, np.float64(0.0)), (3562, np.float64(0.0)), (3563, np.float64(0.0)), (3564, np.float64(0.0)), (3565, np.float64(0.0)), (3566, np.float64(0.0)), (3567, np.float64(0.0)), (3568, np.float64(0.0)), (3569, np.float64(0.0)), (3570, np.float64(0.0)), (3571, np.float64(0.0)), (3572, np.float64(0.0)), (3573, np.float64(0.0)), (3574, np.float64(0.0)), (3575, np.float64(0.0)), (3576, np.float64(0.0)), (3577, np.float64(0.0)), (3578, np.float64(0.0)), (3579, np.float64(0.0)), (3580, np.float64(0.0)), (3581, np.float64(0.0)), (3582, np.float64(0.0)), (3583, np.float64(0.0)), (3584, np.float64(0.0)), (3585, np.float64(0.0)), (3586, np.float64(0.0)), (3587, np.float64(0.0)), (3588, np.float64(0.0)), (3589, np.float64(0.0)), (3590, np.float64(0.0)), (3591, np.float64(0.0)), (3592, np.float64(0.0)), (3593, np.float64(0.0)), (3594, np.float64(0.0)), (3595, np.float64(0.0)), (3596, np.float64(0.0)), (3597, np.float64(0.0)), (3598, np.float64(0.0)), (3599, np.float64(0.0)), (3600, np.float64(0.0)), (3601, np.float64(0.0)), (3602, np.float64(0.0)), (3603, np.float64(0.0)), (3604, np.float64(0.0)), (3605, np.float64(0.0)), (3606, np.float64(0.03749776530650072)), (3607, np.float64(0.0)), (3608, np.float64(0.0)), (3609, np.float64(0.0)), (3610, np.float64(0.0)), (3611, np.float64(0.0)), (3612, np.float64(0.0)), (3613, np.float64(0.0)), (3614, np.float64(0.0)), (3615, np.float64(0.025276786100640426)), (3616, np.float64(0.0)), (3617, np.float64(0.0)), (3618, np.float64(0.0)), (3619, np.float64(0.0)), (3620, np.float64(0.0)), (3621, np.float64(0.0)), (3622, np.float64(0.0)), (3623, np.float64(0.0)), (3624, np.float64(0.0)), (3625, np.float64(0.0)), (3626, np.float64(0.014812855185028066)), (3627, np.float64(0.030892614721128045)), (3628, np.float64(0.0)), (3629, np.float64(0.0)), (3630, np.float64(0.0)), (3631, np.float64(0.0)), (3632, np.float64(0.14396849119198313)), (3633, np.float64(0.0)), (3634, np.float64(0.0)), (3635, np.float64(0.0)), (3636, np.float64(0.0)), (3637, np.float64(0.0)), (3638, np.float64(0.0)), (3639, np.float64(0.0)), (3640, np.float64(0.0)), (3641, np.float64(0.0)), (3642, np.float64(0.0)), (3643, np.float64(0.0)), (3644, np.float64(0.0)), (3645, np.float64(0.0)), (3646, np.float64(0.0)), (3647, np.float64(0.0)), (3648, np.float64(0.061603534937329944)), (3649, np.float64(0.0)), (3650, np.float64(0.0)), (3651, np.float64(0.0)), (3652, np.float64(0.0)), (3653, np.float64(0.02154574757205539)), (3654, np.float64(0.0)), (3655, np.float64(0.0)), (3656, np.float64(0.02956822351491136)), (3657, np.float64(0.0)), (3658, np.float64(0.0)), (3659, np.float64(0.062095130940886874)), (3660, np.float64(0.0)), (3661, np.float64(0.0)), (3662, np.float64(0.08191439525518629)), (3663, np.float64(0.0)), (3664, np.float64(0.0)), (3665, np.float64(0.02993569136754392)), (3666, np.float64(0.0)), (3667, np.float64(0.0)), (3668, np.float64(0.0)), (3669, np.float64(0.0)), (3670, np.float64(0.0)), (3671, np.float64(0.0)), (3672, np.float64(0.0)), (3673, np.float64(0.021679131129231283)), (3674, np.float64(0.0)), (3675, np.float64(0.0)), (3676, np.float64(0.0)), (3677, np.float64(0.0)), (3678, np.float64(0.0)), (3679, np.float64(0.0)), (3680, np.float64(0.0)), (3681, np.float64(0.022704658320573796)), (3682, np.float64(0.0)), (3683, np.float64(0.0)), (3684, np.float64(0.0)), (3685, np.float64(0.0)), (3686, np.float64(0.0)), (3687, np.float64(0.0)), (3688, np.float64(0.0)), (3689, np.float64(0.0)), (3690, np.float64(0.0)), (3691, np.float64(0.0)), (3692, np.float64(0.0)), (3693, np.float64(0.0)), (3694, np.float64(0.0)), (3695, np.float64(0.0)), (3696, np.float64(0.020217802133592706)), (3697, np.float64(0.0)), (3698, np.float64(0.0494425598495377)), (3699, np.float64(0.028341692546719675)), (3700, np.float64(0.0)), (3701, np.float64(0.0)), (3702, np.float64(0.0)), (3703, np.float64(0.0)), (3704, np.float64(0.0)), (3705, np.float64(0.0)), (3706, np.float64(0.0)), (3707, np.float64(0.0)), (3708, np.float64(0.0)), (3709, np.float64(0.0)), (3710, np.float64(0.0)), (3711, np.float64(0.0)), (3712, np.float64(0.0)), (3713, np.float64(0.0)), (3714, np.float64(0.0)), (3715, np.float64(0.0)), (3716, np.float64(0.0)), (3717, np.float64(0.0)), (3718, np.float64(0.0)), (3719, np.float64(0.0)), (3720, np.float64(0.0)), (3721, np.float64(0.0)), (3722, np.float64(0.02075482746000686)), (3723, np.float64(0.0)), (3724, np.float64(0.0)), (3725, np.float64(0.0)), (3726, np.float64(0.0)), (3727, np.float64(0.0)), (3728, np.float64(0.0)), (3729, np.float64(0.0)), (3730, np.float64(0.0)), (3731, np.float64(0.0)), (3732, np.float64(0.0)), (3733, np.float64(0.0)), (3734, np.float64(0.0)), (3735, np.float64(0.0)), (3736, np.float64(0.0)), (3737, np.float64(0.04469609357824547)), (3738, np.float64(0.0)), (3739, np.float64(0.0)), (3740, np.float64(0.0)), (3741, np.float64(0.0)), (3742, np.float64(0.0)), (3743, np.float64(0.0)), (3744, np.float64(0.0)), (3745, np.float64(0.0)), (3746, np.float64(0.022056039991932754)), (3747, np.float64(0.060152214022234286)), (3748, np.float64(0.0)), (3749, np.float64(0.0)), (3750, np.float64(0.0)), (3751, np.float64(0.0)), (3752, np.float64(0.0)), (3753, np.float64(0.0)), (3754, np.float64(0.0)), (3755, np.float64(0.0)), (3756, np.float64(0.0)), (3757, np.float64(0.0)), (3758, np.float64(0.0)), (3759, np.float64(0.0)), (3760, np.float64(0.0)), (3761, np.float64(0.0)), (3762, np.float64(0.0)), (3763, np.float64(0.0)), (3764, np.float64(0.0)), (3765, np.float64(0.0)), (3766, np.float64(0.0)), (3767, np.float64(0.0)), (3768, np.float64(0.02558789679098545)), (3769, np.float64(0.0)), (3770, np.float64(0.0)), (3771, np.float64(0.0)), (3772, np.float64(0.06262901900130141)), (3773, np.float64(0.0)), (3774, np.float64(0.0)), (3775, np.float64(0.0)), (3776, np.float64(0.0)), (3777, np.float64(0.0)), (3778, np.float64(0.0)), (3779, np.float64(0.0)), (3780, np.float64(0.0)), (3781, np.float64(0.023858679512968016)), (3782, np.float64(0.0)), (3783, np.float64(0.0)), (3784, np.float64(0.0)), (3785, np.float64(0.0)), (3786, np.float64(0.0)), (3787, np.float64(0.0)), (3788, np.float64(0.0)), (3789, np.float64(0.0)), (3790, np.float64(0.0)), (3791, np.float64(0.0)), (3792, np.float64(0.03262488139005269)), (3793, np.float64(0.0)), (3794, np.float64(0.0)), (3795, np.float64(0.0)), (3796, np.float64(0.0)), (3797, np.float64(0.0)), (3798, np.float64(0.0)), (3799, np.float64(0.0)), (3800, np.float64(0.0)), (3801, np.float64(0.0)), (3802, np.float64(0.0)), (3803, np.float64(0.0)), (3804, np.float64(0.0)), (3805, np.float64(0.0)), (3806, np.float64(0.0)), (3807, np.float64(0.0)), (3808, np.float64(0.10776468456862098)), (3809, np.float64(0.022032410013276566)), (3810, np.float64(0.0)), (3811, np.float64(0.0)), (3812, np.float64(0.0)), (3813, np.float64(0.0)), (3814, np.float64(0.0)), (3815, np.float64(0.0)), (3816, np.float64(0.0)), (3817, np.float64(0.0)), (3818, np.float64(0.0)), (3819, np.float64(0.0)), (3820, np.float64(0.0)), (3821, np.float64(0.0)), (3822, np.float64(0.0)), (3823, np.float64(0.0)), (3824, np.float64(0.02181492055584336)), (3825, np.float64(0.07883621384770409)), (3826, np.float64(0.0)), (3827, np.float64(0.0)), (3828, np.float64(0.0)), (3829, np.float64(0.1058828534544635)), (3830, np.float64(0.0)), (3831, np.float64(0.0)), (3832, np.float64(0.0)), (3833, np.float64(0.0)), (3834, np.float64(0.0)), (3835, np.float64(0.016321159895045376)), (3836, np.float64(0.0)), (3837, np.float64(0.0)), (3838, np.float64(0.0)), (3839, np.float64(0.020599397401941756)), (3840, np.float64(0.0)), (3841, np.float64(0.0)), (3842, np.float64(0.0)), (3843, np.float64(0.0)), (3844, np.float64(0.0)), (3845, np.float64(0.0)), (3846, np.float64(0.0)), (3847, np.float64(0.0)), (3848, np.float64(0.0)), (3849, np.float64(0.0)), (3850, np.float64(0.0)), (3851, np.float64(0.0)), (3852, np.float64(0.12026251809418215)), (3853, np.float64(0.0)), (3854, np.float64(0.0)), (3855, np.float64(0.0)), (3856, np.float64(0.0)), (3857, np.float64(0.0)), (3858, np.float64(0.0)), (3859, np.float64(0.0)), (3860, np.float64(0.0)), (3861, np.float64(0.017678938779141617)), (3862, np.float64(0.0)), (3863, np.float64(0.01718450278478612)), (3864, np.float64(0.04980644353452297)), (3865, np.float64(0.04802103130117348)), (3866, np.float64(0.0)), (3867, np.float64(0.0)), (3868, np.float64(0.0)), (3869, np.float64(0.0)), (3870, np.float64(0.1161585759656021)), (3871, np.float64(0.09841955661515174)), (3872, np.float64(0.0)), (3873, np.float64(0.0)), (3874, np.float64(0.0)), (3875, np.float64(0.0)), (3876, np.float64(0.0)), (3877, np.float64(0.0)), (3878, np.float64(0.07291308772363951)), (3879, np.float64(0.0)), (3880, np.float64(0.0)), (3881, np.float64(0.0)), (3882, np.float64(0.04283327872154772)), (3883, np.float64(0.0)), (3884, np.float64(0.0)), (3885, np.float64(0.0)), (3886, np.float64(0.0)), (3887, np.float64(0.0)), (3888, np.float64(0.0)), (3889, np.float64(0.0)), (3890, np.float64(0.03851890737848481)), (3891, np.float64(0.0)), (3892, np.float64(0.0)), (3893, np.float64(0.0)), (3894, np.float64(0.0)), (3895, np.float64(0.0)), (3896, np.float64(0.0)), (3897, np.float64(0.0)), (3898, np.float64(0.0)), (3899, np.float64(0.029183081382434202)), (3900, np.float64(0.0)), (3901, np.float64(0.0)), (3902, np.float64(0.0)), (3903, np.float64(0.0)), (3904, np.float64(0.0)), (3905, np.float64(0.0)), (3906, np.float64(0.02166961742975805)), (3907, np.float64(0.0)), (3908, np.float64(0.0)), (3909, np.float64(0.03261790633097246)), (3910, np.float64(0.0)), (3911, np.float64(0.0)), (3912, np.float64(0.0)), (3913, np.float64(0.0)), (3914, np.float64(0.0)), (3915, np.float64(0.0)), (3916, np.float64(0.0)), (3917, np.float64(0.06751761085137054)), (3918, np.float64(0.0)), (3919, np.float64(0.0)), (3920, np.float64(0.0)), (3921, np.float64(0.0)), (3922, np.float64(0.0)), (3923, np.float64(0.0)), (3924, np.float64(0.0)), (3925, np.float64(0.0)), (3926, np.float64(0.021670519818718422)), (3927, np.float64(0.0)), (3928, np.float64(0.0)), (3929, np.float64(0.0)), (3930, np.float64(0.0)), (3931, np.float64(0.0)), (3932, np.float64(0.0)), (3933, np.float64(0.0)), (3934, np.float64(0.0)), (3935, np.float64(0.0)), (3936, np.float64(0.0)), (3937, np.float64(0.0)), (3938, np.float64(0.0)), (3939, np.float64(0.0)), (3940, np.float64(0.0)), (3941, np.float64(0.0)), (3942, np.float64(0.0)), (3943, np.float64(0.05950417497879372)), (3944, np.float64(0.0)), (3945, np.float64(0.0)), (3946, np.float64(0.0)), (3947, np.float64(0.0)), (3948, np.float64(0.044323240346223716)), (3949, np.float64(0.0)), (3950, np.float64(0.0)), (3951, np.float64(0.0)), (3952, np.float64(0.0)), (3953, np.float64(0.0)), (3954, np.float64(0.0)), (3955, np.float64(0.0)), (3956, np.float64(0.07359297804176852)), (3957, np.float64(0.0)), (3958, np.float64(0.0)), (3959, np.float64(0.0)), (3960, np.float64(0.0)), (3961, np.float64(0.0)), (3962, np.float64(0.0)), (3963, np.float64(0.0)), (3964, np.float64(0.0)), (3965, np.float64(0.0)), (3966, np.float64(0.0)), (3967, np.float64(0.0)), (3968, np.float64(0.0)), (3969, np.float64(0.0)), (3970, np.float64(0.0)), (3971, np.float64(0.0)), (3972, np.float64(0.0)), (3973, np.float64(0.0)), (3974, np.float64(0.0)), (3975, np.float64(0.0)), (3976, np.float64(0.0)), (3977, np.float64(0.0)), (3978, np.float64(0.0)), (3979, np.float64(0.0)), (3980, np.float64(0.0)), (3981, np.float64(0.0)), (3982, np.float64(0.0)), (3983, np.float64(0.0)), (3984, np.float64(0.0)), (3985, np.float64(0.0)), (3986, np.float64(0.08507873957291501)), (3987, np.float64(0.0)), (3988, np.float64(0.0)), (3989, np.float64(0.0)), (3990, np.float64(0.0)), (3991, np.float64(0.0)), (3992, np.float64(0.0)), (3993, np.float64(0.0)), (3994, np.float64(0.0)), (3995, np.float64(0.0)), (3996, np.float64(0.0)), (3997, np.float64(0.0)), (3998, np.float64(0.0)), (3999, np.float64(0.0)), (4000, np.float64(0.0)), (4001, np.float64(0.0)), (4002, np.float64(0.0)), (4003, np.float64(0.0)), (4004, np.float64(0.0)), (4005, np.float64(0.0)), (4006, np.float64(0.0)), (4007, np.float64(0.0)), (4008, np.float64(0.0)), (4009, np.float64(0.0)), (4010, np.float64(0.0)), (4011, np.float64(0.0)), (4012, np.float64(0.0)), (4013, np.float64(0.0)), (4014, np.float64(0.0)), (4015, np.float64(0.06946466056174445)), (4016, np.float64(0.0)), (4017, np.float64(0.0)), (4018, np.float64(0.0)), (4019, np.float64(0.0)), (4020, np.float64(0.0)), (4021, np.float64(0.0)), (4022, np.float64(0.033379635414015986)), (4023, np.float64(0.0)), (4024, np.float64(0.0)), (4025, np.float64(0.0)), (4026, np.float64(0.0)), (4027, np.float64(0.0)), (4028, np.float64(0.0)), (4029, np.float64(0.0)), (4030, np.float64(0.0)), (4031, np.float64(0.0)), (4032, np.float64(0.0)), (4033, np.float64(0.0)), (4034, np.float64(0.0)), (4035, np.float64(0.0)), (4036, np.float64(0.0)), (4037, np.float64(0.0)), (4038, np.float64(0.0)), (4039, np.float64(0.0)), (4040, np.float64(0.0)), (4041, np.float64(0.0)), (4042, np.float64(0.0)), (4043, np.float64(0.0)), (4044, np.float64(0.0)), (4045, np.float64(0.0)), (4046, np.float64(0.0)), (4047, np.float64(0.0)), (4048, np.float64(0.0)), (4049, np.float64(0.0)), (4050, np.float64(0.0)), (4051, np.float64(0.06745387836695846)), (4052, np.float64(0.0)), (4053, np.float64(0.0)), (4054, np.float64(0.10218920213044365)), (4055, np.float64(0.0)), (4056, np.float64(0.0)), (4057, np.float64(0.0)), (4058, np.float64(0.0)), (4059, np.float64(0.0)), (4060, np.float64(0.0)), (4061, np.float64(0.0)), (4062, np.float64(0.0)), (4063, np.float64(0.0)), (4064, np.float64(0.0)), (4065, np.float64(0.0)), (4066, np.float64(0.0)), (4067, np.float64(0.0)), (4068, np.float64(0.0)), (4069, np.float64(0.0)), (4070, np.float64(0.0)), (4071, np.float64(0.0)), (4072, np.float64(0.0)), (4073, np.float64(0.0)), (4074, np.float64(0.0)), (4075, np.float64(0.0)), (4076, np.float64(0.0)), (4077, np.float64(0.0)), (4078, np.float64(0.0)), (4079, np.float64(0.0)), (4080, np.float64(0.0)), (4081, np.float64(0.0)), (4082, np.float64(0.0)), (4083, np.float64(0.0)), (4084, np.float64(0.0)), (4085, np.float64(0.0)), (4086, np.float64(0.0)), (4087, np.float64(0.0)), (4088, np.float64(0.0)), (4089, np.float64(0.13697014903615104)), (4090, np.float64(0.05849512285623648)), (4091, np.float64(0.0)), (4092, np.float64(0.0)), (4093, np.float64(0.0)), (4094, np.float64(0.0)), (4095, np.float64(0.0)), (4096, np.float64(0.0)), (4097, np.float64(0.0)), (4098, np.float64(0.0)), (4099, np.float64(0.09066579160350406)), (4100, np.float64(0.0)), (4101, np.float64(0.0)), (4102, np.float64(0.0)), (4103, np.float64(0.0)), (4104, np.float64(0.01862847393101708)), (4105, np.float64(0.0)), (4106, np.float64(0.017249977931713605)), (4107, np.float64(0.0)), (4108, np.float64(0.0)), (4109, np.float64(0.0)), (4110, np.float64(0.0)), (4111, np.float64(0.02511045188164585)), (4112, np.float64(0.0)), (4113, np.float64(0.0)), (4114, np.float64(0.0)), (4115, np.float64(0.0)), (4116, np.float64(0.0)), (4117, np.float64(0.0)), (4118, np.float64(0.0)), (4119, np.float64(0.0)), (4120, np.float64(0.0)), (4121, np.float64(0.0)), (4122, np.float64(0.0)), (4123, np.float64(0.0)), (4124, np.float64(0.0)), (4125, np.float64(0.0)), (4126, np.float64(0.0)), (4127, np.float64(0.0)), (4128, np.float64(0.0)), (4129, np.float64(0.0)), (4130, np.float64(0.0)), (4131, np.float64(0.0)), (4132, np.float64(0.0)), (4133, np.float64(0.0)), (4134, np.float64(0.0624899089235874)), (4135, np.float64(0.0)), (4136, np.float64(0.0)), (4137, np.float64(0.0)), (4138, np.float64(0.026420969358069202)), (4139, np.float64(0.0)), (4140, np.float64(0.0)), (4141, np.float64(0.0)), (4142, np.float64(0.0)), (4143, np.float64(0.0)), (4144, np.float64(0.0)), (4145, np.float64(0.0)), (4146, np.float64(0.0)), (4147, np.float64(0.02756855856545819)), (4148, np.float64(0.0)), (4149, np.float64(0.0)), (4150, np.float64(0.0)), (4151, np.float64(0.0)), (4152, np.float64(0.0836917374794671)), (4153, np.float64(0.0)), (4154, np.float64(0.0)), (4155, np.float64(0.0)), (4156, np.float64(0.0)), (4157, np.float64(0.0)), (4158, np.float64(0.0)), (4159, np.float64(0.0)), (4160, np.float64(0.0)), (4161, np.float64(0.0)), (4162, np.float64(0.0)), (4163, np.float64(0.0)), (4164, np.float64(0.0)), (4165, np.float64(0.0)), (4166, np.float64(0.0)), (4167, np.float64(0.0)), (4168, np.float64(0.0)), (4169, np.float64(0.0)), (4170, np.float64(0.0)), (4171, np.float64(0.0)), (4172, np.float64(0.0)), (4173, np.float64(0.0)), (4174, np.float64(0.017313709825014328)), (4175, np.float64(0.0)), (4176, np.float64(0.0)), (4177, np.float64(0.0)), (4178, np.float64(0.020718829048746584)), (4179, np.float64(0.0)), (4180, np.float64(0.0)), (4181, np.float64(0.0)), (4182, np.float64(0.18273426452114863)), (4183, np.float64(0.0)), (4184, np.float64(0.0)), (4185, np.float64(0.0)), (4186, np.float64(0.016996936741348823)), (4187, np.float64(0.0)), (4188, np.float64(0.0)), (4189, np.float64(0.0)), (4190, np.float64(0.0)), (4191, np.float64(0.04718765259727373)), (4192, np.float64(0.0)), (4193, np.float64(0.0)), (4194, np.float64(0.0)), (4195, np.float64(0.0)), (4196, np.float64(0.0)), (4197, np.float64(0.04547188981108672)), (4198, np.float64(0.0)), (4199, np.float64(0.0)), (4200, np.float64(0.0)), (4201, np.float64(0.0)), (4202, np.float64(0.0)), (4203, np.float64(0.0)), (4204, np.float64(0.0)), (4205, np.float64(0.0)), (4206, np.float64(0.0)), (4207, np.float64(0.0)), (4208, np.float64(0.0)), (4209, np.float64(0.0)), (4210, np.float64(0.019760840904240188)), (4211, np.float64(0.0)), (4212, np.float64(0.0)), (4213, np.float64(0.0)), (4214, np.float64(0.0)), (4215, np.float64(0.0)), (4216, np.float64(0.0)), (4217, np.float64(0.0)), (4218, np.float64(0.0)), (4219, np.float64(0.0)), (4220, np.float64(0.0)), (4221, np.float64(0.0)), (4222, np.float64(0.0)), (4223, np.float64(0.0)), (4224, np.float64(0.0)), (4225, np.float64(0.0)), (4226, np.float64(0.0)), (4227, np.float64(0.0)), (4228, np.float64(0.0)), (4229, np.float64(0.0)), (4230, np.float64(0.0)), (4231, np.float64(0.0)), (4232, np.float64(0.0)), (4233, np.float64(0.0)), (4234, np.float64(0.0)), (4235, np.float64(0.0)), (4236, np.float64(0.0)), (4237, np.float64(0.0)), (4238, np.float64(0.0)), (4239, np.float64(0.0)), (4240, np.float64(0.0)), (4241, np.float64(0.0)), (4242, np.float64(0.0)), (4243, np.float64(0.0)), (4244, np.float64(0.0)), (4245, np.float64(0.021628498498022362)), (4246, np.float64(0.0)), (4247, np.float64(0.0)), (4248, np.float64(0.0)), (4249, np.float64(0.0)), (4250, np.float64(0.0)), (4251, np.float64(0.0)), (4252, np.float64(0.0)), (4253, np.float64(0.0)), (4254, np.float64(0.04169763832104786)), (4255, np.float64(0.0)), (4256, np.float64(0.0)), (4257, np.float64(0.0)), (4258, np.float64(0.0)), (4259, np.float64(0.0)), (4260, np.float64(0.0)), (4261, np.float64(0.0)), (4262, np.float64(0.0)), (4263, np.float64(0.0)), (4264, np.float64(0.0)), (4265, np.float64(0.0)), (4266, np.float64(0.0)), (4267, np.float64(0.0)), (4268, np.float64(0.0)), (4269, np.float64(0.0)), (4270, np.float64(0.0)), (4271, np.float64(0.0)), (4272, np.float64(0.0)), (4273, np.float64(0.0)), (4274, np.float64(0.0)), (4275, np.float64(0.0)), (4276, np.float64(0.0)), (4277, np.float64(0.03623237448560246)), (4278, np.float64(0.0)), (4279, np.float64(0.0)), (4280, np.float64(0.11148429875301902)), (4281, np.float64(0.0)), (4282, np.float64(0.0)), (4283, np.float64(0.05710499664055992)), (4284, np.float64(0.0)), (4285, np.float64(0.0)), (4286, np.float64(0.0)), (4287, np.float64(0.0)), (4288, np.float64(0.0)), (4289, np.float64(0.0)), (4290, np.float64(0.0)), (4291, np.float64(0.0)), (4292, np.float64(0.0)), (4293, np.float64(0.0)), (4294, np.float64(0.0)), (4295, np.float64(0.02463327971419162)), (4296, np.float64(0.0)), (4297, np.float64(0.028317522850027442)), (4298, np.float64(0.0)), (4299, np.float64(0.0)), (4300, np.float64(0.0)), (4301, np.float64(0.0)), (4302, np.float64(0.0)), (4303, np.float64(0.0)), (4304, np.float64(0.0)), (4305, np.float64(0.0)), (4306, np.float64(0.0)), (4307, np.float64(0.0)), (4308, np.float64(0.0)), (4309, np.float64(0.0)), (4310, np.float64(0.0)), (4311, np.float64(0.0)), (4312, np.float64(0.0)), (4313, np.float64(0.0)), (4314, np.float64(0.0)), (4315, np.float64(0.0)), (4316, np.float64(0.0)), (4317, np.float64(0.0)), (4318, np.float64(0.0)), (4319, np.float64(0.0)), (4320, np.float64(0.0)), (4321, np.float64(0.0)), (4322, np.float64(0.0)), (4323, np.float64(0.0)), (4324, np.float64(0.0)), (4325, np.float64(0.0)), (4326, np.float64(0.0)), (4327, np.float64(0.020071717103191597)), (4328, np.float64(0.0)), (4329, np.float64(0.02207920241670919)), (4330, np.float64(0.0)), (4331, np.float64(0.0)), (4332, np.float64(0.0)), (4333, np.float64(0.0)), (4334, np.float64(0.0)), (4335, np.float64(0.0)), (4336, np.float64(0.0)), (4337, np.float64(0.0)), (4338, np.float64(0.0)), (4339, np.float64(0.0)), (4340, np.float64(0.0)), (4341, np.float64(0.0)), (4342, np.float64(0.0)), (4343, np.float64(0.0)), (4344, np.float64(0.0)), (4345, np.float64(0.0)), (4346, np.float64(0.0)), (4347, np.float64(0.07577354919663538)), (4348, np.float64(0.0)), (4349, np.float64(0.0)), (4350, np.float64(0.0)), (4351, np.float64(0.0)), (4352, np.float64(0.0)), (4353, np.float64(0.0)), (4354, np.float64(0.0)), (4355, np.float64(0.0)), (4356, np.float64(0.0)), (4357, np.float64(0.0)), (4358, np.float64(0.017157732126449665)), (4359, np.float64(0.0)), (4360, np.float64(0.0)), (4361, np.float64(0.0)), (4362, np.float64(0.02282492351321564)), (4363, np.float64(0.0)), (4364, np.float64(0.0)), (4365, np.float64(0.0)), (4366, np.float64(0.0)), (4367, np.float64(0.0)), (4368, np.float64(0.0)), (4369, np.float64(0.0)), (4370, np.float64(0.0)), (4371, np.float64(0.033935484732488135)), (4372, np.float64(0.0)), (4373, np.float64(0.0)), (4374, np.float64(0.0)), (4375, np.float64(0.0)), (4376, np.float64(0.0)), (4377, np.float64(0.0)), (4378, np.float64(0.0)), (4379, np.float64(0.0)), (4380, np.float64(0.022749212918026427)), (4381, np.float64(0.0)), (4382, np.float64(0.0)), (4383, np.float64(0.0)), (4384, np.float64(0.0)), (4385, np.float64(0.0)), (4386, np.float64(0.0)), (4387, np.float64(0.0)), (4388, np.float64(0.0)), (4389, np.float64(0.0)), (4390, np.float64(0.0)), (4391, np.float64(0.0)), (4392, np.float64(0.0)), (4393, np.float64(0.0)), (4394, np.float64(0.11833198624553008)), (4395, np.float64(0.0)), (4396, np.float64(0.022565262802064875)), (4397, np.float64(0.0)), (4398, np.float64(0.0)), (4399, np.float64(0.0)), (4400, np.float64(0.0)), (4401, np.float64(0.1125357311552144)), (4402, np.float64(0.0)), (4403, np.float64(0.0)), (4404, np.float64(0.0)), (4405, np.float64(0.0)), (4406, np.float64(0.0)), (4407, np.float64(0.0)), (4408, np.float64(0.0)), (4409, np.float64(0.0)), (4410, np.float64(0.02307326405278892)), (4411, np.float64(0.016822736507756793)), (4412, np.float64(0.0)), (4413, np.float64(0.0)), (4414, np.float64(0.0)), (4415, np.float64(0.0)), (4416, np.float64(0.0)), (4417, np.float64(0.0)), (4418, np.float64(0.0)), (4419, np.float64(0.0)), (4420, np.float64(0.031064983576520534)), (4421, np.float64(0.044109615313631854)), (4422, np.float64(0.02240337534815021)), (4423, np.float64(0.0)), (4424, np.float64(0.0)), (4425, np.float64(0.0)), (4426, np.float64(0.027903202533667452)), (4427, np.float64(0.0)), (4428, np.float64(0.0)), (4429, np.float64(0.0)), (4430, np.float64(0.05275099713889201)), (4431, np.float64(0.0)), (4432, np.float64(0.0)), (4433, np.float64(0.022742056361886795)), (4434, np.float64(0.0)), (4435, np.float64(0.0)), (4436, np.float64(0.0)), (4437, np.float64(0.0)), (4438, np.float64(0.0)), (4439, np.float64(0.0)), (4440, np.float64(0.0)), (4441, np.float64(0.0)), (4442, np.float64(0.0)), (4443, np.float64(0.0)), (4444, np.float64(0.0)), (4445, np.float64(0.0)), (4446, np.float64(0.0)), (4447, np.float64(0.0)), (4448, np.float64(0.0)), (4449, np.float64(0.0)), (4450, np.float64(0.0)), (4451, np.float64(0.0)), (4452, np.float64(0.0)), (4453, np.float64(0.0)), (4454, np.float64(0.0)), (4455, np.float64(0.0)), (4456, np.float64(0.0)), (4457, np.float64(0.0)), (4458, np.float64(0.0)), (4459, np.float64(0.0)), (4460, np.float64(0.0)), (4461, np.float64(0.0)), (4462, np.float64(0.0)), (4463, np.float64(0.0)), (4464, np.float64(0.0)), (4465, np.float64(0.0)), (4466, np.float64(0.0)), (4467, np.float64(0.0)), (4468, np.float64(0.0)), (4469, np.float64(0.0)), (4470, np.float64(0.0)), (4471, np.float64(0.0)), (4472, np.float64(0.0)), (4473, np.float64(0.0)), (4474, np.float64(0.0)), (4475, np.float64(0.0)), (4476, np.float64(0.0)), (4477, np.float64(0.0)), (4478, np.float64(0.0)), (4479, np.float64(0.018166089931853077)), (4480, np.float64(0.0)), (4481, np.float64(0.0)), (4482, np.float64(0.0)), (4483, np.float64(0.0)), (4484, np.float64(0.0)), (4485, np.float64(0.0)), (4486, np.float64(0.0)), (4487, np.float64(0.0)), (4488, np.float64(0.0)), (4489, np.float64(0.0)), (4490, np.float64(0.0)), (4491, np.float64(0.0)), (4492, np.float64(0.0)), (4493, np.float64(0.0)), (4494, np.float64(0.0)), (4495, np.float64(0.0)), (4496, np.float64(0.0)), (4497, np.float64(0.0)), (4498, np.float64(0.0)), (4499, np.float64(0.0)), (4500, np.float64(0.0)), (4501, np.float64(0.0)), (4502, np.float64(0.0)), (4503, np.float64(0.0)), (4504, np.float64(0.0)), (4505, np.float64(0.0)), (4506, np.float64(0.0)), (4507, np.float64(0.0)), (4508, np.float64(0.0)), (4509, np.float64(0.0)), (4510, np.float64(0.0)), (4511, np.float64(0.021880225101644977)), (4512, np.float64(0.0)), (4513, np.float64(0.0)), (4514, np.float64(0.0)), (4515, np.float64(0.0)), (4516, np.float64(0.0)), (4517, np.float64(0.0)), (4518, np.float64(0.0)), (4519, np.float64(0.0)), (4520, np.float64(0.0)), (4521, np.float64(0.0)), (4522, np.float64(0.0)), (4523, np.float64(0.08581634999869595)), (4524, np.float64(0.0)), (4525, np.float64(0.0)), (4526, np.float64(0.0)), (4527, np.float64(0.0)), (4528, np.float64(0.0)), (4529, np.float64(0.0)), (4530, np.float64(0.019435230476854255)), (4531, np.float64(0.0)), (4532, np.float64(0.0)), (4533, np.float64(0.0)), (4534, np.float64(0.0)), (4535, np.float64(0.0)), (4536, np.float64(0.0)), (4537, np.float64(0.0)), (4538, np.float64(0.0)), (4539, np.float64(0.0)), (4540, np.float64(0.0)), (4541, np.float64(0.0)), (4542, np.float64(0.0)), (4543, np.float64(0.0)), (4544, np.float64(0.0)), (4545, np.float64(0.0)), (4546, np.float64(0.0)), (4547, np.float64(0.0)), (4548, np.float64(0.0)), (4549, np.float64(0.0)), (4550, np.float64(0.0)), (4551, np.float64(0.0)), (4552, np.float64(0.0)), (4553, np.float64(0.0)), (4554, np.float64(0.0)), (4555, np.float64(0.0)), (4556, np.float64(0.0)), (4557, np.float64(0.0)), (4558, np.float64(0.016991384245350086)), (4559, np.float64(0.0)), (4560, np.float64(0.0)), (4561, np.float64(0.0)), (4562, np.float64(0.0)), (4563, np.float64(0.0)), (4564, np.float64(0.0)), (4565, np.float64(0.0)), (4566, np.float64(0.0)), (4567, np.float64(0.0)), (4568, np.float64(0.0)), (4569, np.float64(0.0)), (4570, np.float64(0.0)), (4571, np.float64(0.0)), (4572, np.float64(0.0)), (4573, np.float64(0.0)), (4574, np.float64(0.0)), (4575, np.float64(0.0)), (4576, np.float64(0.0)), (4577, np.float64(0.0)), (4578, np.float64(0.0)), (4579, np.float64(0.0)), (4580, np.float64(0.0)), (4581, np.float64(0.0)), (4582, np.float64(0.018552209979907273)), (4583, np.float64(0.0)), (4584, np.float64(0.0)), (4585, np.float64(0.0)), (4586, np.float64(0.0)), (4587, np.float64(0.0)), (4588, np.float64(0.0)), (4589, np.float64(0.0)), (4590, np.float64(0.0)), (4591, np.float64(0.0)), (4592, np.float64(0.0)), (4593, np.float64(0.0)), (4594, np.float64(0.0)), (4595, np.float64(0.0)), (4596, np.float64(0.0)), (4597, np.float64(0.0)), (4598, np.float64(0.0)), (4599, np.float64(0.0)), (4600, np.float64(0.0)), (4601, np.float64(0.0)), (4602, np.float64(0.0)), (4603, np.float64(0.0)), (4604, np.float64(0.0)), (4605, np.float64(0.02255080216820347)), (4606, np.float64(0.0)), (4607, np.float64(0.0)), (4608, np.float64(0.0)), (4609, np.float64(0.020413961012657775)), (4610, np.float64(0.0)), (4611, np.float64(0.0)), (4612, np.float64(0.0)), (4613, np.float64(0.0)), (4614, np.float64(0.0)), (4615, np.float64(0.0)), (4616, np.float64(0.02260327272261365)), (4617, np.float64(0.0)), (4618, np.float64(0.0)), (4619, np.float64(0.0)), (4620, np.float64(0.0)), (4621, np.float64(0.0)), (4622, np.float64(0.0)), (4623, np.float64(0.0)), (4624, np.float64(0.0)), (4625, np.float64(0.0)), (4626, np.float64(0.0)), (4627, np.float64(0.0)), (4628, np.float64(0.0)), (4629, np.float64(0.0)), (4630, np.float64(0.07177389362150273)), (4631, np.float64(0.0)), (4632, np.float64(0.0)), (4633, np.float64(0.0)), (4634, np.float64(0.0)), (4635, np.float64(0.0)), (4636, np.float64(0.0)), (4637, np.float64(0.0)), (4638, np.float64(0.0)), (4639, np.float64(0.0)), (4640, np.float64(0.09602148845651132)), (4641, np.float64(0.0)), (4642, np.float64(0.0)), (4643, np.float64(0.0)), (4644, np.float64(0.0)), (4645, np.float64(0.0)), (4646, np.float64(0.0)), (4647, np.float64(0.017865120599717274)), (4648, np.float64(0.0)), (4649, np.float64(0.0)), (4650, np.float64(0.0)), (4651, np.float64(0.0)), (4652, np.float64(0.0)), (4653, np.float64(0.0)), (4654, np.float64(0.0)), (4655, np.float64(0.0)), (4656, np.float64(0.0)), (4657, np.float64(0.0)), (4658, np.float64(0.0)), (4659, np.float64(0.0)), (4660, np.float64(0.0)), (4661, np.float64(0.0)), (4662, np.float64(0.0)), (4663, np.float64(0.0)), (4664, np.float64(0.0)), (4665, np.float64(0.08191148727845357)), (4666, np.float64(0.0)), (4667, np.float64(0.0)), (4668, np.float64(0.0)), (4669, np.float64(0.0)), (4670, np.float64(0.0)), (4671, np.float64(0.0)), (4672, np.float64(0.0)), (4673, np.float64(0.0)), (4674, np.float64(0.0)), (4675, np.float64(0.0)), (4676, np.float64(0.0)), (4677, np.float64(0.0)), (4678, np.float64(0.0)), (4679, np.float64(0.0)), (4680, np.float64(0.0)), (4681, np.float64(0.0)), (4682, np.float64(0.0)), (4683, np.float64(0.0)), (4684, np.float64(0.0)), (4685, np.float64(0.0)), (4686, np.float64(0.0)), (4687, np.float64(0.0)), (4688, np.float64(0.0)), (4689, np.float64(0.0)), (4690, np.float64(0.0)), (4691, np.float64(0.0)), (4692, np.float64(0.0)), (4693, np.float64(0.0)), (4694, np.float64(0.0)), (4695, np.float64(0.0)), (4696, np.float64(0.0)), (4697, np.float64(0.0)), (4698, np.float64(0.0)), (4699, np.float64(0.0)), (4700, np.float64(0.0)), (4701, np.float64(0.0)), (4702, np.float64(0.0)), (4703, np.float64(0.019971569095726775)), (4704, np.float64(0.0)), (4705, np.float64(0.0)), (4706, np.float64(0.0)), (4707, np.float64(0.0)), (4708, np.float64(0.0)), (4709, np.float64(0.0)), (4710, np.float64(0.0)), (4711, np.float64(0.0)), (4712, np.float64(0.0)), (4713, np.float64(0.0)), (4714, np.float64(0.0)), (4715, np.float64(0.0)), (4716, np.float64(0.09718504838392877)), (4717, np.float64(0.0)), (4718, np.float64(0.09641411853823344)), (4719, np.float64(0.0)), (4720, np.float64(0.0)), (4721, np.float64(0.0)), (4722, np.float64(0.0)), (4723, np.float64(0.0)), (4724, np.float64(0.0)), (4725, np.float64(0.0)), (4726, np.float64(0.0)), (4727, np.float64(0.0)), (4728, np.float64(0.0)), (4729, np.float64(0.0)), (4730, np.float64(0.0)), (4731, np.float64(0.0)), (4732, np.float64(0.0)), (4733, np.float64(0.0)), (4734, np.float64(0.0)), (4735, np.float64(0.0)), (4736, np.float64(0.0)), (4737, np.float64(0.0)), (4738, np.float64(0.06543739615507876)), (4739, np.float64(0.0)), (4740, np.float64(0.0)), (4741, np.float64(0.0)), (4742, np.float64(0.0)), (4743, np.float64(0.0)), (4744, np.float64(0.0)), (4745, np.float64(0.0)), (4746, np.float64(0.0)), (4747, np.float64(0.0)), (4748, np.float64(0.0)), (4749, np.float64(0.0)), (4750, np.float64(0.0)), (4751, np.float64(0.0)), (4752, np.float64(0.0)), (4753, np.float64(0.0)), (4754, np.float64(0.0)), (4755, np.float64(0.0)), (4756, np.float64(0.0)), (4757, np.float64(0.0)), (4758, np.float64(0.0)), (4759, np.float64(0.0))]\n"
     ]
    }
   ],
   "source": [
    "print(recommendation_score)"
   ]
  },
  {
   "cell_type": "code",
   "execution_count": 84,
   "id": "e659b43c-aca8-4774-8924-4e8438477153",
   "metadata": {},
   "outputs": [
    {
     "data": {
      "text/plain": [
       "4760"
      ]
     },
     "execution_count": 84,
     "metadata": {},
     "output_type": "execute_result"
    }
   ],
   "source": [
    "len(recommendation_score)"
   ]
  },
  {
   "cell_type": "markdown",
   "id": "c7903a12-bf08-412d-ab7b-751ccee0b63d",
   "metadata": {},
   "source": [
    "# Get all movies sort based on recommendation score w.r.t favourite movie"
   ]
  },
  {
   "cell_type": "code",
   "execution_count": 85,
   "id": "9a5faf85-8fc5-46d2-82a4-2226fab42a9f",
   "metadata": {},
   "outputs": [],
   "source": [
    "# Sorting the movies based on their cosine_sim\n",
    "\n",
    "sorted_similar_movies = sorted(recommendation_score, key = lambda x:x[1], reverse = True)"
   ]
  },
  {
   "cell_type": "code",
   "execution_count": 86,
   "id": "99c6438f-dd77-4f91-9e2f-e2a24f7fd3b0",
   "metadata": {},
   "outputs": [
    {
     "name": "stdout",
     "output_type": "stream",
     "text": [
      "[(2, np.float64(1.0)), (1714, np.float64(0.2557786356939867)), (247, np.float64(0.251640544346818)), (1758, np.float64(0.20072884591130202)), (4182, np.float64(0.18273426452114863)), (2135, np.float64(0.17394578335106212)), (1473, np.float64(0.17142873486713817)), (3256, np.float64(0.15976709297059383)), (3467, np.float64(0.15968580863137113)), (3144, np.float64(0.15544833002265257)), (3471, np.float64(0.15542649349670937)), (3390, np.float64(0.1522200202035396)), (2433, np.float64(0.151410746993945)), (3181, np.float64(0.1468677299759112)), (1182, np.float64(0.1458736648499198)), (1319, np.float64(0.1452596760077319)), (3632, np.float64(0.14396849119198313)), (1276, np.float64(0.14310303960367568)), (1737, np.float64(0.1408198822571076)), (705, np.float64(0.13966135526850715)), (1886, np.float64(0.13927803931711)), (2335, np.float64(0.13876733255831625)), (4089, np.float64(0.13697014903615104)), (1072, np.float64(0.13563074627438887)), (1327, np.float64(0.13112365385330105)), (293, np.float64(0.12928292617128087)), (1557, np.float64(0.12077175875871181)), (3852, np.float64(0.12026251809418215)), (2591, np.float64(0.11888586157210533)), (4394, np.float64(0.11833198624553008)), (1673, np.float64(0.11760158209969113)), (2897, np.float64(0.1171059308918839)), (3870, np.float64(0.1161585759656021)), (2098, np.float64(0.11573432947227445)), (752, np.float64(0.1155469436905825)), (4401, np.float64(0.1125357311552144)), (4280, np.float64(0.11148429875301902)), (1524, np.float64(0.11056030046498931)), (1176, np.float64(0.11055262825987305)), (1860, np.float64(0.10982573597508676)), (198, np.float64(0.10894451763424368)), (1477, np.float64(0.10839359906162642)), (3808, np.float64(0.10776468456862098)), (1405, np.float64(0.10657154786601304)), (144, np.float64(0.10639152780993055)), (1107, np.float64(0.10626866152826724)), (3829, np.float64(0.1058828534544635)), (4054, np.float64(0.10218920213044365)), (3540, np.float64(0.1021831590608355)), (2370, np.float64(0.10082963104101259)), (3225, np.float64(0.09996345568782211)), (140, np.float64(0.09889074901614861)), (2264, np.float64(0.09847311071040724)), (3871, np.float64(0.09841955661515174)), (230, np.float64(0.0975995929776811)), (4716, np.float64(0.09718504838392877)), (691, np.float64(0.09665056592738056)), (4718, np.float64(0.09641411853823344)), (4640, np.float64(0.09602148845651132)), (3199, np.float64(0.09583349621839878)), (1409, np.float64(0.0953442615123592)), (1959, np.float64(0.09529081951965865)), (2393, np.float64(0.09510846458596021)), (2568, np.float64(0.09386220901084263)), (548, np.float64(0.09257983615246179)), (1927, np.float64(0.09233722899714569)), (2292, np.float64(0.09193309041224453)), (2809, np.float64(0.09179205671773963)), (146, np.float64(0.0911501806745611)), (695, np.float64(0.09106253109574598)), (3074, np.float64(0.09093693055825626)), (4099, np.float64(0.09066579160350406)), (488, np.float64(0.08945946599520122)), (2654, np.float64(0.08871516375020036)), (106, np.float64(0.08807570916922554)), (173, np.float64(0.08804578927260344)), (1041, np.float64(0.08764033032212737)), (2938, np.float64(0.08691409866252821)), (988, np.float64(0.08613455766149267)), (4523, np.float64(0.08581634999869595)), (14, np.float64(0.08541333829093745)), (3986, np.float64(0.08507873957291501)), (3288, np.float64(0.08492917796370707)), (3260, np.float64(0.08477614987846681)), (4152, np.float64(0.0836917374794671)), (643, np.float64(0.08294805064099356)), (3662, np.float64(0.08191439525518629)), (4665, np.float64(0.08191148727845357)), (3212, np.float64(0.0805244434734859)), (1433, np.float64(0.08043458995292316)), (3201, np.float64(0.08014205962815858)), (932, np.float64(0.07992927934507583)), (2113, np.float64(0.0797295117110705)), (1038, np.float64(0.07888927009971833)), (3825, np.float64(0.07883621384770409)), (989, np.float64(0.07801957685062895)), (1715, np.float64(0.07672270361609788)), (724, np.float64(0.07649959915408036)), (53, np.float64(0.0762201550007455)), (1284, np.float64(0.07601009577894455)), (4347, np.float64(0.07577354919663538)), (1050, np.float64(0.07553328063242792)), (1861, np.float64(0.07520157629361776)), (2340, np.float64(0.07507519959881291)), (133, np.float64(0.0750243554335793)), (1212, np.float64(0.07443915667403352)), (1810, np.float64(0.07434692365698804)), (1950, np.float64(0.07413075392959681)), (3956, np.float64(0.07359297804176852)), (2406, np.float64(0.07357946613473186)), (3878, np.float64(0.07291308772363951)), (1972, np.float64(0.07256117374456207)), (4630, np.float64(0.07177389362150273)), (437, np.float64(0.07071199500418913)), (4015, np.float64(0.06946466056174445)), (3257, np.float64(0.06935704715730183)), (179, np.float64(0.06933969767955067)), (2921, np.float64(0.06837856054757922)), (3412, np.float64(0.06804628896246648)), (1523, np.float64(0.06791470984511298)), (3917, np.float64(0.06751761085137054)), (4051, np.float64(0.06745387836695846)), (2111, np.float64(0.06607180394915108)), (839, np.float64(0.06582584559316257)), (3548, np.float64(0.0654975413867216)), (4738, np.float64(0.06543739615507876)), (1833, np.float64(0.06521012401308847)), (794, np.float64(0.06520254876326041)), (1459, np.float64(0.0647517349895464)), (239, np.float64(0.06355574329160968)), (2041, np.float64(0.06354504873342659)), (3346, np.float64(0.0635075940214162)), (2864, np.float64(0.06318323974491075)), (362, np.float64(0.06299172666477411)), (1484, np.float64(0.06274915553722135)), (3772, np.float64(0.06262901900130141)), (4134, np.float64(0.0624899089235874)), (3659, np.float64(0.062095130940886874)), (165, np.float64(0.06162088818841563)), (3648, np.float64(0.061603534937329944)), (911, np.float64(0.06090197426716148)), (3747, np.float64(0.060152214022234286)), (2733, np.float64(0.0598033997539942)), (3943, np.float64(0.05950417497879372)), (665, np.float64(0.05934043335146908)), (79, np.float64(0.0588954247748158)), (1974, np.float64(0.05867572411846853)), (3103, np.float64(0.05864860818940463)), (4090, np.float64(0.05849512285623648)), (446, np.float64(0.05838726848290803)), (584, np.float64(0.058240175694585686)), (1315, np.float64(0.058078347709838225)), (3531, np.float64(0.05773712730898534)), (182, np.float64(0.057216820216522864)), (4283, np.float64(0.05710499664055992)), (130, np.float64(0.0570699234324167)), (2316, np.float64(0.05648772844233718)), (887, np.float64(0.05625949737973084)), (2510, np.float64(0.05622097470832943)), (3468, np.float64(0.05609803559227927)), (620, np.float64(0.05594062158556481)), (2121, np.float64(0.055754319729900595)), (1964, np.float64(0.05553018810498634)), (756, np.float64(0.0551428314291414)), (1647, np.float64(0.05503550367003847)), (1771, np.float64(0.05386903828505199)), (2661, np.float64(0.05306621282091848)), (4430, np.float64(0.05275099713889201)), (2611, np.float64(0.05218539012772962)), (22, np.float64(0.05203237735668228)), (2752, np.float64(0.051896694688058964)), (421, np.float64(0.051494178904068794)), (3379, np.float64(0.051263485508775145)), (1764, np.float64(0.05117811373136487)), (1634, np.float64(0.05092857225144587)), (1726, np.float64(0.050263383186847296)), (578, np.float64(0.05013802328316115)), (1584, np.float64(0.04993277340985535)), (3864, np.float64(0.04980644353452297)), (347, np.float64(0.04978705784582156)), (2653, np.float64(0.04972730798163094)), (850, np.float64(0.049668488665458935)), (862, np.float64(0.049637396161724114)), (2634, np.float64(0.04950406802904478)), (3698, np.float64(0.0494425598495377)), (3421, np.float64(0.04925389492899594)), (2040, np.float64(0.04904052705806735)), (2284, np.float64(0.048727033300420636)), (1046, np.float64(0.04864801409335489)), (361, np.float64(0.04852464623099819)), (1223, np.float64(0.048510544431550645)), (3865, np.float64(0.04802103130117348)), (1180, np.float64(0.047547736985417206)), (1481, np.float64(0.04739884382473364)), (4191, np.float64(0.04718765259727373)), (4197, np.float64(0.04547188981108672)), (1920, np.float64(0.045437804376370676)), (2091, np.float64(0.0450997029860115)), (1555, np.float64(0.044929366875698755)), (1021, np.float64(0.04483057298741767)), (3737, np.float64(0.04469609357824547)), (1812, np.float64(0.04469241116334742)), (188, np.float64(0.04461636229757822)), (1079, np.float64(0.04445599113993723)), (3948, np.float64(0.044323240346223716)), (2964, np.float64(0.044223811489473026)), (4421, np.float64(0.044109615313631854)), (2541, np.float64(0.044108129263493646)), (730, np.float64(0.0440256839015966)), (915, np.float64(0.043909891686502785)), (3057, np.float64(0.0438040347984246)), (854, np.float64(0.043795257672916504)), (566, np.float64(0.04373136190664804)), (806, np.float64(0.043386585634496475)), (3882, np.float64(0.04283327872154772)), (2589, np.float64(0.04265474319813709)), (1926, np.float64(0.04236353460386075)), (2683, np.float64(0.04223996544074591)), (1383, np.float64(0.04194845890274168)), (3313, np.float64(0.04178216746391545)), (4254, np.float64(0.04169763832104786)), (2553, np.float64(0.04123531631233218)), (1712, np.float64(0.04100993167415097)), (3403, np.float64(0.04100808905203061)), (2250, np.float64(0.04061642024614795)), (3218, np.float64(0.04017818736684341)), (640, np.float64(0.03977634912200078)), (2157, np.float64(0.038944619392078245)), (1067, np.float64(0.03880055269734063)), (1778, np.float64(0.03877658745302266)), (2782, np.float64(0.038641880675615706)), (3890, np.float64(0.03851890737848481)), (1552, np.float64(0.038445773676286966)), (2734, np.float64(0.03840131190378303)), (900, np.float64(0.03761857431485748)), (3606, np.float64(0.03749776530650072)), (651, np.float64(0.03742426819031723)), (1843, np.float64(0.037332526292998894)), (1629, np.float64(0.03720205335190738)), (451, np.float64(0.037149202214145076)), (3243, np.float64(0.03676561347748751)), (1954, np.float64(0.03662810500966105)), (2201, np.float64(0.03623525318530007)), (346, np.float64(0.03623271441241043)), (4277, np.float64(0.03623237448560246)), (1643, np.float64(0.03621101854082751)), (1846, np.float64(0.036200983879294206)), (3027, np.float64(0.03609315218098392)), (3541, np.float64(0.035756501132058006)), (569, np.float64(0.03562617484764266)), (1255, np.float64(0.035562677058564786)), (1162, np.float64(0.035536180911974795)), (1864, np.float64(0.03551880943659885)), (1195, np.float64(0.035306705703000665)), (208, np.float64(0.03522389306406918)), (3461, np.float64(0.0351658793303228)), (1902, np.float64(0.034359883503022624)), (4371, np.float64(0.033935484732488135)), (1538, np.float64(0.0338610542524597)), (1958, np.float64(0.033775886183798266)), (2723, np.float64(0.03371025524329622)), (4022, np.float64(0.033379635414015986)), (787, np.float64(0.03308916558380887)), (3792, np.float64(0.03262488139005269)), (899, np.float64(0.03262121591809501)), (3909, np.float64(0.03261790633097246)), (3065, np.float64(0.032225280852857724)), (1564, np.float64(0.03160315594779345)), (2473, np.float64(0.03149165155890745)), (2704, np.float64(0.0314308614837365)), (3229, np.float64(0.031157360228987317)), (109, np.float64(0.03111977883865463)), (817, np.float64(0.031067823364835316)), (4420, np.float64(0.031064983576520534)), (615, np.float64(0.0310247633483386)), (3627, np.float64(0.030892614721128045)), (164, np.float64(0.030855237783521137)), (1389, np.float64(0.030422529678096888)), (167, np.float64(0.030033093339001355)), (3665, np.float64(0.02993569136754392)), (3216, np.float64(0.02985110216542455)), (1461, np.float64(0.02984810829374943)), (3656, np.float64(0.02956822351491136)), (2116, np.float64(0.02956040541716408)), (3508, np.float64(0.029218452126894286)), (3899, np.float64(0.029183081382434202)), (1049, np.float64(0.0291389639358243)), (2579, np.float64(0.028859987674509716)), (629, np.float64(0.028482792735426195)), (3699, np.float64(0.028341692546719675)), (3226, np.float64(0.02831818598065282)), (4297, np.float64(0.028317522850027442)), (901, np.float64(0.028203900374409747)), (1376, np.float64(0.027969119595801954)), (4426, np.float64(0.027903202533667452)), (4147, np.float64(0.02756855856545819)), (706, np.float64(0.02731465573081895)), (501, np.float64(0.0272239073302745)), (4138, np.float64(0.026420969358069202)), (3413, np.float64(0.026389331448986576)), (254, np.float64(0.026295769276185706)), (2190, np.float64(0.026103668168221343)), (489, np.float64(0.025861787425210427)), (3768, np.float64(0.02558789679098545)), (847, np.float64(0.025429555485889772)), (3094, np.float64(0.025326068549077634)), (3615, np.float64(0.025276786100640426)), (4111, np.float64(0.02511045188164585)), (3501, np.float64(0.024995032073871305)), (3034, np.float64(0.02491394227505814)), (1088, np.float64(0.024841426113248216)), (3511, np.float64(0.024688366550739183)), (2405, np.float64(0.02463668241480006)), (4295, np.float64(0.02463327971419162)), (395, np.float64(0.02442524703023916)), (1951, np.float64(0.024423600595322746)), (2915, np.float64(0.024271712988366025)), (1594, np.float64(0.02425720934198799)), (461, np.float64(0.024100398745506228)), (1103, np.float64(0.02402659249003518)), (3781, np.float64(0.023858679512968016)), (2390, np.float64(0.02384671054608121)), (2138, np.float64(0.023826425847330298)), (998, np.float64(0.023732912312930673)), (2450, np.float64(0.02372311502079626)), (2663, np.float64(0.023537421342172644)), (2372, np.float64(0.02337769787444502)), (2544, np.float64(0.023120394965249837)), (2009, np.float64(0.02310305257184649)), (4410, np.float64(0.02307326405278892)), (3442, np.float64(0.023048629961436588)), (176, np.float64(0.022844310516708086)), (2402, np.float64(0.022828948056220055)), (4362, np.float64(0.02282492351321564)), (4380, np.float64(0.022749212918026427)), (4433, np.float64(0.022742056361886795)), (3681, np.float64(0.022704658320573796)), (201, np.float64(0.022656635939778742)), (4616, np.float64(0.02260327272261365)), (4396, np.float64(0.022565262802064875)), (4605, np.float64(0.02255080216820347)), (4422, np.float64(0.02240337534815021)), (872, np.float64(0.022398061010705794)), (2999, np.float64(0.022239990019774815)), (1292, np.float64(0.022231200123652626)), (3148, np.float64(0.022193281450803785)), (1104, np.float64(0.02209829754457277)), (4329, np.float64(0.02207920241670919)), (3746, np.float64(0.022056039991932754)), (769, np.float64(0.022045980004085336)), (3809, np.float64(0.022032410013276566)), (2741, np.float64(0.02200647416537414)), (1006, np.float64(0.021998055197965754)), (849, np.float64(0.02198114927486199)), (971, np.float64(0.021933468289009952)), (3173, np.float64(0.021892525169101805)), (4511, np.float64(0.021880225101644977)), (646, np.float64(0.021857631469250863)), (693, np.float64(0.021829710517161816)), (3824, np.float64(0.02181492055584336)), (3673, np.float64(0.021679131129231283)), (2234, np.float64(0.02167103406368458)), (3926, np.float64(0.021670519818718422)), (3906, np.float64(0.02166961742975805)), (4245, np.float64(0.021628498498022362)), (1084, np.float64(0.021609595418137468)), (61, np.float64(0.021595041348129913)), (1364, np.float64(0.021566376663915938)), (3653, np.float64(0.02154574757205539)), (1768, np.float64(0.02147218920031277)), (1040, np.float64(0.021471828346427017)), (2144, np.float64(0.021419270534276287)), (2732, np.float64(0.021364687520501198)), (600, np.float64(0.021347231133520873)), (1578, np.float64(0.021304140243597933)), (846, np.float64(0.021274081577392696)), (1077, np.float64(0.021267008387670972)), (1621, np.float64(0.021098979189036707)), (3188, np.float64(0.02099056077232453)), (1979, np.float64(0.020917240776694393)), (473, np.float64(0.020913180680906505)), (3517, np.float64(0.020891031052896823)), (169, np.float64(0.020856767395356603)), (1953, np.float64(0.0207739742341394)), (3722, np.float64(0.02075482746000686)), (4178, np.float64(0.020718829048746584)), (2460, np.float64(0.020696564642833874)), (742, np.float64(0.020669179450286505)), (26, np.float64(0.020658504977379664)), (1741, np.float64(0.020624464081932855)), (3839, np.float64(0.020599397401941756)), (149, np.float64(0.020524330444344898)), (292, np.float64(0.020466809305674606)), (4609, np.float64(0.020413961012657775)), (1625, np.float64(0.020380231032955134)), (2117, np.float64(0.020377271313601748)), (279, np.float64(0.020377090163266137)), (3392, np.float64(0.020270951491087125)), (1112, np.float64(0.020255682040631683)), (628, np.float64(0.020245633537660332)), (3696, np.float64(0.020217802133592706)), (2685, np.float64(0.020173650195442483)), (689, np.float64(0.02015223026151371)), (1762, np.float64(0.020150181642161508)), (1532, np.float64(0.020127313239894046)), (3104, np.float64(0.020077503661144813)), (4327, np.float64(0.020071717103191597)), (935, np.float64(0.020067882142175503)), (662, np.float64(0.02006511243568723)), (4703, np.float64(0.019971569095726775)), (1935, np.float64(0.01995921399568816)), (1447, np.float64(0.01992642016612886)), (1561, np.float64(0.01985576053574405)), (1877, np.float64(0.01983912746973866)), (1231, np.float64(0.01983157415356846)), (202, np.float64(0.0197689822609533)), (4210, np.float64(0.019760840904240188)), (185, np.float64(0.019706319448874122)), (3350, np.float64(0.01948174784306581)), (1421, np.float64(0.019470558361282923)), (4530, np.float64(0.019435230476854255)), (1004, np.float64(0.01940345127314336)), (312, np.float64(0.019373212955427176)), (1076, np.float64(0.019307822995946914)), (852, np.float64(0.019302128478523233)), (1373, np.float64(0.019296279913226126)), (1529, np.float64(0.019290818892348637)), (334, np.float64(0.019239107340920294)), (2958, np.float64(0.019210333260578978)), (2615, np.float64(0.019185041496093378)), (2143, np.float64(0.01914907012639433)), (1663, np.float64(0.019123757621438885)), (1667, np.float64(0.019122462278790588)), (2980, np.float64(0.019117791785148632)), (286, np.float64(0.019102641340357503)), (2109, np.float64(0.019093903899992406)), (524, np.float64(0.01901027049725352)), (170, np.float64(0.01889300433029101)), (2528, np.float64(0.018853092340813647)), (585, np.float64(0.01880667939008425)), (607, np.float64(0.01880377885149951)), (1132, np.float64(0.01874688127367292)), (3376, np.float64(0.018694893488955977)), (369, np.float64(0.01868393775745303)), (58, np.float64(0.018673312934845424)), (4104, np.float64(0.01862847393101708)), (4582, np.float64(0.018552209979907273)), (2245, np.float64(0.01854243304766979)), (465, np.float64(0.01854001350954487)), (1073, np.float64(0.018517308656743194)), (457, np.float64(0.018501710062832355)), (324, np.float64(0.018497726945159738)), (1009, np.float64(0.01847082992472928)), (3430, np.float64(0.01844594675660152)), (154, np.float64(0.01844108738782356)), (2192, np.float64(0.018416798768871426)), (1973, np.float64(0.018401572466679422)), (3098, np.float64(0.01836968756947768)), (1482, np.float64(0.01835334480285213)), (1912, np.float64(0.01833145192889173)), (454, np.float64(0.018304387529438162)), (755, np.float64(0.018298312314210297)), (1202, np.float64(0.01829343803830552)), (2327, np.float64(0.01824414536923824)), (1759, np.float64(0.018216321264082767)), (4479, np.float64(0.018166089931853077)), (549, np.float64(0.018151209439898126)), (1406, np.float64(0.018126990359128525)), (3111, np.float64(0.018117236330271163)), (4647, np.float64(0.017865120599717274)), (1464, np.float64(0.017703774954997583)), (3861, np.float64(0.017678938779141617)), (317, np.float64(0.017613886235571054)), (2789, np.float64(0.017488842919266664)), (1365, np.float64(0.017412379854411707)), (1062, np.float64(0.017366844078265137)), (4174, np.float64(0.017313709825014328)), (978, np.float64(0.017260040751218723)), (4106, np.float64(0.017249977931713605)), (3863, np.float64(0.01718450278478612)), (309, np.float64(0.01717772892409604)), (4358, np.float64(0.017157732126449665)), (843, np.float64(0.017079828595672888)), (4186, np.float64(0.016996936741348823)), (4558, np.float64(0.016991384245350086)), (441, np.float64(0.016938309536794253)), (1352, np.float64(0.01687164472210001)), (4411, np.float64(0.016822736507756793)), (611, np.float64(0.01674500033933883)), (3238, np.float64(0.016680931483922124)), (1492, np.float64(0.016656065502543265)), (1646, np.float64(0.01646459328272264)), (831, np.float64(0.016405247159022904)), (175, np.float64(0.016369032254546757)), (271, np.float64(0.016333632202395185)), (3835, np.float64(0.016321159895045376)), (2211, np.float64(0.01624787164415482)), (1845, np.float64(0.01615389278681933)), (2352, np.float64(0.016061426207363397)), (351, np.float64(0.01598493619338544)), (641, np.float64(0.015754790639330423)), (2441, np.float64(0.015619523143389928)), (2398, np.float64(0.01535525118830751)), (3626, np.float64(0.014812855185028066)), (1963, np.float64(0.014782361190887189)), (1774, np.float64(0.014680627042244761)), (0, np.float64(0.0)), (1, np.float64(0.0)), (3, np.float64(0.0)), (4, np.float64(0.0)), (5, np.float64(0.0)), (6, np.float64(0.0)), (7, np.float64(0.0)), (8, np.float64(0.0)), (9, np.float64(0.0)), (10, np.float64(0.0)), (11, np.float64(0.0)), (12, np.float64(0.0)), (13, np.float64(0.0)), (15, np.float64(0.0)), (16, np.float64(0.0)), (17, np.float64(0.0)), (18, np.float64(0.0)), (19, np.float64(0.0)), (20, np.float64(0.0)), (21, np.float64(0.0)), (23, np.float64(0.0)), (24, np.float64(0.0)), (25, np.float64(0.0)), (27, np.float64(0.0)), (28, np.float64(0.0)), (29, np.float64(0.0)), (30, np.float64(0.0)), (31, np.float64(0.0)), (32, np.float64(0.0)), (33, np.float64(0.0)), (34, np.float64(0.0)), (35, np.float64(0.0)), (36, np.float64(0.0)), (37, np.float64(0.0)), (38, np.float64(0.0)), (39, np.float64(0.0)), (40, np.float64(0.0)), (41, np.float64(0.0)), (42, np.float64(0.0)), (43, np.float64(0.0)), (44, np.float64(0.0)), (45, np.float64(0.0)), (46, np.float64(0.0)), (47, np.float64(0.0)), (48, np.float64(0.0)), (49, np.float64(0.0)), (50, np.float64(0.0)), (51, np.float64(0.0)), (52, np.float64(0.0)), (54, np.float64(0.0)), (55, np.float64(0.0)), (56, np.float64(0.0)), (57, np.float64(0.0)), (59, np.float64(0.0)), (60, np.float64(0.0)), (62, np.float64(0.0)), (63, np.float64(0.0)), (64, np.float64(0.0)), (65, np.float64(0.0)), (66, np.float64(0.0)), (67, np.float64(0.0)), (68, np.float64(0.0)), (69, np.float64(0.0)), (70, np.float64(0.0)), (71, np.float64(0.0)), (72, np.float64(0.0)), (73, np.float64(0.0)), (74, np.float64(0.0)), (75, np.float64(0.0)), (76, np.float64(0.0)), (77, np.float64(0.0)), (78, np.float64(0.0)), (80, np.float64(0.0)), (81, np.float64(0.0)), (82, np.float64(0.0)), (83, np.float64(0.0)), (84, np.float64(0.0)), (85, np.float64(0.0)), (86, np.float64(0.0)), (87, np.float64(0.0)), (88, np.float64(0.0)), (89, np.float64(0.0)), (90, np.float64(0.0)), (91, np.float64(0.0)), (92, np.float64(0.0)), (93, np.float64(0.0)), (94, np.float64(0.0)), (95, np.float64(0.0)), (96, np.float64(0.0)), (97, np.float64(0.0)), (98, np.float64(0.0)), (99, np.float64(0.0)), (100, np.float64(0.0)), (101, np.float64(0.0)), (102, np.float64(0.0)), (103, np.float64(0.0)), (104, np.float64(0.0)), (105, np.float64(0.0)), (107, np.float64(0.0)), (108, np.float64(0.0)), (110, np.float64(0.0)), (111, np.float64(0.0)), (112, np.float64(0.0)), (113, np.float64(0.0)), (114, np.float64(0.0)), (115, np.float64(0.0)), (116, np.float64(0.0)), (117, np.float64(0.0)), (118, np.float64(0.0)), (119, np.float64(0.0)), (120, np.float64(0.0)), (121, np.float64(0.0)), (122, np.float64(0.0)), (123, np.float64(0.0)), (124, np.float64(0.0)), (125, np.float64(0.0)), (126, np.float64(0.0)), (127, np.float64(0.0)), (128, np.float64(0.0)), (129, np.float64(0.0)), (131, np.float64(0.0)), (132, np.float64(0.0)), (134, np.float64(0.0)), (135, np.float64(0.0)), (136, np.float64(0.0)), (137, np.float64(0.0)), (138, np.float64(0.0)), (139, np.float64(0.0)), (141, np.float64(0.0)), (142, np.float64(0.0)), (143, np.float64(0.0)), (145, np.float64(0.0)), (147, np.float64(0.0)), (148, np.float64(0.0)), (150, np.float64(0.0)), (151, np.float64(0.0)), (152, np.float64(0.0)), (153, np.float64(0.0)), (155, np.float64(0.0)), (156, np.float64(0.0)), (157, np.float64(0.0)), (158, np.float64(0.0)), (159, np.float64(0.0)), (160, np.float64(0.0)), (161, np.float64(0.0)), (162, np.float64(0.0)), (163, np.float64(0.0)), (166, np.float64(0.0)), (168, np.float64(0.0)), (171, np.float64(0.0)), (172, np.float64(0.0)), (174, np.float64(0.0)), (177, np.float64(0.0)), (178, np.float64(0.0)), (180, np.float64(0.0)), (181, np.float64(0.0)), (183, np.float64(0.0)), (184, np.float64(0.0)), (186, np.float64(0.0)), (187, np.float64(0.0)), (189, np.float64(0.0)), (190, np.float64(0.0)), (191, np.float64(0.0)), (192, np.float64(0.0)), (193, np.float64(0.0)), (194, np.float64(0.0)), (195, np.float64(0.0)), (196, np.float64(0.0)), (197, np.float64(0.0)), (199, np.float64(0.0)), (200, np.float64(0.0)), (203, np.float64(0.0)), (204, np.float64(0.0)), (205, np.float64(0.0)), (206, np.float64(0.0)), (207, np.float64(0.0)), (209, np.float64(0.0)), (210, np.float64(0.0)), (211, np.float64(0.0)), (212, np.float64(0.0)), (213, np.float64(0.0)), (214, np.float64(0.0)), (215, np.float64(0.0)), (216, np.float64(0.0)), (217, np.float64(0.0)), (218, np.float64(0.0)), (219, np.float64(0.0)), (220, np.float64(0.0)), (221, np.float64(0.0)), (222, np.float64(0.0)), (223, np.float64(0.0)), (224, np.float64(0.0)), (225, np.float64(0.0)), (226, np.float64(0.0)), (227, np.float64(0.0)), (228, np.float64(0.0)), (229, np.float64(0.0)), (231, np.float64(0.0)), (232, np.float64(0.0)), (233, np.float64(0.0)), (234, np.float64(0.0)), (235, np.float64(0.0)), (236, np.float64(0.0)), (237, np.float64(0.0)), (238, np.float64(0.0)), (240, np.float64(0.0)), (241, np.float64(0.0)), (242, np.float64(0.0)), (243, np.float64(0.0)), (244, np.float64(0.0)), (245, np.float64(0.0)), (246, np.float64(0.0)), (248, np.float64(0.0)), (249, np.float64(0.0)), (250, np.float64(0.0)), (251, np.float64(0.0)), (252, np.float64(0.0)), (253, np.float64(0.0)), (255, np.float64(0.0)), (256, np.float64(0.0)), (257, np.float64(0.0)), (258, np.float64(0.0)), (259, np.float64(0.0)), (260, np.float64(0.0)), (261, np.float64(0.0)), (262, np.float64(0.0)), (263, np.float64(0.0)), (264, np.float64(0.0)), (265, np.float64(0.0)), (266, np.float64(0.0)), (267, np.float64(0.0)), (268, np.float64(0.0)), (269, np.float64(0.0)), (270, np.float64(0.0)), (272, np.float64(0.0)), (273, np.float64(0.0)), (274, np.float64(0.0)), (275, np.float64(0.0)), (276, np.float64(0.0)), (277, np.float64(0.0)), (278, np.float64(0.0)), (280, np.float64(0.0)), (281, np.float64(0.0)), (282, np.float64(0.0)), (283, np.float64(0.0)), (284, np.float64(0.0)), (285, np.float64(0.0)), (287, np.float64(0.0)), (288, np.float64(0.0)), (289, np.float64(0.0)), (290, np.float64(0.0)), (291, np.float64(0.0)), (294, np.float64(0.0)), (295, np.float64(0.0)), (296, np.float64(0.0)), (297, np.float64(0.0)), (298, np.float64(0.0)), (299, np.float64(0.0)), (300, np.float64(0.0)), (301, np.float64(0.0)), (302, np.float64(0.0)), (303, np.float64(0.0)), (304, np.float64(0.0)), (305, np.float64(0.0)), (306, np.float64(0.0)), (307, np.float64(0.0)), (308, np.float64(0.0)), (310, np.float64(0.0)), (311, np.float64(0.0)), (313, np.float64(0.0)), (314, np.float64(0.0)), (315, np.float64(0.0)), (316, np.float64(0.0)), (318, np.float64(0.0)), (319, np.float64(0.0)), (320, np.float64(0.0)), (321, np.float64(0.0)), (322, np.float64(0.0)), (323, np.float64(0.0)), (325, np.float64(0.0)), (326, np.float64(0.0)), (327, np.float64(0.0)), (328, np.float64(0.0)), (329, np.float64(0.0)), (330, np.float64(0.0)), (331, np.float64(0.0)), (332, np.float64(0.0)), (333, np.float64(0.0)), (335, np.float64(0.0)), (336, np.float64(0.0)), (337, np.float64(0.0)), (338, np.float64(0.0)), (339, np.float64(0.0)), (340, np.float64(0.0)), (341, np.float64(0.0)), (342, np.float64(0.0)), (343, np.float64(0.0)), (344, np.float64(0.0)), (345, np.float64(0.0)), (348, np.float64(0.0)), (349, np.float64(0.0)), (350, np.float64(0.0)), (352, np.float64(0.0)), (353, np.float64(0.0)), (354, np.float64(0.0)), (355, np.float64(0.0)), (356, np.float64(0.0)), (357, np.float64(0.0)), (358, np.float64(0.0)), (359, np.float64(0.0)), (360, np.float64(0.0)), (363, np.float64(0.0)), (364, np.float64(0.0)), (365, np.float64(0.0)), (366, np.float64(0.0)), (367, np.float64(0.0)), (368, np.float64(0.0)), (370, np.float64(0.0)), (371, np.float64(0.0)), (372, np.float64(0.0)), (373, np.float64(0.0)), (374, np.float64(0.0)), (375, np.float64(0.0)), (376, np.float64(0.0)), (377, np.float64(0.0)), (378, np.float64(0.0)), (379, np.float64(0.0)), (380, np.float64(0.0)), (381, np.float64(0.0)), (382, np.float64(0.0)), (383, np.float64(0.0)), (384, np.float64(0.0)), (385, np.float64(0.0)), (386, np.float64(0.0)), (387, np.float64(0.0)), (388, np.float64(0.0)), (389, np.float64(0.0)), (390, np.float64(0.0)), (391, np.float64(0.0)), (392, np.float64(0.0)), (393, np.float64(0.0)), (394, np.float64(0.0)), (396, np.float64(0.0)), (397, np.float64(0.0)), (398, np.float64(0.0)), (399, np.float64(0.0)), (400, np.float64(0.0)), (401, np.float64(0.0)), (402, np.float64(0.0)), (403, np.float64(0.0)), (404, np.float64(0.0)), (405, np.float64(0.0)), (406, np.float64(0.0)), (407, np.float64(0.0)), (408, np.float64(0.0)), (409, np.float64(0.0)), (410, np.float64(0.0)), (411, np.float64(0.0)), (412, np.float64(0.0)), (413, np.float64(0.0)), (414, np.float64(0.0)), (415, np.float64(0.0)), (416, np.float64(0.0)), (417, np.float64(0.0)), (418, np.float64(0.0)), (419, np.float64(0.0)), (420, np.float64(0.0)), (422, np.float64(0.0)), (423, np.float64(0.0)), (424, np.float64(0.0)), (425, np.float64(0.0)), (426, np.float64(0.0)), (427, np.float64(0.0)), (428, np.float64(0.0)), (429, np.float64(0.0)), (430, np.float64(0.0)), (431, np.float64(0.0)), (432, np.float64(0.0)), (433, np.float64(0.0)), (434, np.float64(0.0)), (435, np.float64(0.0)), (436, np.float64(0.0)), (438, np.float64(0.0)), (439, np.float64(0.0)), (440, np.float64(0.0)), (442, np.float64(0.0)), (443, np.float64(0.0)), (444, np.float64(0.0)), (445, np.float64(0.0)), (447, np.float64(0.0)), (448, np.float64(0.0)), (449, np.float64(0.0)), (450, np.float64(0.0)), (452, np.float64(0.0)), (453, np.float64(0.0)), (455, np.float64(0.0)), (456, np.float64(0.0)), (458, np.float64(0.0)), (459, np.float64(0.0)), (460, np.float64(0.0)), (462, np.float64(0.0)), (463, np.float64(0.0)), (464, np.float64(0.0)), (466, np.float64(0.0)), (467, np.float64(0.0)), (468, np.float64(0.0)), (469, np.float64(0.0)), (470, np.float64(0.0)), (471, np.float64(0.0)), (472, np.float64(0.0)), (474, np.float64(0.0)), (475, np.float64(0.0)), (476, np.float64(0.0)), (477, np.float64(0.0)), (478, np.float64(0.0)), (479, np.float64(0.0)), (480, np.float64(0.0)), (481, np.float64(0.0)), (482, np.float64(0.0)), (483, np.float64(0.0)), (484, np.float64(0.0)), (485, np.float64(0.0)), (486, np.float64(0.0)), (487, np.float64(0.0)), (490, np.float64(0.0)), (491, np.float64(0.0)), (492, np.float64(0.0)), (493, np.float64(0.0)), (494, np.float64(0.0)), (495, np.float64(0.0)), (496, np.float64(0.0)), (497, np.float64(0.0)), (498, np.float64(0.0)), (499, np.float64(0.0)), (500, np.float64(0.0)), (502, np.float64(0.0)), (503, np.float64(0.0)), (504, np.float64(0.0)), (505, np.float64(0.0)), (506, np.float64(0.0)), (507, np.float64(0.0)), (508, np.float64(0.0)), (509, np.float64(0.0)), (510, np.float64(0.0)), (511, np.float64(0.0)), (512, np.float64(0.0)), (513, np.float64(0.0)), (514, np.float64(0.0)), (515, np.float64(0.0)), (516, np.float64(0.0)), (517, np.float64(0.0)), (518, np.float64(0.0)), (519, np.float64(0.0)), (520, np.float64(0.0)), (521, np.float64(0.0)), (522, np.float64(0.0)), (523, np.float64(0.0)), (525, np.float64(0.0)), (526, np.float64(0.0)), (527, np.float64(0.0)), (528, np.float64(0.0)), (529, np.float64(0.0)), (530, np.float64(0.0)), (531, np.float64(0.0)), (532, np.float64(0.0)), (533, np.float64(0.0)), (534, np.float64(0.0)), (535, np.float64(0.0)), (536, np.float64(0.0)), (537, np.float64(0.0)), (538, np.float64(0.0)), (539, np.float64(0.0)), (540, np.float64(0.0)), (541, np.float64(0.0)), (542, np.float64(0.0)), (543, np.float64(0.0)), (544, np.float64(0.0)), (545, np.float64(0.0)), (546, np.float64(0.0)), (547, np.float64(0.0)), (550, np.float64(0.0)), (551, np.float64(0.0)), (552, np.float64(0.0)), (553, np.float64(0.0)), (554, np.float64(0.0)), (555, np.float64(0.0)), (556, np.float64(0.0)), (557, np.float64(0.0)), (558, np.float64(0.0)), (559, np.float64(0.0)), (560, np.float64(0.0)), (561, np.float64(0.0)), (562, np.float64(0.0)), (563, np.float64(0.0)), (564, np.float64(0.0)), (565, np.float64(0.0)), (567, np.float64(0.0)), (568, np.float64(0.0)), (570, np.float64(0.0)), (571, np.float64(0.0)), (572, np.float64(0.0)), (573, np.float64(0.0)), (574, np.float64(0.0)), (575, np.float64(0.0)), (576, np.float64(0.0)), (577, np.float64(0.0)), (579, np.float64(0.0)), (580, np.float64(0.0)), (581, np.float64(0.0)), (582, np.float64(0.0)), (583, np.float64(0.0)), (586, np.float64(0.0)), (587, np.float64(0.0)), (588, np.float64(0.0)), (589, np.float64(0.0)), (590, np.float64(0.0)), (591, np.float64(0.0)), (592, np.float64(0.0)), (593, np.float64(0.0)), (594, np.float64(0.0)), (595, np.float64(0.0)), (596, np.float64(0.0)), (597, np.float64(0.0)), (598, np.float64(0.0)), (599, np.float64(0.0)), (601, np.float64(0.0)), (602, np.float64(0.0)), (603, np.float64(0.0)), (604, np.float64(0.0)), (605, np.float64(0.0)), (606, np.float64(0.0)), (608, np.float64(0.0)), (609, np.float64(0.0)), (610, np.float64(0.0)), (612, np.float64(0.0)), (613, np.float64(0.0)), (614, np.float64(0.0)), (616, np.float64(0.0)), (617, np.float64(0.0)), (618, np.float64(0.0)), (619, np.float64(0.0)), (621, np.float64(0.0)), (622, np.float64(0.0)), (623, np.float64(0.0)), (624, np.float64(0.0)), (625, np.float64(0.0)), (626, np.float64(0.0)), (627, np.float64(0.0)), (630, np.float64(0.0)), (631, np.float64(0.0)), (632, np.float64(0.0)), (633, np.float64(0.0)), (634, np.float64(0.0)), (635, np.float64(0.0)), (636, np.float64(0.0)), (637, np.float64(0.0)), (638, np.float64(0.0)), (639, np.float64(0.0)), (642, np.float64(0.0)), (644, np.float64(0.0)), (645, np.float64(0.0)), (647, np.float64(0.0)), (648, np.float64(0.0)), (649, np.float64(0.0)), (650, np.float64(0.0)), (652, np.float64(0.0)), (653, np.float64(0.0)), (654, np.float64(0.0)), (655, np.float64(0.0)), (656, np.float64(0.0)), (657, np.float64(0.0)), (658, np.float64(0.0)), (659, np.float64(0.0)), (660, np.float64(0.0)), (661, np.float64(0.0)), (663, np.float64(0.0)), (664, np.float64(0.0)), (666, np.float64(0.0)), (667, np.float64(0.0)), (668, np.float64(0.0)), (669, np.float64(0.0)), (670, np.float64(0.0)), (671, np.float64(0.0)), (672, np.float64(0.0)), (673, np.float64(0.0)), (674, np.float64(0.0)), (675, np.float64(0.0)), (676, np.float64(0.0)), (677, np.float64(0.0)), (678, np.float64(0.0)), (679, np.float64(0.0)), (680, np.float64(0.0)), (681, np.float64(0.0)), (682, np.float64(0.0)), (683, np.float64(0.0)), (684, np.float64(0.0)), (685, np.float64(0.0)), (686, np.float64(0.0)), (687, np.float64(0.0)), (688, np.float64(0.0)), (690, np.float64(0.0)), (692, np.float64(0.0)), (694, np.float64(0.0)), (696, np.float64(0.0)), (697, np.float64(0.0)), (698, np.float64(0.0)), (699, np.float64(0.0)), (700, np.float64(0.0)), (701, np.float64(0.0)), (702, np.float64(0.0)), (703, np.float64(0.0)), (704, np.float64(0.0)), (707, np.float64(0.0)), (708, np.float64(0.0)), (709, np.float64(0.0)), (710, np.float64(0.0)), (711, np.float64(0.0)), (712, np.float64(0.0)), (713, np.float64(0.0)), (714, np.float64(0.0)), (715, np.float64(0.0)), (716, np.float64(0.0)), (717, np.float64(0.0)), (718, np.float64(0.0)), (719, np.float64(0.0)), (720, np.float64(0.0)), (721, np.float64(0.0)), (722, np.float64(0.0)), (723, np.float64(0.0)), (725, np.float64(0.0)), (726, np.float64(0.0)), (727, np.float64(0.0)), (728, np.float64(0.0)), (729, np.float64(0.0)), (731, np.float64(0.0)), (732, np.float64(0.0)), (733, np.float64(0.0)), (734, np.float64(0.0)), (735, np.float64(0.0)), (736, np.float64(0.0)), (737, np.float64(0.0)), (738, np.float64(0.0)), (739, np.float64(0.0)), (740, np.float64(0.0)), (741, np.float64(0.0)), (743, np.float64(0.0)), (744, np.float64(0.0)), (745, np.float64(0.0)), (746, np.float64(0.0)), (747, np.float64(0.0)), (748, np.float64(0.0)), (749, np.float64(0.0)), (750, np.float64(0.0)), (751, np.float64(0.0)), (753, np.float64(0.0)), (754, np.float64(0.0)), (757, np.float64(0.0)), (758, np.float64(0.0)), (759, np.float64(0.0)), (760, np.float64(0.0)), (761, np.float64(0.0)), (762, np.float64(0.0)), (763, np.float64(0.0)), (764, np.float64(0.0)), (765, np.float64(0.0)), (766, np.float64(0.0)), (767, np.float64(0.0)), (768, np.float64(0.0)), (770, np.float64(0.0)), (771, np.float64(0.0)), (772, np.float64(0.0)), (773, np.float64(0.0)), (774, np.float64(0.0)), (775, np.float64(0.0)), (776, np.float64(0.0)), (777, np.float64(0.0)), (778, np.float64(0.0)), (779, np.float64(0.0)), (780, np.float64(0.0)), (781, np.float64(0.0)), (782, np.float64(0.0)), (783, np.float64(0.0)), (784, np.float64(0.0)), (785, np.float64(0.0)), (786, np.float64(0.0)), (788, np.float64(0.0)), (789, np.float64(0.0)), (790, np.float64(0.0)), (791, np.float64(0.0)), (792, np.float64(0.0)), (793, np.float64(0.0)), (795, np.float64(0.0)), (796, np.float64(0.0)), (797, np.float64(0.0)), (798, np.float64(0.0)), (799, np.float64(0.0)), (800, np.float64(0.0)), (801, np.float64(0.0)), (802, np.float64(0.0)), (803, np.float64(0.0)), (804, np.float64(0.0)), (805, np.float64(0.0)), (807, np.float64(0.0)), (808, np.float64(0.0)), (809, np.float64(0.0)), (810, np.float64(0.0)), (811, np.float64(0.0)), (812, np.float64(0.0)), (813, np.float64(0.0)), (814, np.float64(0.0)), (815, np.float64(0.0)), (816, np.float64(0.0)), (818, np.float64(0.0)), (819, np.float64(0.0)), (820, np.float64(0.0)), (821, np.float64(0.0)), (822, np.float64(0.0)), (823, np.float64(0.0)), (824, np.float64(0.0)), (825, np.float64(0.0)), (826, np.float64(0.0)), (827, np.float64(0.0)), (828, np.float64(0.0)), (829, np.float64(0.0)), (830, np.float64(0.0)), (832, np.float64(0.0)), (833, np.float64(0.0)), (834, np.float64(0.0)), (835, np.float64(0.0)), (836, np.float64(0.0)), (837, np.float64(0.0)), (838, np.float64(0.0)), (840, np.float64(0.0)), (841, np.float64(0.0)), (842, np.float64(0.0)), (844, np.float64(0.0)), (845, np.float64(0.0)), (848, np.float64(0.0)), (851, np.float64(0.0)), (853, np.float64(0.0)), (855, np.float64(0.0)), (856, np.float64(0.0)), (857, np.float64(0.0)), (858, np.float64(0.0)), (859, np.float64(0.0)), (860, np.float64(0.0)), (861, np.float64(0.0)), (863, np.float64(0.0)), (864, np.float64(0.0)), (865, np.float64(0.0)), (866, np.float64(0.0)), (867, np.float64(0.0)), (868, np.float64(0.0)), (869, np.float64(0.0)), (870, np.float64(0.0)), (871, np.float64(0.0)), (873, np.float64(0.0)), (874, np.float64(0.0)), (875, np.float64(0.0)), (876, np.float64(0.0)), (877, np.float64(0.0)), (878, np.float64(0.0)), (879, np.float64(0.0)), (880, np.float64(0.0)), (881, np.float64(0.0)), (882, np.float64(0.0)), (883, np.float64(0.0)), (884, np.float64(0.0)), (885, np.float64(0.0)), (886, np.float64(0.0)), (888, np.float64(0.0)), (889, np.float64(0.0)), (890, np.float64(0.0)), (891, np.float64(0.0)), (892, np.float64(0.0)), (893, np.float64(0.0)), (894, np.float64(0.0)), (895, np.float64(0.0)), (896, np.float64(0.0)), (897, np.float64(0.0)), (898, np.float64(0.0)), (902, np.float64(0.0)), (903, np.float64(0.0)), (904, np.float64(0.0)), (905, np.float64(0.0)), (906, np.float64(0.0)), (907, np.float64(0.0)), (908, np.float64(0.0)), (909, np.float64(0.0)), (910, np.float64(0.0)), (912, np.float64(0.0)), (913, np.float64(0.0)), (914, np.float64(0.0)), (916, np.float64(0.0)), (917, np.float64(0.0)), (918, np.float64(0.0)), (919, np.float64(0.0)), (920, np.float64(0.0)), (921, np.float64(0.0)), (922, np.float64(0.0)), (923, np.float64(0.0)), (924, np.float64(0.0)), (925, np.float64(0.0)), (926, np.float64(0.0)), (927, np.float64(0.0)), (928, np.float64(0.0)), (929, np.float64(0.0)), (930, np.float64(0.0)), (931, np.float64(0.0)), (933, np.float64(0.0)), (934, np.float64(0.0)), (936, np.float64(0.0)), (937, np.float64(0.0)), (938, np.float64(0.0)), (939, np.float64(0.0)), (940, np.float64(0.0)), (941, np.float64(0.0)), (942, np.float64(0.0)), (943, np.float64(0.0)), (944, np.float64(0.0)), (945, np.float64(0.0)), (946, np.float64(0.0)), (947, np.float64(0.0)), (948, np.float64(0.0)), (949, np.float64(0.0)), (950, np.float64(0.0)), (951, np.float64(0.0)), (952, np.float64(0.0)), (953, np.float64(0.0)), (954, np.float64(0.0)), (955, np.float64(0.0)), (956, np.float64(0.0)), (957, np.float64(0.0)), (958, np.float64(0.0)), (959, np.float64(0.0)), (960, np.float64(0.0)), (961, np.float64(0.0)), (962, np.float64(0.0)), (963, np.float64(0.0)), (964, np.float64(0.0)), (965, np.float64(0.0)), (966, np.float64(0.0)), (967, np.float64(0.0)), (968, np.float64(0.0)), (969, np.float64(0.0)), (970, np.float64(0.0)), (972, np.float64(0.0)), (973, np.float64(0.0)), (974, np.float64(0.0)), (975, np.float64(0.0)), (976, np.float64(0.0)), (977, np.float64(0.0)), (979, np.float64(0.0)), (980, np.float64(0.0)), (981, np.float64(0.0)), (982, np.float64(0.0)), (983, np.float64(0.0)), (984, np.float64(0.0)), (985, np.float64(0.0)), (986, np.float64(0.0)), (987, np.float64(0.0)), (990, np.float64(0.0)), (991, np.float64(0.0)), (992, np.float64(0.0)), (993, np.float64(0.0)), (994, np.float64(0.0)), (995, np.float64(0.0)), (996, np.float64(0.0)), (997, np.float64(0.0)), (999, np.float64(0.0)), (1000, np.float64(0.0)), (1001, np.float64(0.0)), (1002, np.float64(0.0)), (1003, np.float64(0.0)), (1005, np.float64(0.0)), (1007, np.float64(0.0)), (1008, np.float64(0.0)), (1010, np.float64(0.0)), (1011, np.float64(0.0)), (1012, np.float64(0.0)), (1013, np.float64(0.0)), (1014, np.float64(0.0)), (1015, np.float64(0.0)), (1016, np.float64(0.0)), (1017, np.float64(0.0)), (1018, np.float64(0.0)), (1019, np.float64(0.0)), (1020, np.float64(0.0)), (1022, np.float64(0.0)), (1023, np.float64(0.0)), (1024, np.float64(0.0)), (1025, np.float64(0.0)), (1026, np.float64(0.0)), (1027, np.float64(0.0)), (1028, np.float64(0.0)), (1029, np.float64(0.0)), (1030, np.float64(0.0)), (1031, np.float64(0.0)), (1032, np.float64(0.0)), (1033, np.float64(0.0)), (1034, np.float64(0.0)), (1035, np.float64(0.0)), (1036, np.float64(0.0)), (1037, np.float64(0.0)), (1039, np.float64(0.0)), (1042, np.float64(0.0)), (1043, np.float64(0.0)), (1044, np.float64(0.0)), (1045, np.float64(0.0)), (1047, np.float64(0.0)), (1048, np.float64(0.0)), (1051, np.float64(0.0)), (1052, np.float64(0.0)), (1053, np.float64(0.0)), (1054, np.float64(0.0)), (1055, np.float64(0.0)), (1056, np.float64(0.0)), (1057, np.float64(0.0)), (1058, np.float64(0.0)), (1059, np.float64(0.0)), (1060, np.float64(0.0)), (1061, np.float64(0.0)), (1063, np.float64(0.0)), (1064, np.float64(0.0)), (1065, np.float64(0.0)), (1066, np.float64(0.0)), (1068, np.float64(0.0)), (1069, np.float64(0.0)), (1070, np.float64(0.0)), (1071, np.float64(0.0)), (1074, np.float64(0.0)), (1075, np.float64(0.0)), (1078, np.float64(0.0)), (1080, np.float64(0.0)), (1081, np.float64(0.0)), (1082, np.float64(0.0)), (1083, np.float64(0.0)), (1085, np.float64(0.0)), (1086, np.float64(0.0)), (1087, np.float64(0.0)), (1089, np.float64(0.0)), (1090, np.float64(0.0)), (1091, np.float64(0.0)), (1092, np.float64(0.0)), (1093, np.float64(0.0)), (1094, np.float64(0.0)), (1095, np.float64(0.0)), (1096, np.float64(0.0)), (1097, np.float64(0.0)), (1098, np.float64(0.0)), (1099, np.float64(0.0)), (1100, np.float64(0.0)), (1101, np.float64(0.0)), (1102, np.float64(0.0)), (1105, np.float64(0.0)), (1106, np.float64(0.0)), (1108, np.float64(0.0)), (1109, np.float64(0.0)), (1110, np.float64(0.0)), (1111, np.float64(0.0)), (1113, np.float64(0.0)), (1114, np.float64(0.0)), (1115, np.float64(0.0)), (1116, np.float64(0.0)), (1117, np.float64(0.0)), (1118, np.float64(0.0)), (1119, np.float64(0.0)), (1120, np.float64(0.0)), (1121, np.float64(0.0)), (1122, np.float64(0.0)), (1123, np.float64(0.0)), (1124, np.float64(0.0)), (1125, np.float64(0.0)), (1126, np.float64(0.0)), (1127, np.float64(0.0)), (1128, np.float64(0.0)), (1129, np.float64(0.0)), (1130, np.float64(0.0)), (1131, np.float64(0.0)), (1133, np.float64(0.0)), (1134, np.float64(0.0)), (1135, np.float64(0.0)), (1136, np.float64(0.0)), (1137, np.float64(0.0)), (1138, np.float64(0.0)), (1139, np.float64(0.0)), (1140, np.float64(0.0)), (1141, np.float64(0.0)), (1142, np.float64(0.0)), (1143, np.float64(0.0)), (1144, np.float64(0.0)), (1145, np.float64(0.0)), (1146, np.float64(0.0)), (1147, np.float64(0.0)), (1148, np.float64(0.0)), (1149, np.float64(0.0)), (1150, np.float64(0.0)), (1151, np.float64(0.0)), (1152, np.float64(0.0)), (1153, np.float64(0.0)), (1154, np.float64(0.0)), (1155, np.float64(0.0)), (1156, np.float64(0.0)), (1157, np.float64(0.0)), (1158, np.float64(0.0)), (1159, np.float64(0.0)), (1160, np.float64(0.0)), (1161, np.float64(0.0)), (1163, np.float64(0.0)), (1164, np.float64(0.0)), (1165, np.float64(0.0)), (1166, np.float64(0.0)), (1167, np.float64(0.0)), (1168, np.float64(0.0)), (1169, np.float64(0.0)), (1170, np.float64(0.0)), (1171, np.float64(0.0)), (1172, np.float64(0.0)), (1173, np.float64(0.0)), (1174, np.float64(0.0)), (1175, np.float64(0.0)), (1177, np.float64(0.0)), (1178, np.float64(0.0)), (1179, np.float64(0.0)), (1181, np.float64(0.0)), (1183, np.float64(0.0)), (1184, np.float64(0.0)), (1185, np.float64(0.0)), (1186, np.float64(0.0)), (1187, np.float64(0.0)), (1188, np.float64(0.0)), (1189, np.float64(0.0)), (1190, np.float64(0.0)), (1191, np.float64(0.0)), (1192, np.float64(0.0)), (1193, np.float64(0.0)), (1194, np.float64(0.0)), (1196, np.float64(0.0)), (1197, np.float64(0.0)), (1198, np.float64(0.0)), (1199, np.float64(0.0)), (1200, np.float64(0.0)), (1201, np.float64(0.0)), (1203, np.float64(0.0)), (1204, np.float64(0.0)), (1205, np.float64(0.0)), (1206, np.float64(0.0)), (1207, np.float64(0.0)), (1208, np.float64(0.0)), (1209, np.float64(0.0)), (1210, np.float64(0.0)), (1211, np.float64(0.0)), (1213, np.float64(0.0)), (1214, np.float64(0.0)), (1215, np.float64(0.0)), (1216, np.float64(0.0)), (1217, np.float64(0.0)), (1218, np.float64(0.0)), (1219, np.float64(0.0)), (1220, np.float64(0.0)), (1221, np.float64(0.0)), (1222, np.float64(0.0)), (1224, np.float64(0.0)), (1225, np.float64(0.0)), (1226, np.float64(0.0)), (1227, np.float64(0.0)), (1228, np.float64(0.0)), (1229, np.float64(0.0)), (1230, np.float64(0.0)), (1232, np.float64(0.0)), (1233, np.float64(0.0)), (1234, np.float64(0.0)), (1235, np.float64(0.0)), (1236, np.float64(0.0)), (1237, np.float64(0.0)), (1238, np.float64(0.0)), (1239, np.float64(0.0)), (1240, np.float64(0.0)), (1241, np.float64(0.0)), (1242, np.float64(0.0)), (1243, np.float64(0.0)), (1244, np.float64(0.0)), (1245, np.float64(0.0)), (1246, np.float64(0.0)), (1247, np.float64(0.0)), (1248, np.float64(0.0)), (1249, np.float64(0.0)), (1250, np.float64(0.0)), (1251, np.float64(0.0)), (1252, np.float64(0.0)), (1253, np.float64(0.0)), (1254, np.float64(0.0)), (1256, np.float64(0.0)), (1257, np.float64(0.0)), (1258, np.float64(0.0)), (1259, np.float64(0.0)), (1260, np.float64(0.0)), (1261, np.float64(0.0)), (1262, np.float64(0.0)), (1263, np.float64(0.0)), (1264, np.float64(0.0)), (1265, np.float64(0.0)), (1266, np.float64(0.0)), (1267, np.float64(0.0)), (1268, np.float64(0.0)), (1269, np.float64(0.0)), (1270, np.float64(0.0)), (1271, np.float64(0.0)), (1272, np.float64(0.0)), (1273, np.float64(0.0)), (1274, np.float64(0.0)), (1275, np.float64(0.0)), (1277, np.float64(0.0)), (1278, np.float64(0.0)), (1279, np.float64(0.0)), (1280, np.float64(0.0)), (1281, np.float64(0.0)), (1282, np.float64(0.0)), (1283, np.float64(0.0)), (1285, np.float64(0.0)), (1286, np.float64(0.0)), (1287, np.float64(0.0)), (1288, np.float64(0.0)), (1289, np.float64(0.0)), (1290, np.float64(0.0)), (1291, np.float64(0.0)), (1293, np.float64(0.0)), (1294, np.float64(0.0)), (1295, np.float64(0.0)), (1296, np.float64(0.0)), (1297, np.float64(0.0)), (1298, np.float64(0.0)), (1299, np.float64(0.0)), (1300, np.float64(0.0)), (1301, np.float64(0.0)), (1302, np.float64(0.0)), (1303, np.float64(0.0)), (1304, np.float64(0.0)), (1305, np.float64(0.0)), (1306, np.float64(0.0)), (1307, np.float64(0.0)), (1308, np.float64(0.0)), (1309, np.float64(0.0)), (1310, np.float64(0.0)), (1311, np.float64(0.0)), (1312, np.float64(0.0)), (1313, np.float64(0.0)), (1314, np.float64(0.0)), (1316, np.float64(0.0)), (1317, np.float64(0.0)), (1318, np.float64(0.0)), (1320, np.float64(0.0)), (1321, np.float64(0.0)), (1322, np.float64(0.0)), (1323, np.float64(0.0)), (1324, np.float64(0.0)), (1325, np.float64(0.0)), (1326, np.float64(0.0)), (1328, np.float64(0.0)), (1329, np.float64(0.0)), (1330, np.float64(0.0)), (1331, np.float64(0.0)), (1332, np.float64(0.0)), (1333, np.float64(0.0)), (1334, np.float64(0.0)), (1335, np.float64(0.0)), (1336, np.float64(0.0)), (1337, np.float64(0.0)), (1338, np.float64(0.0)), (1339, np.float64(0.0)), (1340, np.float64(0.0)), (1341, np.float64(0.0)), (1342, np.float64(0.0)), (1343, np.float64(0.0)), (1344, np.float64(0.0)), (1345, np.float64(0.0)), (1346, np.float64(0.0)), (1347, np.float64(0.0)), (1348, np.float64(0.0)), (1349, np.float64(0.0)), (1350, np.float64(0.0)), (1351, np.float64(0.0)), (1353, np.float64(0.0)), (1354, np.float64(0.0)), (1355, np.float64(0.0)), (1356, np.float64(0.0)), (1357, np.float64(0.0)), (1358, np.float64(0.0)), (1359, np.float64(0.0)), (1360, np.float64(0.0)), (1361, np.float64(0.0)), (1362, np.float64(0.0)), (1363, np.float64(0.0)), (1366, np.float64(0.0)), (1367, np.float64(0.0)), (1368, np.float64(0.0)), (1369, np.float64(0.0)), (1370, np.float64(0.0)), (1371, np.float64(0.0)), (1372, np.float64(0.0)), (1374, np.float64(0.0)), (1375, np.float64(0.0)), (1377, np.float64(0.0)), (1378, np.float64(0.0)), (1379, np.float64(0.0)), (1380, np.float64(0.0)), (1381, np.float64(0.0)), (1382, np.float64(0.0)), (1384, np.float64(0.0)), (1385, np.float64(0.0)), (1386, np.float64(0.0)), (1387, np.float64(0.0)), (1388, np.float64(0.0)), (1390, np.float64(0.0)), (1391, np.float64(0.0)), (1392, np.float64(0.0)), (1393, np.float64(0.0)), (1394, np.float64(0.0)), (1395, np.float64(0.0)), (1396, np.float64(0.0)), (1397, np.float64(0.0)), (1398, np.float64(0.0)), (1399, np.float64(0.0)), (1400, np.float64(0.0)), (1401, np.float64(0.0)), (1402, np.float64(0.0)), (1403, np.float64(0.0)), (1404, np.float64(0.0)), (1407, np.float64(0.0)), (1408, np.float64(0.0)), (1410, np.float64(0.0)), (1411, np.float64(0.0)), (1412, np.float64(0.0)), (1413, np.float64(0.0)), (1414, np.float64(0.0)), (1415, np.float64(0.0)), (1416, np.float64(0.0)), (1417, np.float64(0.0)), (1418, np.float64(0.0)), (1419, np.float64(0.0)), (1420, np.float64(0.0)), (1422, np.float64(0.0)), (1423, np.float64(0.0)), (1424, np.float64(0.0)), (1425, np.float64(0.0)), (1426, np.float64(0.0)), (1427, np.float64(0.0)), (1428, np.float64(0.0)), (1429, np.float64(0.0)), (1430, np.float64(0.0)), (1431, np.float64(0.0)), (1432, np.float64(0.0)), (1434, np.float64(0.0)), (1435, np.float64(0.0)), (1436, np.float64(0.0)), (1437, np.float64(0.0)), (1438, np.float64(0.0)), (1439, np.float64(0.0)), (1440, np.float64(0.0)), (1441, np.float64(0.0)), (1442, np.float64(0.0)), (1443, np.float64(0.0)), (1444, np.float64(0.0)), (1445, np.float64(0.0)), (1446, np.float64(0.0)), (1448, np.float64(0.0)), (1449, np.float64(0.0)), (1450, np.float64(0.0)), (1451, np.float64(0.0)), (1452, np.float64(0.0)), (1453, np.float64(0.0)), (1454, np.float64(0.0)), (1455, np.float64(0.0)), (1456, np.float64(0.0)), (1457, np.float64(0.0)), (1458, np.float64(0.0)), (1460, np.float64(0.0)), (1462, np.float64(0.0)), (1463, np.float64(0.0)), (1465, np.float64(0.0)), (1466, np.float64(0.0)), (1467, np.float64(0.0)), (1468, np.float64(0.0)), (1469, np.float64(0.0)), (1470, np.float64(0.0)), (1471, np.float64(0.0)), (1472, np.float64(0.0)), (1474, np.float64(0.0)), (1475, np.float64(0.0)), (1476, np.float64(0.0)), (1478, np.float64(0.0)), (1479, np.float64(0.0)), (1480, np.float64(0.0)), (1483, np.float64(0.0)), (1485, np.float64(0.0)), (1486, np.float64(0.0)), (1487, np.float64(0.0)), (1488, np.float64(0.0)), (1489, np.float64(0.0)), (1490, np.float64(0.0)), (1491, np.float64(0.0)), (1493, np.float64(0.0)), (1494, np.float64(0.0)), (1495, np.float64(0.0)), (1496, np.float64(0.0)), (1497, np.float64(0.0)), (1498, np.float64(0.0)), (1499, np.float64(0.0)), (1500, np.float64(0.0)), (1501, np.float64(0.0)), (1502, np.float64(0.0)), (1503, np.float64(0.0)), (1504, np.float64(0.0)), (1505, np.float64(0.0)), (1506, np.float64(0.0)), (1507, np.float64(0.0)), (1508, np.float64(0.0)), (1509, np.float64(0.0)), (1510, np.float64(0.0)), (1511, np.float64(0.0)), (1512, np.float64(0.0)), (1513, np.float64(0.0)), (1514, np.float64(0.0)), (1515, np.float64(0.0)), (1516, np.float64(0.0)), (1517, np.float64(0.0)), (1518, np.float64(0.0)), (1519, np.float64(0.0)), (1520, np.float64(0.0)), (1521, np.float64(0.0)), (1522, np.float64(0.0)), (1525, np.float64(0.0)), (1526, np.float64(0.0)), (1527, np.float64(0.0)), (1528, np.float64(0.0)), (1530, np.float64(0.0)), (1531, np.float64(0.0)), (1533, np.float64(0.0)), (1534, np.float64(0.0)), (1535, np.float64(0.0)), (1536, np.float64(0.0)), (1537, np.float64(0.0)), (1539, np.float64(0.0)), (1540, np.float64(0.0)), (1541, np.float64(0.0)), (1542, np.float64(0.0)), (1543, np.float64(0.0)), (1544, np.float64(0.0)), (1545, np.float64(0.0)), (1546, np.float64(0.0)), (1547, np.float64(0.0)), (1548, np.float64(0.0)), (1549, np.float64(0.0)), (1550, np.float64(0.0)), (1551, np.float64(0.0)), (1553, np.float64(0.0)), (1554, np.float64(0.0)), (1556, np.float64(0.0)), (1558, np.float64(0.0)), (1559, np.float64(0.0)), (1560, np.float64(0.0)), (1562, np.float64(0.0)), (1563, np.float64(0.0)), (1565, np.float64(0.0)), (1566, np.float64(0.0)), (1567, np.float64(0.0)), (1568, np.float64(0.0)), (1569, np.float64(0.0)), (1570, np.float64(0.0)), (1571, np.float64(0.0)), (1572, np.float64(0.0)), (1573, np.float64(0.0)), (1574, np.float64(0.0)), (1575, np.float64(0.0)), (1576, np.float64(0.0)), (1577, np.float64(0.0)), (1579, np.float64(0.0)), (1580, np.float64(0.0)), (1581, np.float64(0.0)), (1582, np.float64(0.0)), (1583, np.float64(0.0)), (1585, np.float64(0.0)), (1586, np.float64(0.0)), (1587, np.float64(0.0)), (1588, np.float64(0.0)), (1589, np.float64(0.0)), (1590, np.float64(0.0)), (1591, np.float64(0.0)), (1592, np.float64(0.0)), (1593, np.float64(0.0)), (1595, np.float64(0.0)), (1596, np.float64(0.0)), (1597, np.float64(0.0)), (1598, np.float64(0.0)), (1599, np.float64(0.0)), (1600, np.float64(0.0)), (1601, np.float64(0.0)), (1602, np.float64(0.0)), (1603, np.float64(0.0)), (1604, np.float64(0.0)), (1605, np.float64(0.0)), (1606, np.float64(0.0)), (1607, np.float64(0.0)), (1608, np.float64(0.0)), (1609, np.float64(0.0)), (1610, np.float64(0.0)), (1611, np.float64(0.0)), (1612, np.float64(0.0)), (1613, np.float64(0.0)), (1614, np.float64(0.0)), (1615, np.float64(0.0)), (1616, np.float64(0.0)), (1617, np.float64(0.0)), (1618, np.float64(0.0)), (1619, np.float64(0.0)), (1620, np.float64(0.0)), (1622, np.float64(0.0)), (1623, np.float64(0.0)), (1624, np.float64(0.0)), (1626, np.float64(0.0)), (1627, np.float64(0.0)), (1628, np.float64(0.0)), (1630, np.float64(0.0)), (1631, np.float64(0.0)), (1632, np.float64(0.0)), (1633, np.float64(0.0)), (1635, np.float64(0.0)), (1636, np.float64(0.0)), (1637, np.float64(0.0)), (1638, np.float64(0.0)), (1639, np.float64(0.0)), (1640, np.float64(0.0)), (1641, np.float64(0.0)), (1642, np.float64(0.0)), (1644, np.float64(0.0)), (1645, np.float64(0.0)), (1648, np.float64(0.0)), (1649, np.float64(0.0)), (1650, np.float64(0.0)), (1651, np.float64(0.0)), (1652, np.float64(0.0)), (1653, np.float64(0.0)), (1654, np.float64(0.0)), (1655, np.float64(0.0)), (1656, np.float64(0.0)), (1657, np.float64(0.0)), (1658, np.float64(0.0)), (1659, np.float64(0.0)), (1660, np.float64(0.0)), (1661, np.float64(0.0)), (1662, np.float64(0.0)), (1664, np.float64(0.0)), (1665, np.float64(0.0)), (1666, np.float64(0.0)), (1668, np.float64(0.0)), (1669, np.float64(0.0)), (1670, np.float64(0.0)), (1671, np.float64(0.0)), (1672, np.float64(0.0)), (1674, np.float64(0.0)), (1675, np.float64(0.0)), (1676, np.float64(0.0)), (1677, np.float64(0.0)), (1678, np.float64(0.0)), (1679, np.float64(0.0)), (1680, np.float64(0.0)), (1681, np.float64(0.0)), (1682, np.float64(0.0)), (1683, np.float64(0.0)), (1684, np.float64(0.0)), (1685, np.float64(0.0)), (1686, np.float64(0.0)), (1687, np.float64(0.0)), (1688, np.float64(0.0)), (1689, np.float64(0.0)), (1690, np.float64(0.0)), (1691, np.float64(0.0)), (1692, np.float64(0.0)), (1693, np.float64(0.0)), (1694, np.float64(0.0)), (1695, np.float64(0.0)), (1696, np.float64(0.0)), (1697, np.float64(0.0)), (1698, np.float64(0.0)), (1699, np.float64(0.0)), (1700, np.float64(0.0)), (1701, np.float64(0.0)), (1702, np.float64(0.0)), (1703, np.float64(0.0)), (1704, np.float64(0.0)), (1705, np.float64(0.0)), (1706, np.float64(0.0)), (1707, np.float64(0.0)), (1708, np.float64(0.0)), (1709, np.float64(0.0)), (1710, np.float64(0.0)), (1711, np.float64(0.0)), (1713, np.float64(0.0)), (1716, np.float64(0.0)), (1717, np.float64(0.0)), (1718, np.float64(0.0)), (1719, np.float64(0.0)), (1720, np.float64(0.0)), (1721, np.float64(0.0)), (1722, np.float64(0.0)), (1723, np.float64(0.0)), (1724, np.float64(0.0)), (1725, np.float64(0.0)), (1727, np.float64(0.0)), (1728, np.float64(0.0)), (1729, np.float64(0.0)), (1730, np.float64(0.0)), (1731, np.float64(0.0)), (1732, np.float64(0.0)), (1733, np.float64(0.0)), (1734, np.float64(0.0)), (1735, np.float64(0.0)), (1736, np.float64(0.0)), (1738, np.float64(0.0)), (1739, np.float64(0.0)), (1740, np.float64(0.0)), (1742, np.float64(0.0)), (1743, np.float64(0.0)), (1744, np.float64(0.0)), (1745, np.float64(0.0)), (1746, np.float64(0.0)), (1747, np.float64(0.0)), (1748, np.float64(0.0)), (1749, np.float64(0.0)), (1750, np.float64(0.0)), (1751, np.float64(0.0)), (1752, np.float64(0.0)), (1753, np.float64(0.0)), (1754, np.float64(0.0)), (1755, np.float64(0.0)), (1756, np.float64(0.0)), (1757, np.float64(0.0)), (1760, np.float64(0.0)), (1761, np.float64(0.0)), (1763, np.float64(0.0)), (1765, np.float64(0.0)), (1766, np.float64(0.0)), (1767, np.float64(0.0)), (1769, np.float64(0.0)), (1770, np.float64(0.0)), (1772, np.float64(0.0)), (1773, np.float64(0.0)), (1775, np.float64(0.0)), (1776, np.float64(0.0)), (1777, np.float64(0.0)), (1779, np.float64(0.0)), (1780, np.float64(0.0)), (1781, np.float64(0.0)), (1782, np.float64(0.0)), (1783, np.float64(0.0)), (1784, np.float64(0.0)), (1785, np.float64(0.0)), (1786, np.float64(0.0)), (1787, np.float64(0.0)), (1788, np.float64(0.0)), (1789, np.float64(0.0)), (1790, np.float64(0.0)), (1791, np.float64(0.0)), (1792, np.float64(0.0)), (1793, np.float64(0.0)), (1794, np.float64(0.0)), (1795, np.float64(0.0)), (1796, np.float64(0.0)), (1797, np.float64(0.0)), (1798, np.float64(0.0)), (1799, np.float64(0.0)), (1800, np.float64(0.0)), (1801, np.float64(0.0)), (1802, np.float64(0.0)), (1803, np.float64(0.0)), (1804, np.float64(0.0)), (1805, np.float64(0.0)), (1806, np.float64(0.0)), (1807, np.float64(0.0)), (1808, np.float64(0.0)), (1809, np.float64(0.0)), (1811, np.float64(0.0)), (1813, np.float64(0.0)), (1814, np.float64(0.0)), (1815, np.float64(0.0)), (1816, np.float64(0.0)), (1817, np.float64(0.0)), (1818, np.float64(0.0)), (1819, np.float64(0.0)), (1820, np.float64(0.0)), (1821, np.float64(0.0)), (1822, np.float64(0.0)), (1823, np.float64(0.0)), (1824, np.float64(0.0)), (1825, np.float64(0.0)), (1826, np.float64(0.0)), (1827, np.float64(0.0)), (1828, np.float64(0.0)), (1829, np.float64(0.0)), (1830, np.float64(0.0)), (1831, np.float64(0.0)), (1832, np.float64(0.0)), (1834, np.float64(0.0)), (1835, np.float64(0.0)), (1836, np.float64(0.0)), (1837, np.float64(0.0)), (1838, np.float64(0.0)), (1839, np.float64(0.0)), (1840, np.float64(0.0)), (1841, np.float64(0.0)), (1842, np.float64(0.0)), (1844, np.float64(0.0)), (1847, np.float64(0.0)), (1848, np.float64(0.0)), (1849, np.float64(0.0)), (1850, np.float64(0.0)), (1851, np.float64(0.0)), (1852, np.float64(0.0)), (1853, np.float64(0.0)), (1854, np.float64(0.0)), (1855, np.float64(0.0)), (1856, np.float64(0.0)), (1857, np.float64(0.0)), (1858, np.float64(0.0)), (1859, np.float64(0.0)), (1862, np.float64(0.0)), (1863, np.float64(0.0)), (1865, np.float64(0.0)), (1866, np.float64(0.0)), (1867, np.float64(0.0)), (1868, np.float64(0.0)), (1869, np.float64(0.0)), (1870, np.float64(0.0)), (1871, np.float64(0.0)), (1872, np.float64(0.0)), (1873, np.float64(0.0)), (1874, np.float64(0.0)), (1875, np.float64(0.0)), (1876, np.float64(0.0)), (1878, np.float64(0.0)), (1879, np.float64(0.0)), (1880, np.float64(0.0)), (1881, np.float64(0.0)), (1882, np.float64(0.0)), (1883, np.float64(0.0)), (1884, np.float64(0.0)), (1885, np.float64(0.0)), (1887, np.float64(0.0)), (1888, np.float64(0.0)), (1889, np.float64(0.0)), (1890, np.float64(0.0)), (1891, np.float64(0.0)), (1892, np.float64(0.0)), (1893, np.float64(0.0)), (1894, np.float64(0.0)), (1895, np.float64(0.0)), (1896, np.float64(0.0)), (1897, np.float64(0.0)), (1898, np.float64(0.0)), (1899, np.float64(0.0)), (1900, np.float64(0.0)), (1901, np.float64(0.0)), (1903, np.float64(0.0)), (1904, np.float64(0.0)), (1905, np.float64(0.0)), (1906, np.float64(0.0)), (1907, np.float64(0.0)), (1908, np.float64(0.0)), (1909, np.float64(0.0)), (1910, np.float64(0.0)), (1911, np.float64(0.0)), (1913, np.float64(0.0)), (1914, np.float64(0.0)), (1915, np.float64(0.0)), (1916, np.float64(0.0)), (1917, np.float64(0.0)), (1918, np.float64(0.0)), (1919, np.float64(0.0)), (1921, np.float64(0.0)), (1922, np.float64(0.0)), (1923, np.float64(0.0)), (1924, np.float64(0.0)), (1925, np.float64(0.0)), (1928, np.float64(0.0)), (1929, np.float64(0.0)), (1930, np.float64(0.0)), (1931, np.float64(0.0)), (1932, np.float64(0.0)), (1933, np.float64(0.0)), (1934, np.float64(0.0)), (1936, np.float64(0.0)), (1937, np.float64(0.0)), (1938, np.float64(0.0)), (1939, np.float64(0.0)), (1940, np.float64(0.0)), (1941, np.float64(0.0)), (1942, np.float64(0.0)), (1943, np.float64(0.0)), (1944, np.float64(0.0)), (1945, np.float64(0.0)), (1946, np.float64(0.0)), (1947, np.float64(0.0)), (1948, np.float64(0.0)), (1949, np.float64(0.0)), (1952, np.float64(0.0)), (1955, np.float64(0.0)), (1956, np.float64(0.0)), (1957, np.float64(0.0)), (1960, np.float64(0.0)), (1961, np.float64(0.0)), (1962, np.float64(0.0)), (1965, np.float64(0.0)), (1966, np.float64(0.0)), (1967, np.float64(0.0)), (1968, np.float64(0.0)), (1969, np.float64(0.0)), (1970, np.float64(0.0)), (1971, np.float64(0.0)), (1975, np.float64(0.0)), (1976, np.float64(0.0)), (1977, np.float64(0.0)), (1978, np.float64(0.0)), (1980, np.float64(0.0)), (1981, np.float64(0.0)), (1982, np.float64(0.0)), (1983, np.float64(0.0)), (1984, np.float64(0.0)), (1985, np.float64(0.0)), (1986, np.float64(0.0)), (1987, np.float64(0.0)), (1988, np.float64(0.0)), (1989, np.float64(0.0)), (1990, np.float64(0.0)), (1991, np.float64(0.0)), (1992, np.float64(0.0)), (1993, np.float64(0.0)), (1994, np.float64(0.0)), (1995, np.float64(0.0)), (1996, np.float64(0.0)), (1997, np.float64(0.0)), (1998, np.float64(0.0)), (1999, np.float64(0.0)), (2000, np.float64(0.0)), (2001, np.float64(0.0)), (2002, np.float64(0.0)), (2003, np.float64(0.0)), (2004, np.float64(0.0)), (2005, np.float64(0.0)), (2006, np.float64(0.0)), (2007, np.float64(0.0)), (2008, np.float64(0.0)), (2010, np.float64(0.0)), (2011, np.float64(0.0)), (2012, np.float64(0.0)), (2013, np.float64(0.0)), (2014, np.float64(0.0)), (2015, np.float64(0.0)), (2016, np.float64(0.0)), (2017, np.float64(0.0)), (2018, np.float64(0.0)), (2019, np.float64(0.0)), (2020, np.float64(0.0)), (2021, np.float64(0.0)), (2022, np.float64(0.0)), (2023, np.float64(0.0)), (2024, np.float64(0.0)), (2025, np.float64(0.0)), (2026, np.float64(0.0)), (2027, np.float64(0.0)), (2028, np.float64(0.0)), (2029, np.float64(0.0)), (2030, np.float64(0.0)), (2031, np.float64(0.0)), (2032, np.float64(0.0)), (2033, np.float64(0.0)), (2034, np.float64(0.0)), (2035, np.float64(0.0)), (2036, np.float64(0.0)), (2037, np.float64(0.0)), (2038, np.float64(0.0)), (2039, np.float64(0.0)), (2042, np.float64(0.0)), (2043, np.float64(0.0)), (2044, np.float64(0.0)), (2045, np.float64(0.0)), (2046, np.float64(0.0)), (2047, np.float64(0.0)), (2048, np.float64(0.0)), (2049, np.float64(0.0)), (2050, np.float64(0.0)), (2051, np.float64(0.0)), (2052, np.float64(0.0)), (2053, np.float64(0.0)), (2054, np.float64(0.0)), (2055, np.float64(0.0)), (2056, np.float64(0.0)), (2057, np.float64(0.0)), (2058, np.float64(0.0)), (2059, np.float64(0.0)), (2060, np.float64(0.0)), (2061, np.float64(0.0)), (2062, np.float64(0.0)), (2063, np.float64(0.0)), (2064, np.float64(0.0)), (2065, np.float64(0.0)), (2066, np.float64(0.0)), (2067, np.float64(0.0)), (2068, np.float64(0.0)), (2069, np.float64(0.0)), (2070, np.float64(0.0)), (2071, np.float64(0.0)), (2072, np.float64(0.0)), (2073, np.float64(0.0)), (2074, np.float64(0.0)), (2075, np.float64(0.0)), (2076, np.float64(0.0)), (2077, np.float64(0.0)), (2078, np.float64(0.0)), (2079, np.float64(0.0)), (2080, np.float64(0.0)), (2081, np.float64(0.0)), (2082, np.float64(0.0)), (2083, np.float64(0.0)), (2084, np.float64(0.0)), (2085, np.float64(0.0)), (2086, np.float64(0.0)), (2087, np.float64(0.0)), (2088, np.float64(0.0)), (2089, np.float64(0.0)), (2090, np.float64(0.0)), (2092, np.float64(0.0)), (2093, np.float64(0.0)), (2094, np.float64(0.0)), (2095, np.float64(0.0)), (2096, np.float64(0.0)), (2097, np.float64(0.0)), (2099, np.float64(0.0)), (2100, np.float64(0.0)), (2101, np.float64(0.0)), (2102, np.float64(0.0)), (2103, np.float64(0.0)), (2104, np.float64(0.0)), (2105, np.float64(0.0)), (2106, np.float64(0.0)), (2107, np.float64(0.0)), (2108, np.float64(0.0)), (2110, np.float64(0.0)), (2112, np.float64(0.0)), (2114, np.float64(0.0)), (2115, np.float64(0.0)), (2118, np.float64(0.0)), (2119, np.float64(0.0)), (2120, np.float64(0.0)), (2122, np.float64(0.0)), (2123, np.float64(0.0)), (2124, np.float64(0.0)), (2125, np.float64(0.0)), (2126, np.float64(0.0)), (2127, np.float64(0.0)), (2128, np.float64(0.0)), (2129, np.float64(0.0)), (2130, np.float64(0.0)), (2131, np.float64(0.0)), (2132, np.float64(0.0)), (2133, np.float64(0.0)), (2134, np.float64(0.0)), (2136, np.float64(0.0)), (2137, np.float64(0.0)), (2139, np.float64(0.0)), (2140, np.float64(0.0)), (2141, np.float64(0.0)), (2142, np.float64(0.0)), (2145, np.float64(0.0)), (2146, np.float64(0.0)), (2147, np.float64(0.0)), (2148, np.float64(0.0)), (2149, np.float64(0.0)), (2150, np.float64(0.0)), (2151, np.float64(0.0)), (2152, np.float64(0.0)), (2153, np.float64(0.0)), (2154, np.float64(0.0)), (2155, np.float64(0.0)), (2156, np.float64(0.0)), (2158, np.float64(0.0)), (2159, np.float64(0.0)), (2160, np.float64(0.0)), (2161, np.float64(0.0)), (2162, np.float64(0.0)), (2163, np.float64(0.0)), (2164, np.float64(0.0)), (2165, np.float64(0.0)), (2166, np.float64(0.0)), (2167, np.float64(0.0)), (2168, np.float64(0.0)), (2169, np.float64(0.0)), (2170, np.float64(0.0)), (2171, np.float64(0.0)), (2172, np.float64(0.0)), (2173, np.float64(0.0)), (2174, np.float64(0.0)), (2175, np.float64(0.0)), (2176, np.float64(0.0)), (2177, np.float64(0.0)), (2178, np.float64(0.0)), (2179, np.float64(0.0)), (2180, np.float64(0.0)), (2181, np.float64(0.0)), (2182, np.float64(0.0)), (2183, np.float64(0.0)), (2184, np.float64(0.0)), (2185, np.float64(0.0)), (2186, np.float64(0.0)), (2187, np.float64(0.0)), (2188, np.float64(0.0)), (2189, np.float64(0.0)), (2191, np.float64(0.0)), (2193, np.float64(0.0)), (2194, np.float64(0.0)), (2195, np.float64(0.0)), (2196, np.float64(0.0)), (2197, np.float64(0.0)), (2198, np.float64(0.0)), (2199, np.float64(0.0)), (2200, np.float64(0.0)), (2202, np.float64(0.0)), (2203, np.float64(0.0)), (2204, np.float64(0.0)), (2205, np.float64(0.0)), (2206, np.float64(0.0)), (2207, np.float64(0.0)), (2208, np.float64(0.0)), (2209, np.float64(0.0)), (2210, np.float64(0.0)), (2212, np.float64(0.0)), (2213, np.float64(0.0)), (2214, np.float64(0.0)), (2215, np.float64(0.0)), (2216, np.float64(0.0)), (2217, np.float64(0.0)), (2218, np.float64(0.0)), (2219, np.float64(0.0)), (2220, np.float64(0.0)), (2221, np.float64(0.0)), (2222, np.float64(0.0)), (2223, np.float64(0.0)), (2224, np.float64(0.0)), (2225, np.float64(0.0)), (2226, np.float64(0.0)), (2227, np.float64(0.0)), (2228, np.float64(0.0)), (2229, np.float64(0.0)), (2230, np.float64(0.0)), (2231, np.float64(0.0)), (2232, np.float64(0.0)), (2233, np.float64(0.0)), (2235, np.float64(0.0)), (2236, np.float64(0.0)), (2237, np.float64(0.0)), (2238, np.float64(0.0)), (2239, np.float64(0.0)), (2240, np.float64(0.0)), (2241, np.float64(0.0)), (2242, np.float64(0.0)), (2243, np.float64(0.0)), (2244, np.float64(0.0)), (2246, np.float64(0.0)), (2247, np.float64(0.0)), (2248, np.float64(0.0)), (2249, np.float64(0.0)), (2251, np.float64(0.0)), (2252, np.float64(0.0)), (2253, np.float64(0.0)), (2254, np.float64(0.0)), (2255, np.float64(0.0)), (2256, np.float64(0.0)), (2257, np.float64(0.0)), (2258, np.float64(0.0)), (2259, np.float64(0.0)), (2260, np.float64(0.0)), (2261, np.float64(0.0)), (2262, np.float64(0.0)), (2263, np.float64(0.0)), (2265, np.float64(0.0)), (2266, np.float64(0.0)), (2267, np.float64(0.0)), (2268, np.float64(0.0)), (2269, np.float64(0.0)), (2270, np.float64(0.0)), (2271, np.float64(0.0)), (2272, np.float64(0.0)), (2273, np.float64(0.0)), (2274, np.float64(0.0)), (2275, np.float64(0.0)), (2276, np.float64(0.0)), (2277, np.float64(0.0)), (2278, np.float64(0.0)), (2279, np.float64(0.0)), (2280, np.float64(0.0)), (2281, np.float64(0.0)), (2282, np.float64(0.0)), (2283, np.float64(0.0)), (2285, np.float64(0.0)), (2286, np.float64(0.0)), (2287, np.float64(0.0)), (2288, np.float64(0.0)), (2289, np.float64(0.0)), (2290, np.float64(0.0)), (2291, np.float64(0.0)), (2293, np.float64(0.0)), (2294, np.float64(0.0)), (2295, np.float64(0.0)), (2296, np.float64(0.0)), (2297, np.float64(0.0)), (2298, np.float64(0.0)), (2299, np.float64(0.0)), (2300, np.float64(0.0)), (2301, np.float64(0.0)), (2302, np.float64(0.0)), (2303, np.float64(0.0)), (2304, np.float64(0.0)), (2305, np.float64(0.0)), (2306, np.float64(0.0)), (2307, np.float64(0.0)), (2308, np.float64(0.0)), (2309, np.float64(0.0)), (2310, np.float64(0.0)), (2311, np.float64(0.0)), (2312, np.float64(0.0)), (2313, np.float64(0.0)), (2314, np.float64(0.0)), (2315, np.float64(0.0)), (2317, np.float64(0.0)), (2318, np.float64(0.0)), (2319, np.float64(0.0)), (2320, np.float64(0.0)), (2321, np.float64(0.0)), (2322, np.float64(0.0)), (2323, np.float64(0.0)), (2324, np.float64(0.0)), (2325, np.float64(0.0)), (2326, np.float64(0.0)), (2328, np.float64(0.0)), (2329, np.float64(0.0)), (2330, np.float64(0.0)), (2331, np.float64(0.0)), (2332, np.float64(0.0)), (2333, np.float64(0.0)), (2334, np.float64(0.0)), (2336, np.float64(0.0)), (2337, np.float64(0.0)), (2338, np.float64(0.0)), (2339, np.float64(0.0)), (2341, np.float64(0.0)), (2342, np.float64(0.0)), (2343, np.float64(0.0)), (2344, np.float64(0.0)), (2345, np.float64(0.0)), (2346, np.float64(0.0)), (2347, np.float64(0.0)), (2348, np.float64(0.0)), (2349, np.float64(0.0)), (2350, np.float64(0.0)), (2351, np.float64(0.0)), (2353, np.float64(0.0)), (2354, np.float64(0.0)), (2355, np.float64(0.0)), (2356, np.float64(0.0)), (2357, np.float64(0.0)), (2358, np.float64(0.0)), (2359, np.float64(0.0)), (2360, np.float64(0.0)), (2361, np.float64(0.0)), (2362, np.float64(0.0)), (2363, np.float64(0.0)), (2364, np.float64(0.0)), (2365, np.float64(0.0)), (2366, np.float64(0.0)), (2367, np.float64(0.0)), (2368, np.float64(0.0)), (2369, np.float64(0.0)), (2371, np.float64(0.0)), (2373, np.float64(0.0)), (2374, np.float64(0.0)), (2375, np.float64(0.0)), (2376, np.float64(0.0)), (2377, np.float64(0.0)), (2378, np.float64(0.0)), (2379, np.float64(0.0)), (2380, np.float64(0.0)), (2381, np.float64(0.0)), (2382, np.float64(0.0)), (2383, np.float64(0.0)), (2384, np.float64(0.0)), (2385, np.float64(0.0)), (2386, np.float64(0.0)), (2387, np.float64(0.0)), (2388, np.float64(0.0)), (2389, np.float64(0.0)), (2391, np.float64(0.0)), (2392, np.float64(0.0)), (2394, np.float64(0.0)), (2395, np.float64(0.0)), (2396, np.float64(0.0)), (2397, np.float64(0.0)), (2399, np.float64(0.0)), (2400, np.float64(0.0)), (2401, np.float64(0.0)), (2403, np.float64(0.0)), (2404, np.float64(0.0)), (2407, np.float64(0.0)), (2408, np.float64(0.0)), (2409, np.float64(0.0)), (2410, np.float64(0.0)), (2411, np.float64(0.0)), (2412, np.float64(0.0)), (2413, np.float64(0.0)), (2414, np.float64(0.0)), (2415, np.float64(0.0)), (2416, np.float64(0.0)), (2417, np.float64(0.0)), (2418, np.float64(0.0)), (2419, np.float64(0.0)), (2420, np.float64(0.0)), (2421, np.float64(0.0)), (2422, np.float64(0.0)), (2423, np.float64(0.0)), (2424, np.float64(0.0)), (2425, np.float64(0.0)), (2426, np.float64(0.0)), (2427, np.float64(0.0)), (2428, np.float64(0.0)), (2429, np.float64(0.0)), (2430, np.float64(0.0)), (2431, np.float64(0.0)), (2432, np.float64(0.0)), (2434, np.float64(0.0)), (2435, np.float64(0.0)), (2436, np.float64(0.0)), (2437, np.float64(0.0)), (2438, np.float64(0.0)), (2439, np.float64(0.0)), (2440, np.float64(0.0)), (2442, np.float64(0.0)), (2443, np.float64(0.0)), (2444, np.float64(0.0)), (2445, np.float64(0.0)), (2446, np.float64(0.0)), (2447, np.float64(0.0)), (2448, np.float64(0.0)), (2449, np.float64(0.0)), (2451, np.float64(0.0)), (2452, np.float64(0.0)), (2453, np.float64(0.0)), (2454, np.float64(0.0)), (2455, np.float64(0.0)), (2456, np.float64(0.0)), (2457, np.float64(0.0)), (2458, np.float64(0.0)), (2459, np.float64(0.0)), (2461, np.float64(0.0)), (2462, np.float64(0.0)), (2463, np.float64(0.0)), (2464, np.float64(0.0)), (2465, np.float64(0.0)), (2466, np.float64(0.0)), (2467, np.float64(0.0)), (2468, np.float64(0.0)), (2469, np.float64(0.0)), (2470, np.float64(0.0)), (2471, np.float64(0.0)), (2472, np.float64(0.0)), (2474, np.float64(0.0)), (2475, np.float64(0.0)), (2476, np.float64(0.0)), (2477, np.float64(0.0)), (2478, np.float64(0.0)), (2479, np.float64(0.0)), (2480, np.float64(0.0)), (2481, np.float64(0.0)), (2482, np.float64(0.0)), (2483, np.float64(0.0)), (2484, np.float64(0.0)), (2485, np.float64(0.0)), (2486, np.float64(0.0)), (2487, np.float64(0.0)), (2488, np.float64(0.0)), (2489, np.float64(0.0)), (2490, np.float64(0.0)), (2491, np.float64(0.0)), (2492, np.float64(0.0)), (2493, np.float64(0.0)), (2494, np.float64(0.0)), (2495, np.float64(0.0)), (2496, np.float64(0.0)), (2497, np.float64(0.0)), (2498, np.float64(0.0)), (2499, np.float64(0.0)), (2500, np.float64(0.0)), (2501, np.float64(0.0)), (2502, np.float64(0.0)), (2503, np.float64(0.0)), (2504, np.float64(0.0)), (2505, np.float64(0.0)), (2506, np.float64(0.0)), (2507, np.float64(0.0)), (2508, np.float64(0.0)), (2509, np.float64(0.0)), (2511, np.float64(0.0)), (2512, np.float64(0.0)), (2513, np.float64(0.0)), (2514, np.float64(0.0)), (2515, np.float64(0.0)), (2516, np.float64(0.0)), (2517, np.float64(0.0)), (2518, np.float64(0.0)), (2519, np.float64(0.0)), (2520, np.float64(0.0)), (2521, np.float64(0.0)), (2522, np.float64(0.0)), (2523, np.float64(0.0)), (2524, np.float64(0.0)), (2525, np.float64(0.0)), (2526, np.float64(0.0)), (2527, np.float64(0.0)), (2529, np.float64(0.0)), (2530, np.float64(0.0)), (2531, np.float64(0.0)), (2532, np.float64(0.0)), (2533, np.float64(0.0)), (2534, np.float64(0.0)), (2535, np.float64(0.0)), (2536, np.float64(0.0)), (2537, np.float64(0.0)), (2538, np.float64(0.0)), (2539, np.float64(0.0)), (2540, np.float64(0.0)), (2542, np.float64(0.0)), (2543, np.float64(0.0)), (2545, np.float64(0.0)), (2546, np.float64(0.0)), (2547, np.float64(0.0)), (2548, np.float64(0.0)), (2549, np.float64(0.0)), (2550, np.float64(0.0)), (2551, np.float64(0.0)), (2552, np.float64(0.0)), (2554, np.float64(0.0)), (2555, np.float64(0.0)), (2556, np.float64(0.0)), (2557, np.float64(0.0)), (2558, np.float64(0.0)), (2559, np.float64(0.0)), (2560, np.float64(0.0)), (2561, np.float64(0.0)), (2562, np.float64(0.0)), (2563, np.float64(0.0)), (2564, np.float64(0.0)), (2565, np.float64(0.0)), (2566, np.float64(0.0)), (2567, np.float64(0.0)), (2569, np.float64(0.0)), (2570, np.float64(0.0)), (2571, np.float64(0.0)), (2572, np.float64(0.0)), (2573, np.float64(0.0)), (2574, np.float64(0.0)), (2575, np.float64(0.0)), (2576, np.float64(0.0)), (2577, np.float64(0.0)), (2578, np.float64(0.0)), (2580, np.float64(0.0)), (2581, np.float64(0.0)), (2582, np.float64(0.0)), (2583, np.float64(0.0)), (2584, np.float64(0.0)), (2585, np.float64(0.0)), (2586, np.float64(0.0)), (2587, np.float64(0.0)), (2588, np.float64(0.0)), (2590, np.float64(0.0)), (2592, np.float64(0.0)), (2593, np.float64(0.0)), (2594, np.float64(0.0)), (2595, np.float64(0.0)), (2596, np.float64(0.0)), (2597, np.float64(0.0)), (2598, np.float64(0.0)), (2599, np.float64(0.0)), (2600, np.float64(0.0)), (2601, np.float64(0.0)), (2602, np.float64(0.0)), (2603, np.float64(0.0)), (2604, np.float64(0.0)), (2605, np.float64(0.0)), (2606, np.float64(0.0)), (2607, np.float64(0.0)), (2608, np.float64(0.0)), (2609, np.float64(0.0)), (2610, np.float64(0.0)), (2612, np.float64(0.0)), (2613, np.float64(0.0)), (2614, np.float64(0.0)), (2616, np.float64(0.0)), (2617, np.float64(0.0)), (2618, np.float64(0.0)), (2619, np.float64(0.0)), (2620, np.float64(0.0)), (2621, np.float64(0.0)), (2622, np.float64(0.0)), (2623, np.float64(0.0)), (2624, np.float64(0.0)), (2625, np.float64(0.0)), (2626, np.float64(0.0)), (2627, np.float64(0.0)), (2628, np.float64(0.0)), (2629, np.float64(0.0)), (2630, np.float64(0.0)), (2631, np.float64(0.0)), (2632, np.float64(0.0)), (2633, np.float64(0.0)), (2635, np.float64(0.0)), (2636, np.float64(0.0)), (2637, np.float64(0.0)), (2638, np.float64(0.0)), (2639, np.float64(0.0)), (2640, np.float64(0.0)), (2641, np.float64(0.0)), (2642, np.float64(0.0)), (2643, np.float64(0.0)), (2644, np.float64(0.0)), (2645, np.float64(0.0)), (2646, np.float64(0.0)), (2647, np.float64(0.0)), (2648, np.float64(0.0)), (2649, np.float64(0.0)), (2650, np.float64(0.0)), (2651, np.float64(0.0)), (2652, np.float64(0.0)), (2655, np.float64(0.0)), (2656, np.float64(0.0)), (2657, np.float64(0.0)), (2658, np.float64(0.0)), (2659, np.float64(0.0)), (2660, np.float64(0.0)), (2662, np.float64(0.0)), (2664, np.float64(0.0)), (2665, np.float64(0.0)), (2666, np.float64(0.0)), (2667, np.float64(0.0)), (2668, np.float64(0.0)), (2669, np.float64(0.0)), (2670, np.float64(0.0)), (2671, np.float64(0.0)), (2672, np.float64(0.0)), (2673, np.float64(0.0)), (2674, np.float64(0.0)), (2675, np.float64(0.0)), (2676, np.float64(0.0)), (2677, np.float64(0.0)), (2678, np.float64(0.0)), (2679, np.float64(0.0)), (2680, np.float64(0.0)), (2681, np.float64(0.0)), (2682, np.float64(0.0)), (2684, np.float64(0.0)), (2686, np.float64(0.0)), (2687, np.float64(0.0)), (2688, np.float64(0.0)), (2689, np.float64(0.0)), (2690, np.float64(0.0)), (2691, np.float64(0.0)), (2692, np.float64(0.0)), (2693, np.float64(0.0)), (2694, np.float64(0.0)), (2695, np.float64(0.0)), (2696, np.float64(0.0)), (2697, np.float64(0.0)), (2698, np.float64(0.0)), (2699, np.float64(0.0)), (2700, np.float64(0.0)), (2701, np.float64(0.0)), (2702, np.float64(0.0)), (2703, np.float64(0.0)), (2705, np.float64(0.0)), (2706, np.float64(0.0)), (2707, np.float64(0.0)), (2708, np.float64(0.0)), (2709, np.float64(0.0)), (2710, np.float64(0.0)), (2711, np.float64(0.0)), (2712, np.float64(0.0)), (2713, np.float64(0.0)), (2714, np.float64(0.0)), (2715, np.float64(0.0)), (2716, np.float64(0.0)), (2717, np.float64(0.0)), (2718, np.float64(0.0)), (2719, np.float64(0.0)), (2720, np.float64(0.0)), (2721, np.float64(0.0)), (2722, np.float64(0.0)), (2724, np.float64(0.0)), (2725, np.float64(0.0)), (2726, np.float64(0.0)), (2727, np.float64(0.0)), (2728, np.float64(0.0)), (2729, np.float64(0.0)), (2730, np.float64(0.0)), (2731, np.float64(0.0)), (2735, np.float64(0.0)), (2736, np.float64(0.0)), (2737, np.float64(0.0)), (2738, np.float64(0.0)), (2739, np.float64(0.0)), (2740, np.float64(0.0)), (2742, np.float64(0.0)), (2743, np.float64(0.0)), (2744, np.float64(0.0)), (2745, np.float64(0.0)), (2746, np.float64(0.0)), (2747, np.float64(0.0)), (2748, np.float64(0.0)), (2749, np.float64(0.0)), (2750, np.float64(0.0)), (2751, np.float64(0.0)), (2753, np.float64(0.0)), (2754, np.float64(0.0)), (2755, np.float64(0.0)), (2756, np.float64(0.0)), (2757, np.float64(0.0)), (2758, np.float64(0.0)), (2759, np.float64(0.0)), (2760, np.float64(0.0)), (2761, np.float64(0.0)), (2762, np.float64(0.0)), (2763, np.float64(0.0)), (2764, np.float64(0.0)), (2765, np.float64(0.0)), (2766, np.float64(0.0)), (2767, np.float64(0.0)), (2768, np.float64(0.0)), (2769, np.float64(0.0)), (2770, np.float64(0.0)), (2771, np.float64(0.0)), (2772, np.float64(0.0)), (2773, np.float64(0.0)), (2774, np.float64(0.0)), (2775, np.float64(0.0)), (2776, np.float64(0.0)), (2777, np.float64(0.0)), (2778, np.float64(0.0)), (2779, np.float64(0.0)), (2780, np.float64(0.0)), (2781, np.float64(0.0)), (2783, np.float64(0.0)), (2784, np.float64(0.0)), (2785, np.float64(0.0)), (2786, np.float64(0.0)), (2787, np.float64(0.0)), (2788, np.float64(0.0)), (2790, np.float64(0.0)), (2791, np.float64(0.0)), (2792, np.float64(0.0)), (2793, np.float64(0.0)), (2794, np.float64(0.0)), (2795, np.float64(0.0)), (2796, np.float64(0.0)), (2797, np.float64(0.0)), (2798, np.float64(0.0)), (2799, np.float64(0.0)), (2800, np.float64(0.0)), (2801, np.float64(0.0)), (2802, np.float64(0.0)), (2803, np.float64(0.0)), (2804, np.float64(0.0)), (2805, np.float64(0.0)), (2806, np.float64(0.0)), (2807, np.float64(0.0)), (2808, np.float64(0.0)), (2810, np.float64(0.0)), (2811, np.float64(0.0)), (2812, np.float64(0.0)), (2813, np.float64(0.0)), (2814, np.float64(0.0)), (2815, np.float64(0.0)), (2816, np.float64(0.0)), (2817, np.float64(0.0)), (2818, np.float64(0.0)), (2819, np.float64(0.0)), (2820, np.float64(0.0)), (2821, np.float64(0.0)), (2822, np.float64(0.0)), (2823, np.float64(0.0)), (2824, np.float64(0.0)), (2825, np.float64(0.0)), (2826, np.float64(0.0)), (2827, np.float64(0.0)), (2828, np.float64(0.0)), (2829, np.float64(0.0)), (2830, np.float64(0.0)), (2831, np.float64(0.0)), (2832, np.float64(0.0)), (2833, np.float64(0.0)), (2834, np.float64(0.0)), (2835, np.float64(0.0)), (2836, np.float64(0.0)), (2837, np.float64(0.0)), (2838, np.float64(0.0)), (2839, np.float64(0.0)), (2840, np.float64(0.0)), (2841, np.float64(0.0)), (2842, np.float64(0.0)), (2843, np.float64(0.0)), (2844, np.float64(0.0)), (2845, np.float64(0.0)), (2846, np.float64(0.0)), (2847, np.float64(0.0)), (2848, np.float64(0.0)), (2849, np.float64(0.0)), (2850, np.float64(0.0)), (2851, np.float64(0.0)), (2852, np.float64(0.0)), (2853, np.float64(0.0)), (2854, np.float64(0.0)), (2855, np.float64(0.0)), (2856, np.float64(0.0)), (2857, np.float64(0.0)), (2858, np.float64(0.0)), (2859, np.float64(0.0)), (2860, np.float64(0.0)), (2861, np.float64(0.0)), (2862, np.float64(0.0)), (2863, np.float64(0.0)), (2865, np.float64(0.0)), (2866, np.float64(0.0)), (2867, np.float64(0.0)), (2868, np.float64(0.0)), (2869, np.float64(0.0)), (2870, np.float64(0.0)), (2871, np.float64(0.0)), (2872, np.float64(0.0)), (2873, np.float64(0.0)), (2874, np.float64(0.0)), (2875, np.float64(0.0)), (2876, np.float64(0.0)), (2877, np.float64(0.0)), (2878, np.float64(0.0)), (2879, np.float64(0.0)), (2880, np.float64(0.0)), (2881, np.float64(0.0)), (2882, np.float64(0.0)), (2883, np.float64(0.0)), (2884, np.float64(0.0)), (2885, np.float64(0.0)), (2886, np.float64(0.0)), (2887, np.float64(0.0)), (2888, np.float64(0.0)), (2889, np.float64(0.0)), (2890, np.float64(0.0)), (2891, np.float64(0.0)), (2892, np.float64(0.0)), (2893, np.float64(0.0)), (2894, np.float64(0.0)), (2895, np.float64(0.0)), (2896, np.float64(0.0)), (2898, np.float64(0.0)), (2899, np.float64(0.0)), (2900, np.float64(0.0)), (2901, np.float64(0.0)), (2902, np.float64(0.0)), (2903, np.float64(0.0)), (2904, np.float64(0.0)), (2905, np.float64(0.0)), (2906, np.float64(0.0)), (2907, np.float64(0.0)), (2908, np.float64(0.0)), (2909, np.float64(0.0)), (2910, np.float64(0.0)), (2911, np.float64(0.0)), (2912, np.float64(0.0)), (2913, np.float64(0.0)), (2914, np.float64(0.0)), (2916, np.float64(0.0)), (2917, np.float64(0.0)), (2918, np.float64(0.0)), (2919, np.float64(0.0)), (2920, np.float64(0.0)), (2922, np.float64(0.0)), (2923, np.float64(0.0)), (2924, np.float64(0.0)), (2925, np.float64(0.0)), (2926, np.float64(0.0)), (2927, np.float64(0.0)), (2928, np.float64(0.0)), (2929, np.float64(0.0)), (2930, np.float64(0.0)), (2931, np.float64(0.0)), (2932, np.float64(0.0)), (2933, np.float64(0.0)), (2934, np.float64(0.0)), (2935, np.float64(0.0)), (2936, np.float64(0.0)), (2937, np.float64(0.0)), (2939, np.float64(0.0)), (2940, np.float64(0.0)), (2941, np.float64(0.0)), (2942, np.float64(0.0)), (2943, np.float64(0.0)), (2944, np.float64(0.0)), (2945, np.float64(0.0)), (2946, np.float64(0.0)), (2947, np.float64(0.0)), (2948, np.float64(0.0)), (2949, np.float64(0.0)), (2950, np.float64(0.0)), (2951, np.float64(0.0)), (2952, np.float64(0.0)), (2953, np.float64(0.0)), (2954, np.float64(0.0)), (2955, np.float64(0.0)), (2956, np.float64(0.0)), (2957, np.float64(0.0)), (2959, np.float64(0.0)), (2960, np.float64(0.0)), (2961, np.float64(0.0)), (2962, np.float64(0.0)), (2963, np.float64(0.0)), (2965, np.float64(0.0)), (2966, np.float64(0.0)), (2967, np.float64(0.0)), (2968, np.float64(0.0)), (2969, np.float64(0.0)), (2970, np.float64(0.0)), (2971, np.float64(0.0)), (2972, np.float64(0.0)), (2973, np.float64(0.0)), (2974, np.float64(0.0)), (2975, np.float64(0.0)), (2976, np.float64(0.0)), (2977, np.float64(0.0)), (2978, np.float64(0.0)), (2979, np.float64(0.0)), (2981, np.float64(0.0)), (2982, np.float64(0.0)), (2983, np.float64(0.0)), (2984, np.float64(0.0)), (2985, np.float64(0.0)), (2986, np.float64(0.0)), (2987, np.float64(0.0)), (2988, np.float64(0.0)), (2989, np.float64(0.0)), (2990, np.float64(0.0)), (2991, np.float64(0.0)), (2992, np.float64(0.0)), (2993, np.float64(0.0)), (2994, np.float64(0.0)), (2995, np.float64(0.0)), (2996, np.float64(0.0)), (2997, np.float64(0.0)), (2998, np.float64(0.0)), (3000, np.float64(0.0)), (3001, np.float64(0.0)), (3002, np.float64(0.0)), (3003, np.float64(0.0)), (3004, np.float64(0.0)), (3005, np.float64(0.0)), (3006, np.float64(0.0)), (3007, np.float64(0.0)), (3008, np.float64(0.0)), (3009, np.float64(0.0)), (3010, np.float64(0.0)), (3011, np.float64(0.0)), (3012, np.float64(0.0)), (3013, np.float64(0.0)), (3014, np.float64(0.0)), (3015, np.float64(0.0)), (3016, np.float64(0.0)), (3017, np.float64(0.0)), (3018, np.float64(0.0)), (3019, np.float64(0.0)), (3020, np.float64(0.0)), (3021, np.float64(0.0)), (3022, np.float64(0.0)), (3023, np.float64(0.0)), (3024, np.float64(0.0)), (3025, np.float64(0.0)), (3026, np.float64(0.0)), (3028, np.float64(0.0)), (3029, np.float64(0.0)), (3030, np.float64(0.0)), (3031, np.float64(0.0)), (3032, np.float64(0.0)), (3033, np.float64(0.0)), (3035, np.float64(0.0)), (3036, np.float64(0.0)), (3037, np.float64(0.0)), (3038, np.float64(0.0)), (3039, np.float64(0.0)), (3040, np.float64(0.0)), (3041, np.float64(0.0)), (3042, np.float64(0.0)), (3043, np.float64(0.0)), (3044, np.float64(0.0)), (3045, np.float64(0.0)), (3046, np.float64(0.0)), (3047, np.float64(0.0)), (3048, np.float64(0.0)), (3049, np.float64(0.0)), (3050, np.float64(0.0)), (3051, np.float64(0.0)), (3052, np.float64(0.0)), (3053, np.float64(0.0)), (3054, np.float64(0.0)), (3055, np.float64(0.0)), (3056, np.float64(0.0)), (3058, np.float64(0.0)), (3059, np.float64(0.0)), (3060, np.float64(0.0)), (3061, np.float64(0.0)), (3062, np.float64(0.0)), (3063, np.float64(0.0)), (3064, np.float64(0.0)), (3066, np.float64(0.0)), (3067, np.float64(0.0)), (3068, np.float64(0.0)), (3069, np.float64(0.0)), (3070, np.float64(0.0)), (3071, np.float64(0.0)), (3072, np.float64(0.0)), (3073, np.float64(0.0)), (3075, np.float64(0.0)), (3076, np.float64(0.0)), (3077, np.float64(0.0)), (3078, np.float64(0.0)), (3079, np.float64(0.0)), (3080, np.float64(0.0)), (3081, np.float64(0.0)), (3082, np.float64(0.0)), (3083, np.float64(0.0)), (3084, np.float64(0.0)), (3085, np.float64(0.0)), (3086, np.float64(0.0)), (3087, np.float64(0.0)), (3088, np.float64(0.0)), (3089, np.float64(0.0)), (3090, np.float64(0.0)), (3091, np.float64(0.0)), (3092, np.float64(0.0)), (3093, np.float64(0.0)), (3095, np.float64(0.0)), (3096, np.float64(0.0)), (3097, np.float64(0.0)), (3099, np.float64(0.0)), (3100, np.float64(0.0)), (3101, np.float64(0.0)), (3102, np.float64(0.0)), (3105, np.float64(0.0)), (3106, np.float64(0.0)), (3107, np.float64(0.0)), (3108, np.float64(0.0)), (3109, np.float64(0.0)), (3110, np.float64(0.0)), (3112, np.float64(0.0)), (3113, np.float64(0.0)), (3114, np.float64(0.0)), (3115, np.float64(0.0)), (3116, np.float64(0.0)), (3117, np.float64(0.0)), (3118, np.float64(0.0)), (3119, np.float64(0.0)), (3120, np.float64(0.0)), (3121, np.float64(0.0)), (3122, np.float64(0.0)), (3123, np.float64(0.0)), (3124, np.float64(0.0)), (3125, np.float64(0.0)), (3126, np.float64(0.0)), (3127, np.float64(0.0)), (3128, np.float64(0.0)), (3129, np.float64(0.0)), (3130, np.float64(0.0)), (3131, np.float64(0.0)), (3132, np.float64(0.0)), (3133, np.float64(0.0)), (3134, np.float64(0.0)), (3135, np.float64(0.0)), (3136, np.float64(0.0)), (3137, np.float64(0.0)), (3138, np.float64(0.0)), (3139, np.float64(0.0)), (3140, np.float64(0.0)), (3141, np.float64(0.0)), (3142, np.float64(0.0)), (3143, np.float64(0.0)), (3145, np.float64(0.0)), (3146, np.float64(0.0)), (3147, np.float64(0.0)), (3149, np.float64(0.0)), (3150, np.float64(0.0)), (3151, np.float64(0.0)), (3152, np.float64(0.0)), (3153, np.float64(0.0)), (3154, np.float64(0.0)), (3155, np.float64(0.0)), (3156, np.float64(0.0)), (3157, np.float64(0.0)), (3158, np.float64(0.0)), (3159, np.float64(0.0)), (3160, np.float64(0.0)), (3161, np.float64(0.0)), (3162, np.float64(0.0)), (3163, np.float64(0.0)), (3164, np.float64(0.0)), (3165, np.float64(0.0)), (3166, np.float64(0.0)), (3167, np.float64(0.0)), (3168, np.float64(0.0)), (3169, np.float64(0.0)), (3170, np.float64(0.0)), (3171, np.float64(0.0)), (3172, np.float64(0.0)), (3174, np.float64(0.0)), (3175, np.float64(0.0)), (3176, np.float64(0.0)), (3177, np.float64(0.0)), (3178, np.float64(0.0)), (3179, np.float64(0.0)), (3180, np.float64(0.0)), (3182, np.float64(0.0)), (3183, np.float64(0.0)), (3184, np.float64(0.0)), (3185, np.float64(0.0)), (3186, np.float64(0.0)), (3187, np.float64(0.0)), (3189, np.float64(0.0)), (3190, np.float64(0.0)), (3191, np.float64(0.0)), (3192, np.float64(0.0)), (3193, np.float64(0.0)), (3194, np.float64(0.0)), (3195, np.float64(0.0)), (3196, np.float64(0.0)), (3197, np.float64(0.0)), (3198, np.float64(0.0)), (3200, np.float64(0.0)), (3202, np.float64(0.0)), (3203, np.float64(0.0)), (3204, np.float64(0.0)), (3205, np.float64(0.0)), (3206, np.float64(0.0)), (3207, np.float64(0.0)), (3208, np.float64(0.0)), (3209, np.float64(0.0)), (3210, np.float64(0.0)), (3211, np.float64(0.0)), (3213, np.float64(0.0)), (3214, np.float64(0.0)), (3215, np.float64(0.0)), (3217, np.float64(0.0)), (3219, np.float64(0.0)), (3220, np.float64(0.0)), (3221, np.float64(0.0)), (3222, np.float64(0.0)), (3223, np.float64(0.0)), (3224, np.float64(0.0)), (3227, np.float64(0.0)), (3228, np.float64(0.0)), (3230, np.float64(0.0)), (3231, np.float64(0.0)), (3232, np.float64(0.0)), (3233, np.float64(0.0)), (3234, np.float64(0.0)), (3235, np.float64(0.0)), (3236, np.float64(0.0)), (3237, np.float64(0.0)), (3239, np.float64(0.0)), (3240, np.float64(0.0)), (3241, np.float64(0.0)), (3242, np.float64(0.0)), (3244, np.float64(0.0)), (3245, np.float64(0.0)), (3246, np.float64(0.0)), (3247, np.float64(0.0)), (3248, np.float64(0.0)), (3249, np.float64(0.0)), (3250, np.float64(0.0)), (3251, np.float64(0.0)), (3252, np.float64(0.0)), (3253, np.float64(0.0)), (3254, np.float64(0.0)), (3255, np.float64(0.0)), (3258, np.float64(0.0)), (3259, np.float64(0.0)), (3261, np.float64(0.0)), (3262, np.float64(0.0)), (3263, np.float64(0.0)), (3264, np.float64(0.0)), (3265, np.float64(0.0)), (3266, np.float64(0.0)), (3267, np.float64(0.0)), (3268, np.float64(0.0)), (3269, np.float64(0.0)), (3270, np.float64(0.0)), (3271, np.float64(0.0)), (3272, np.float64(0.0)), (3273, np.float64(0.0)), (3274, np.float64(0.0)), (3275, np.float64(0.0)), (3276, np.float64(0.0)), (3277, np.float64(0.0)), (3278, np.float64(0.0)), (3279, np.float64(0.0)), (3280, np.float64(0.0)), (3281, np.float64(0.0)), (3282, np.float64(0.0)), (3283, np.float64(0.0)), (3284, np.float64(0.0)), (3285, np.float64(0.0)), (3286, np.float64(0.0)), (3287, np.float64(0.0)), (3289, np.float64(0.0)), (3290, np.float64(0.0)), (3291, np.float64(0.0)), (3292, np.float64(0.0)), (3293, np.float64(0.0)), (3294, np.float64(0.0)), (3295, np.float64(0.0)), (3296, np.float64(0.0)), (3297, np.float64(0.0)), (3298, np.float64(0.0)), (3299, np.float64(0.0)), (3300, np.float64(0.0)), (3301, np.float64(0.0)), (3302, np.float64(0.0)), (3303, np.float64(0.0)), (3304, np.float64(0.0)), (3305, np.float64(0.0)), (3306, np.float64(0.0)), (3307, np.float64(0.0)), (3308, np.float64(0.0)), (3309, np.float64(0.0)), (3310, np.float64(0.0)), (3311, np.float64(0.0)), (3312, np.float64(0.0)), (3314, np.float64(0.0)), (3315, np.float64(0.0)), (3316, np.float64(0.0)), (3317, np.float64(0.0)), (3318, np.float64(0.0)), (3319, np.float64(0.0)), (3320, np.float64(0.0)), (3321, np.float64(0.0)), (3322, np.float64(0.0)), (3323, np.float64(0.0)), (3324, np.float64(0.0)), (3325, np.float64(0.0)), (3326, np.float64(0.0)), (3327, np.float64(0.0)), (3328, np.float64(0.0)), (3329, np.float64(0.0)), (3330, np.float64(0.0)), (3331, np.float64(0.0)), (3332, np.float64(0.0)), (3333, np.float64(0.0)), (3334, np.float64(0.0)), (3335, np.float64(0.0)), (3336, np.float64(0.0)), (3337, np.float64(0.0)), (3338, np.float64(0.0)), (3339, np.float64(0.0)), (3340, np.float64(0.0)), (3341, np.float64(0.0)), (3342, np.float64(0.0)), (3343, np.float64(0.0)), (3344, np.float64(0.0)), (3345, np.float64(0.0)), (3347, np.float64(0.0)), (3348, np.float64(0.0)), (3349, np.float64(0.0)), (3351, np.float64(0.0)), (3352, np.float64(0.0)), (3353, np.float64(0.0)), (3354, np.float64(0.0)), (3355, np.float64(0.0)), (3356, np.float64(0.0)), (3357, np.float64(0.0)), (3358, np.float64(0.0)), (3359, np.float64(0.0)), (3360, np.float64(0.0)), (3361, np.float64(0.0)), (3362, np.float64(0.0)), (3363, np.float64(0.0)), (3364, np.float64(0.0)), (3365, np.float64(0.0)), (3366, np.float64(0.0)), (3367, np.float64(0.0)), (3368, np.float64(0.0)), (3369, np.float64(0.0)), (3370, np.float64(0.0)), (3371, np.float64(0.0)), (3372, np.float64(0.0)), (3373, np.float64(0.0)), (3374, np.float64(0.0)), (3375, np.float64(0.0)), (3377, np.float64(0.0)), (3378, np.float64(0.0)), (3380, np.float64(0.0)), (3381, np.float64(0.0)), (3382, np.float64(0.0)), (3383, np.float64(0.0)), (3384, np.float64(0.0)), (3385, np.float64(0.0)), (3386, np.float64(0.0)), (3387, np.float64(0.0)), (3388, np.float64(0.0)), (3389, np.float64(0.0)), (3391, np.float64(0.0)), (3393, np.float64(0.0)), (3394, np.float64(0.0)), (3395, np.float64(0.0)), (3396, np.float64(0.0)), (3397, np.float64(0.0)), (3398, np.float64(0.0)), (3399, np.float64(0.0)), (3400, np.float64(0.0)), (3401, np.float64(0.0)), (3402, np.float64(0.0)), (3404, np.float64(0.0)), (3405, np.float64(0.0)), (3406, np.float64(0.0)), (3407, np.float64(0.0)), (3408, np.float64(0.0)), (3409, np.float64(0.0)), (3410, np.float64(0.0)), (3411, np.float64(0.0)), (3414, np.float64(0.0)), (3415, np.float64(0.0)), (3416, np.float64(0.0)), (3417, np.float64(0.0)), (3418, np.float64(0.0)), (3419, np.float64(0.0)), (3420, np.float64(0.0)), (3422, np.float64(0.0)), (3423, np.float64(0.0)), (3424, np.float64(0.0)), (3425, np.float64(0.0)), (3426, np.float64(0.0)), (3427, np.float64(0.0)), (3428, np.float64(0.0)), (3429, np.float64(0.0)), (3431, np.float64(0.0)), (3432, np.float64(0.0)), (3433, np.float64(0.0)), (3434, np.float64(0.0)), (3435, np.float64(0.0)), (3436, np.float64(0.0)), (3437, np.float64(0.0)), (3438, np.float64(0.0)), (3439, np.float64(0.0)), (3440, np.float64(0.0)), (3441, np.float64(0.0)), (3443, np.float64(0.0)), (3444, np.float64(0.0)), (3445, np.float64(0.0)), (3446, np.float64(0.0)), (3447, np.float64(0.0)), (3448, np.float64(0.0)), (3449, np.float64(0.0)), (3450, np.float64(0.0)), (3451, np.float64(0.0)), (3452, np.float64(0.0)), (3453, np.float64(0.0)), (3454, np.float64(0.0)), (3455, np.float64(0.0)), (3456, np.float64(0.0)), (3457, np.float64(0.0)), (3458, np.float64(0.0)), (3459, np.float64(0.0)), (3460, np.float64(0.0)), (3462, np.float64(0.0)), (3463, np.float64(0.0)), (3464, np.float64(0.0)), (3465, np.float64(0.0)), (3466, np.float64(0.0)), (3469, np.float64(0.0)), (3470, np.float64(0.0)), (3472, np.float64(0.0)), (3473, np.float64(0.0)), (3474, np.float64(0.0)), (3475, np.float64(0.0)), (3476, np.float64(0.0)), (3477, np.float64(0.0)), (3478, np.float64(0.0)), (3479, np.float64(0.0)), (3480, np.float64(0.0)), (3481, np.float64(0.0)), (3482, np.float64(0.0)), (3483, np.float64(0.0)), (3484, np.float64(0.0)), (3485, np.float64(0.0)), (3486, np.float64(0.0)), (3487, np.float64(0.0)), (3488, np.float64(0.0)), (3489, np.float64(0.0)), (3490, np.float64(0.0)), (3491, np.float64(0.0)), (3492, np.float64(0.0)), (3493, np.float64(0.0)), (3494, np.float64(0.0)), (3495, np.float64(0.0)), (3496, np.float64(0.0)), (3497, np.float64(0.0)), (3498, np.float64(0.0)), (3499, np.float64(0.0)), (3500, np.float64(0.0)), (3502, np.float64(0.0)), (3503, np.float64(0.0)), (3504, np.float64(0.0)), (3505, np.float64(0.0)), (3506, np.float64(0.0)), (3507, np.float64(0.0)), (3509, np.float64(0.0)), (3510, np.float64(0.0)), (3512, np.float64(0.0)), (3513, np.float64(0.0)), (3514, np.float64(0.0)), (3515, np.float64(0.0)), (3516, np.float64(0.0)), (3518, np.float64(0.0)), (3519, np.float64(0.0)), (3520, np.float64(0.0)), (3521, np.float64(0.0)), (3522, np.float64(0.0)), (3523, np.float64(0.0)), (3524, np.float64(0.0)), (3525, np.float64(0.0)), (3526, np.float64(0.0)), (3527, np.float64(0.0)), (3528, np.float64(0.0)), (3529, np.float64(0.0)), (3530, np.float64(0.0)), (3532, np.float64(0.0)), (3533, np.float64(0.0)), (3534, np.float64(0.0)), (3535, np.float64(0.0)), (3536, np.float64(0.0)), (3537, np.float64(0.0)), (3538, np.float64(0.0)), (3539, np.float64(0.0)), (3542, np.float64(0.0)), (3543, np.float64(0.0)), (3544, np.float64(0.0)), (3545, np.float64(0.0)), (3546, np.float64(0.0)), (3547, np.float64(0.0)), (3549, np.float64(0.0)), (3550, np.float64(0.0)), (3551, np.float64(0.0)), (3552, np.float64(0.0)), (3553, np.float64(0.0)), (3554, np.float64(0.0)), (3555, np.float64(0.0)), (3556, np.float64(0.0)), (3557, np.float64(0.0)), (3558, np.float64(0.0)), (3559, np.float64(0.0)), (3560, np.float64(0.0)), (3561, np.float64(0.0)), (3562, np.float64(0.0)), (3563, np.float64(0.0)), (3564, np.float64(0.0)), (3565, np.float64(0.0)), (3566, np.float64(0.0)), (3567, np.float64(0.0)), (3568, np.float64(0.0)), (3569, np.float64(0.0)), (3570, np.float64(0.0)), (3571, np.float64(0.0)), (3572, np.float64(0.0)), (3573, np.float64(0.0)), (3574, np.float64(0.0)), (3575, np.float64(0.0)), (3576, np.float64(0.0)), (3577, np.float64(0.0)), (3578, np.float64(0.0)), (3579, np.float64(0.0)), (3580, np.float64(0.0)), (3581, np.float64(0.0)), (3582, np.float64(0.0)), (3583, np.float64(0.0)), (3584, np.float64(0.0)), (3585, np.float64(0.0)), (3586, np.float64(0.0)), (3587, np.float64(0.0)), (3588, np.float64(0.0)), (3589, np.float64(0.0)), (3590, np.float64(0.0)), (3591, np.float64(0.0)), (3592, np.float64(0.0)), (3593, np.float64(0.0)), (3594, np.float64(0.0)), (3595, np.float64(0.0)), (3596, np.float64(0.0)), (3597, np.float64(0.0)), (3598, np.float64(0.0)), (3599, np.float64(0.0)), (3600, np.float64(0.0)), (3601, np.float64(0.0)), (3602, np.float64(0.0)), (3603, np.float64(0.0)), (3604, np.float64(0.0)), (3605, np.float64(0.0)), (3607, np.float64(0.0)), (3608, np.float64(0.0)), (3609, np.float64(0.0)), (3610, np.float64(0.0)), (3611, np.float64(0.0)), (3612, np.float64(0.0)), (3613, np.float64(0.0)), (3614, np.float64(0.0)), (3616, np.float64(0.0)), (3617, np.float64(0.0)), (3618, np.float64(0.0)), (3619, np.float64(0.0)), (3620, np.float64(0.0)), (3621, np.float64(0.0)), (3622, np.float64(0.0)), (3623, np.float64(0.0)), (3624, np.float64(0.0)), (3625, np.float64(0.0)), (3628, np.float64(0.0)), (3629, np.float64(0.0)), (3630, np.float64(0.0)), (3631, np.float64(0.0)), (3633, np.float64(0.0)), (3634, np.float64(0.0)), (3635, np.float64(0.0)), (3636, np.float64(0.0)), (3637, np.float64(0.0)), (3638, np.float64(0.0)), (3639, np.float64(0.0)), (3640, np.float64(0.0)), (3641, np.float64(0.0)), (3642, np.float64(0.0)), (3643, np.float64(0.0)), (3644, np.float64(0.0)), (3645, np.float64(0.0)), (3646, np.float64(0.0)), (3647, np.float64(0.0)), (3649, np.float64(0.0)), (3650, np.float64(0.0)), (3651, np.float64(0.0)), (3652, np.float64(0.0)), (3654, np.float64(0.0)), (3655, np.float64(0.0)), (3657, np.float64(0.0)), (3658, np.float64(0.0)), (3660, np.float64(0.0)), (3661, np.float64(0.0)), (3663, np.float64(0.0)), (3664, np.float64(0.0)), (3666, np.float64(0.0)), (3667, np.float64(0.0)), (3668, np.float64(0.0)), (3669, np.float64(0.0)), (3670, np.float64(0.0)), (3671, np.float64(0.0)), (3672, np.float64(0.0)), (3674, np.float64(0.0)), (3675, np.float64(0.0)), (3676, np.float64(0.0)), (3677, np.float64(0.0)), (3678, np.float64(0.0)), (3679, np.float64(0.0)), (3680, np.float64(0.0)), (3682, np.float64(0.0)), (3683, np.float64(0.0)), (3684, np.float64(0.0)), (3685, np.float64(0.0)), (3686, np.float64(0.0)), (3687, np.float64(0.0)), (3688, np.float64(0.0)), (3689, np.float64(0.0)), (3690, np.float64(0.0)), (3691, np.float64(0.0)), (3692, np.float64(0.0)), (3693, np.float64(0.0)), (3694, np.float64(0.0)), (3695, np.float64(0.0)), (3697, np.float64(0.0)), (3700, np.float64(0.0)), (3701, np.float64(0.0)), (3702, np.float64(0.0)), (3703, np.float64(0.0)), (3704, np.float64(0.0)), (3705, np.float64(0.0)), (3706, np.float64(0.0)), (3707, np.float64(0.0)), (3708, np.float64(0.0)), (3709, np.float64(0.0)), (3710, np.float64(0.0)), (3711, np.float64(0.0)), (3712, np.float64(0.0)), (3713, np.float64(0.0)), (3714, np.float64(0.0)), (3715, np.float64(0.0)), (3716, np.float64(0.0)), (3717, np.float64(0.0)), (3718, np.float64(0.0)), (3719, np.float64(0.0)), (3720, np.float64(0.0)), (3721, np.float64(0.0)), (3723, np.float64(0.0)), (3724, np.float64(0.0)), (3725, np.float64(0.0)), (3726, np.float64(0.0)), (3727, np.float64(0.0)), (3728, np.float64(0.0)), (3729, np.float64(0.0)), (3730, np.float64(0.0)), (3731, np.float64(0.0)), (3732, np.float64(0.0)), (3733, np.float64(0.0)), (3734, np.float64(0.0)), (3735, np.float64(0.0)), (3736, np.float64(0.0)), (3738, np.float64(0.0)), (3739, np.float64(0.0)), (3740, np.float64(0.0)), (3741, np.float64(0.0)), (3742, np.float64(0.0)), (3743, np.float64(0.0)), (3744, np.float64(0.0)), (3745, np.float64(0.0)), (3748, np.float64(0.0)), (3749, np.float64(0.0)), (3750, np.float64(0.0)), (3751, np.float64(0.0)), (3752, np.float64(0.0)), (3753, np.float64(0.0)), (3754, np.float64(0.0)), (3755, np.float64(0.0)), (3756, np.float64(0.0)), (3757, np.float64(0.0)), (3758, np.float64(0.0)), (3759, np.float64(0.0)), (3760, np.float64(0.0)), (3761, np.float64(0.0)), (3762, np.float64(0.0)), (3763, np.float64(0.0)), (3764, np.float64(0.0)), (3765, np.float64(0.0)), (3766, np.float64(0.0)), (3767, np.float64(0.0)), (3769, np.float64(0.0)), (3770, np.float64(0.0)), (3771, np.float64(0.0)), (3773, np.float64(0.0)), (3774, np.float64(0.0)), (3775, np.float64(0.0)), (3776, np.float64(0.0)), (3777, np.float64(0.0)), (3778, np.float64(0.0)), (3779, np.float64(0.0)), (3780, np.float64(0.0)), (3782, np.float64(0.0)), (3783, np.float64(0.0)), (3784, np.float64(0.0)), (3785, np.float64(0.0)), (3786, np.float64(0.0)), (3787, np.float64(0.0)), (3788, np.float64(0.0)), (3789, np.float64(0.0)), (3790, np.float64(0.0)), (3791, np.float64(0.0)), (3793, np.float64(0.0)), (3794, np.float64(0.0)), (3795, np.float64(0.0)), (3796, np.float64(0.0)), (3797, np.float64(0.0)), (3798, np.float64(0.0)), (3799, np.float64(0.0)), (3800, np.float64(0.0)), (3801, np.float64(0.0)), (3802, np.float64(0.0)), (3803, np.float64(0.0)), (3804, np.float64(0.0)), (3805, np.float64(0.0)), (3806, np.float64(0.0)), (3807, np.float64(0.0)), (3810, np.float64(0.0)), (3811, np.float64(0.0)), (3812, np.float64(0.0)), (3813, np.float64(0.0)), (3814, np.float64(0.0)), (3815, np.float64(0.0)), (3816, np.float64(0.0)), (3817, np.float64(0.0)), (3818, np.float64(0.0)), (3819, np.float64(0.0)), (3820, np.float64(0.0)), (3821, np.float64(0.0)), (3822, np.float64(0.0)), (3823, np.float64(0.0)), (3826, np.float64(0.0)), (3827, np.float64(0.0)), (3828, np.float64(0.0)), (3830, np.float64(0.0)), (3831, np.float64(0.0)), (3832, np.float64(0.0)), (3833, np.float64(0.0)), (3834, np.float64(0.0)), (3836, np.float64(0.0)), (3837, np.float64(0.0)), (3838, np.float64(0.0)), (3840, np.float64(0.0)), (3841, np.float64(0.0)), (3842, np.float64(0.0)), (3843, np.float64(0.0)), (3844, np.float64(0.0)), (3845, np.float64(0.0)), (3846, np.float64(0.0)), (3847, np.float64(0.0)), (3848, np.float64(0.0)), (3849, np.float64(0.0)), (3850, np.float64(0.0)), (3851, np.float64(0.0)), (3853, np.float64(0.0)), (3854, np.float64(0.0)), (3855, np.float64(0.0)), (3856, np.float64(0.0)), (3857, np.float64(0.0)), (3858, np.float64(0.0)), (3859, np.float64(0.0)), (3860, np.float64(0.0)), (3862, np.float64(0.0)), (3866, np.float64(0.0)), (3867, np.float64(0.0)), (3868, np.float64(0.0)), (3869, np.float64(0.0)), (3872, np.float64(0.0)), (3873, np.float64(0.0)), (3874, np.float64(0.0)), (3875, np.float64(0.0)), (3876, np.float64(0.0)), (3877, np.float64(0.0)), (3879, np.float64(0.0)), (3880, np.float64(0.0)), (3881, np.float64(0.0)), (3883, np.float64(0.0)), (3884, np.float64(0.0)), (3885, np.float64(0.0)), (3886, np.float64(0.0)), (3887, np.float64(0.0)), (3888, np.float64(0.0)), (3889, np.float64(0.0)), (3891, np.float64(0.0)), (3892, np.float64(0.0)), (3893, np.float64(0.0)), (3894, np.float64(0.0)), (3895, np.float64(0.0)), (3896, np.float64(0.0)), (3897, np.float64(0.0)), (3898, np.float64(0.0)), (3900, np.float64(0.0)), (3901, np.float64(0.0)), (3902, np.float64(0.0)), (3903, np.float64(0.0)), (3904, np.float64(0.0)), (3905, np.float64(0.0)), (3907, np.float64(0.0)), (3908, np.float64(0.0)), (3910, np.float64(0.0)), (3911, np.float64(0.0)), (3912, np.float64(0.0)), (3913, np.float64(0.0)), (3914, np.float64(0.0)), (3915, np.float64(0.0)), (3916, np.float64(0.0)), (3918, np.float64(0.0)), (3919, np.float64(0.0)), (3920, np.float64(0.0)), (3921, np.float64(0.0)), (3922, np.float64(0.0)), (3923, np.float64(0.0)), (3924, np.float64(0.0)), (3925, np.float64(0.0)), (3927, np.float64(0.0)), (3928, np.float64(0.0)), (3929, np.float64(0.0)), (3930, np.float64(0.0)), (3931, np.float64(0.0)), (3932, np.float64(0.0)), (3933, np.float64(0.0)), (3934, np.float64(0.0)), (3935, np.float64(0.0)), (3936, np.float64(0.0)), (3937, np.float64(0.0)), (3938, np.float64(0.0)), (3939, np.float64(0.0)), (3940, np.float64(0.0)), (3941, np.float64(0.0)), (3942, np.float64(0.0)), (3944, np.float64(0.0)), (3945, np.float64(0.0)), (3946, np.float64(0.0)), (3947, np.float64(0.0)), (3949, np.float64(0.0)), (3950, np.float64(0.0)), (3951, np.float64(0.0)), (3952, np.float64(0.0)), (3953, np.float64(0.0)), (3954, np.float64(0.0)), (3955, np.float64(0.0)), (3957, np.float64(0.0)), (3958, np.float64(0.0)), (3959, np.float64(0.0)), (3960, np.float64(0.0)), (3961, np.float64(0.0)), (3962, np.float64(0.0)), (3963, np.float64(0.0)), (3964, np.float64(0.0)), (3965, np.float64(0.0)), (3966, np.float64(0.0)), (3967, np.float64(0.0)), (3968, np.float64(0.0)), (3969, np.float64(0.0)), (3970, np.float64(0.0)), (3971, np.float64(0.0)), (3972, np.float64(0.0)), (3973, np.float64(0.0)), (3974, np.float64(0.0)), (3975, np.float64(0.0)), (3976, np.float64(0.0)), (3977, np.float64(0.0)), (3978, np.float64(0.0)), (3979, np.float64(0.0)), (3980, np.float64(0.0)), (3981, np.float64(0.0)), (3982, np.float64(0.0)), (3983, np.float64(0.0)), (3984, np.float64(0.0)), (3985, np.float64(0.0)), (3987, np.float64(0.0)), (3988, np.float64(0.0)), (3989, np.float64(0.0)), (3990, np.float64(0.0)), (3991, np.float64(0.0)), (3992, np.float64(0.0)), (3993, np.float64(0.0)), (3994, np.float64(0.0)), (3995, np.float64(0.0)), (3996, np.float64(0.0)), (3997, np.float64(0.0)), (3998, np.float64(0.0)), (3999, np.float64(0.0)), (4000, np.float64(0.0)), (4001, np.float64(0.0)), (4002, np.float64(0.0)), (4003, np.float64(0.0)), (4004, np.float64(0.0)), (4005, np.float64(0.0)), (4006, np.float64(0.0)), (4007, np.float64(0.0)), (4008, np.float64(0.0)), (4009, np.float64(0.0)), (4010, np.float64(0.0)), (4011, np.float64(0.0)), (4012, np.float64(0.0)), (4013, np.float64(0.0)), (4014, np.float64(0.0)), (4016, np.float64(0.0)), (4017, np.float64(0.0)), (4018, np.float64(0.0)), (4019, np.float64(0.0)), (4020, np.float64(0.0)), (4021, np.float64(0.0)), (4023, np.float64(0.0)), (4024, np.float64(0.0)), (4025, np.float64(0.0)), (4026, np.float64(0.0)), (4027, np.float64(0.0)), (4028, np.float64(0.0)), (4029, np.float64(0.0)), (4030, np.float64(0.0)), (4031, np.float64(0.0)), (4032, np.float64(0.0)), (4033, np.float64(0.0)), (4034, np.float64(0.0)), (4035, np.float64(0.0)), (4036, np.float64(0.0)), (4037, np.float64(0.0)), (4038, np.float64(0.0)), (4039, np.float64(0.0)), (4040, np.float64(0.0)), (4041, np.float64(0.0)), (4042, np.float64(0.0)), (4043, np.float64(0.0)), (4044, np.float64(0.0)), (4045, np.float64(0.0)), (4046, np.float64(0.0)), (4047, np.float64(0.0)), (4048, np.float64(0.0)), (4049, np.float64(0.0)), (4050, np.float64(0.0)), (4052, np.float64(0.0)), (4053, np.float64(0.0)), (4055, np.float64(0.0)), (4056, np.float64(0.0)), (4057, np.float64(0.0)), (4058, np.float64(0.0)), (4059, np.float64(0.0)), (4060, np.float64(0.0)), (4061, np.float64(0.0)), (4062, np.float64(0.0)), (4063, np.float64(0.0)), (4064, np.float64(0.0)), (4065, np.float64(0.0)), (4066, np.float64(0.0)), (4067, np.float64(0.0)), (4068, np.float64(0.0)), (4069, np.float64(0.0)), (4070, np.float64(0.0)), (4071, np.float64(0.0)), (4072, np.float64(0.0)), (4073, np.float64(0.0)), (4074, np.float64(0.0)), (4075, np.float64(0.0)), (4076, np.float64(0.0)), (4077, np.float64(0.0)), (4078, np.float64(0.0)), (4079, np.float64(0.0)), (4080, np.float64(0.0)), (4081, np.float64(0.0)), (4082, np.float64(0.0)), (4083, np.float64(0.0)), (4084, np.float64(0.0)), (4085, np.float64(0.0)), (4086, np.float64(0.0)), (4087, np.float64(0.0)), (4088, np.float64(0.0)), (4091, np.float64(0.0)), (4092, np.float64(0.0)), (4093, np.float64(0.0)), (4094, np.float64(0.0)), (4095, np.float64(0.0)), (4096, np.float64(0.0)), (4097, np.float64(0.0)), (4098, np.float64(0.0)), (4100, np.float64(0.0)), (4101, np.float64(0.0)), (4102, np.float64(0.0)), (4103, np.float64(0.0)), (4105, np.float64(0.0)), (4107, np.float64(0.0)), (4108, np.float64(0.0)), (4109, np.float64(0.0)), (4110, np.float64(0.0)), (4112, np.float64(0.0)), (4113, np.float64(0.0)), (4114, np.float64(0.0)), (4115, np.float64(0.0)), (4116, np.float64(0.0)), (4117, np.float64(0.0)), (4118, np.float64(0.0)), (4119, np.float64(0.0)), (4120, np.float64(0.0)), (4121, np.float64(0.0)), (4122, np.float64(0.0)), (4123, np.float64(0.0)), (4124, np.float64(0.0)), (4125, np.float64(0.0)), (4126, np.float64(0.0)), (4127, np.float64(0.0)), (4128, np.float64(0.0)), (4129, np.float64(0.0)), (4130, np.float64(0.0)), (4131, np.float64(0.0)), (4132, np.float64(0.0)), (4133, np.float64(0.0)), (4135, np.float64(0.0)), (4136, np.float64(0.0)), (4137, np.float64(0.0)), (4139, np.float64(0.0)), (4140, np.float64(0.0)), (4141, np.float64(0.0)), (4142, np.float64(0.0)), (4143, np.float64(0.0)), (4144, np.float64(0.0)), (4145, np.float64(0.0)), (4146, np.float64(0.0)), (4148, np.float64(0.0)), (4149, np.float64(0.0)), (4150, np.float64(0.0)), (4151, np.float64(0.0)), (4153, np.float64(0.0)), (4154, np.float64(0.0)), (4155, np.float64(0.0)), (4156, np.float64(0.0)), (4157, np.float64(0.0)), (4158, np.float64(0.0)), (4159, np.float64(0.0)), (4160, np.float64(0.0)), (4161, np.float64(0.0)), (4162, np.float64(0.0)), (4163, np.float64(0.0)), (4164, np.float64(0.0)), (4165, np.float64(0.0)), (4166, np.float64(0.0)), (4167, np.float64(0.0)), (4168, np.float64(0.0)), (4169, np.float64(0.0)), (4170, np.float64(0.0)), (4171, np.float64(0.0)), (4172, np.float64(0.0)), (4173, np.float64(0.0)), (4175, np.float64(0.0)), (4176, np.float64(0.0)), (4177, np.float64(0.0)), (4179, np.float64(0.0)), (4180, np.float64(0.0)), (4181, np.float64(0.0)), (4183, np.float64(0.0)), (4184, np.float64(0.0)), (4185, np.float64(0.0)), (4187, np.float64(0.0)), (4188, np.float64(0.0)), (4189, np.float64(0.0)), (4190, np.float64(0.0)), (4192, np.float64(0.0)), (4193, np.float64(0.0)), (4194, np.float64(0.0)), (4195, np.float64(0.0)), (4196, np.float64(0.0)), (4198, np.float64(0.0)), (4199, np.float64(0.0)), (4200, np.float64(0.0)), (4201, np.float64(0.0)), (4202, np.float64(0.0)), (4203, np.float64(0.0)), (4204, np.float64(0.0)), (4205, np.float64(0.0)), (4206, np.float64(0.0)), (4207, np.float64(0.0)), (4208, np.float64(0.0)), (4209, np.float64(0.0)), (4211, np.float64(0.0)), (4212, np.float64(0.0)), (4213, np.float64(0.0)), (4214, np.float64(0.0)), (4215, np.float64(0.0)), (4216, np.float64(0.0)), (4217, np.float64(0.0)), (4218, np.float64(0.0)), (4219, np.float64(0.0)), (4220, np.float64(0.0)), (4221, np.float64(0.0)), (4222, np.float64(0.0)), (4223, np.float64(0.0)), (4224, np.float64(0.0)), (4225, np.float64(0.0)), (4226, np.float64(0.0)), (4227, np.float64(0.0)), (4228, np.float64(0.0)), (4229, np.float64(0.0)), (4230, np.float64(0.0)), (4231, np.float64(0.0)), (4232, np.float64(0.0)), (4233, np.float64(0.0)), (4234, np.float64(0.0)), (4235, np.float64(0.0)), (4236, np.float64(0.0)), (4237, np.float64(0.0)), (4238, np.float64(0.0)), (4239, np.float64(0.0)), (4240, np.float64(0.0)), (4241, np.float64(0.0)), (4242, np.float64(0.0)), (4243, np.float64(0.0)), (4244, np.float64(0.0)), (4246, np.float64(0.0)), (4247, np.float64(0.0)), (4248, np.float64(0.0)), (4249, np.float64(0.0)), (4250, np.float64(0.0)), (4251, np.float64(0.0)), (4252, np.float64(0.0)), (4253, np.float64(0.0)), (4255, np.float64(0.0)), (4256, np.float64(0.0)), (4257, np.float64(0.0)), (4258, np.float64(0.0)), (4259, np.float64(0.0)), (4260, np.float64(0.0)), (4261, np.float64(0.0)), (4262, np.float64(0.0)), (4263, np.float64(0.0)), (4264, np.float64(0.0)), (4265, np.float64(0.0)), (4266, np.float64(0.0)), (4267, np.float64(0.0)), (4268, np.float64(0.0)), (4269, np.float64(0.0)), (4270, np.float64(0.0)), (4271, np.float64(0.0)), (4272, np.float64(0.0)), (4273, np.float64(0.0)), (4274, np.float64(0.0)), (4275, np.float64(0.0)), (4276, np.float64(0.0)), (4278, np.float64(0.0)), (4279, np.float64(0.0)), (4281, np.float64(0.0)), (4282, np.float64(0.0)), (4284, np.float64(0.0)), (4285, np.float64(0.0)), (4286, np.float64(0.0)), (4287, np.float64(0.0)), (4288, np.float64(0.0)), (4289, np.float64(0.0)), (4290, np.float64(0.0)), (4291, np.float64(0.0)), (4292, np.float64(0.0)), (4293, np.float64(0.0)), (4294, np.float64(0.0)), (4296, np.float64(0.0)), (4298, np.float64(0.0)), (4299, np.float64(0.0)), (4300, np.float64(0.0)), (4301, np.float64(0.0)), (4302, np.float64(0.0)), (4303, np.float64(0.0)), (4304, np.float64(0.0)), (4305, np.float64(0.0)), (4306, np.float64(0.0)), (4307, np.float64(0.0)), (4308, np.float64(0.0)), (4309, np.float64(0.0)), (4310, np.float64(0.0)), (4311, np.float64(0.0)), (4312, np.float64(0.0)), (4313, np.float64(0.0)), (4314, np.float64(0.0)), (4315, np.float64(0.0)), (4316, np.float64(0.0)), (4317, np.float64(0.0)), (4318, np.float64(0.0)), (4319, np.float64(0.0)), (4320, np.float64(0.0)), (4321, np.float64(0.0)), (4322, np.float64(0.0)), (4323, np.float64(0.0)), (4324, np.float64(0.0)), (4325, np.float64(0.0)), (4326, np.float64(0.0)), (4328, np.float64(0.0)), (4330, np.float64(0.0)), (4331, np.float64(0.0)), (4332, np.float64(0.0)), (4333, np.float64(0.0)), (4334, np.float64(0.0)), (4335, np.float64(0.0)), (4336, np.float64(0.0)), (4337, np.float64(0.0)), (4338, np.float64(0.0)), (4339, np.float64(0.0)), (4340, np.float64(0.0)), (4341, np.float64(0.0)), (4342, np.float64(0.0)), (4343, np.float64(0.0)), (4344, np.float64(0.0)), (4345, np.float64(0.0)), (4346, np.float64(0.0)), (4348, np.float64(0.0)), (4349, np.float64(0.0)), (4350, np.float64(0.0)), (4351, np.float64(0.0)), (4352, np.float64(0.0)), (4353, np.float64(0.0)), (4354, np.float64(0.0)), (4355, np.float64(0.0)), (4356, np.float64(0.0)), (4357, np.float64(0.0)), (4359, np.float64(0.0)), (4360, np.float64(0.0)), (4361, np.float64(0.0)), (4363, np.float64(0.0)), (4364, np.float64(0.0)), (4365, np.float64(0.0)), (4366, np.float64(0.0)), (4367, np.float64(0.0)), (4368, np.float64(0.0)), (4369, np.float64(0.0)), (4370, np.float64(0.0)), (4372, np.float64(0.0)), (4373, np.float64(0.0)), (4374, np.float64(0.0)), (4375, np.float64(0.0)), (4376, np.float64(0.0)), (4377, np.float64(0.0)), (4378, np.float64(0.0)), (4379, np.float64(0.0)), (4381, np.float64(0.0)), (4382, np.float64(0.0)), (4383, np.float64(0.0)), (4384, np.float64(0.0)), (4385, np.float64(0.0)), (4386, np.float64(0.0)), (4387, np.float64(0.0)), (4388, np.float64(0.0)), (4389, np.float64(0.0)), (4390, np.float64(0.0)), (4391, np.float64(0.0)), (4392, np.float64(0.0)), (4393, np.float64(0.0)), (4395, np.float64(0.0)), (4397, np.float64(0.0)), (4398, np.float64(0.0)), (4399, np.float64(0.0)), (4400, np.float64(0.0)), (4402, np.float64(0.0)), (4403, np.float64(0.0)), (4404, np.float64(0.0)), (4405, np.float64(0.0)), (4406, np.float64(0.0)), (4407, np.float64(0.0)), (4408, np.float64(0.0)), (4409, np.float64(0.0)), (4412, np.float64(0.0)), (4413, np.float64(0.0)), (4414, np.float64(0.0)), (4415, np.float64(0.0)), (4416, np.float64(0.0)), (4417, np.float64(0.0)), (4418, np.float64(0.0)), (4419, np.float64(0.0)), (4423, np.float64(0.0)), (4424, np.float64(0.0)), (4425, np.float64(0.0)), (4427, np.float64(0.0)), (4428, np.float64(0.0)), (4429, np.float64(0.0)), (4431, np.float64(0.0)), (4432, np.float64(0.0)), (4434, np.float64(0.0)), (4435, np.float64(0.0)), (4436, np.float64(0.0)), (4437, np.float64(0.0)), (4438, np.float64(0.0)), (4439, np.float64(0.0)), (4440, np.float64(0.0)), (4441, np.float64(0.0)), (4442, np.float64(0.0)), (4443, np.float64(0.0)), (4444, np.float64(0.0)), (4445, np.float64(0.0)), (4446, np.float64(0.0)), (4447, np.float64(0.0)), (4448, np.float64(0.0)), (4449, np.float64(0.0)), (4450, np.float64(0.0)), (4451, np.float64(0.0)), (4452, np.float64(0.0)), (4453, np.float64(0.0)), (4454, np.float64(0.0)), (4455, np.float64(0.0)), (4456, np.float64(0.0)), (4457, np.float64(0.0)), (4458, np.float64(0.0)), (4459, np.float64(0.0)), (4460, np.float64(0.0)), (4461, np.float64(0.0)), (4462, np.float64(0.0)), (4463, np.float64(0.0)), (4464, np.float64(0.0)), (4465, np.float64(0.0)), (4466, np.float64(0.0)), (4467, np.float64(0.0)), (4468, np.float64(0.0)), (4469, np.float64(0.0)), (4470, np.float64(0.0)), (4471, np.float64(0.0)), (4472, np.float64(0.0)), (4473, np.float64(0.0)), (4474, np.float64(0.0)), (4475, np.float64(0.0)), (4476, np.float64(0.0)), (4477, np.float64(0.0)), (4478, np.float64(0.0)), (4480, np.float64(0.0)), (4481, np.float64(0.0)), (4482, np.float64(0.0)), (4483, np.float64(0.0)), (4484, np.float64(0.0)), (4485, np.float64(0.0)), (4486, np.float64(0.0)), (4487, np.float64(0.0)), (4488, np.float64(0.0)), (4489, np.float64(0.0)), (4490, np.float64(0.0)), (4491, np.float64(0.0)), (4492, np.float64(0.0)), (4493, np.float64(0.0)), (4494, np.float64(0.0)), (4495, np.float64(0.0)), (4496, np.float64(0.0)), (4497, np.float64(0.0)), (4498, np.float64(0.0)), (4499, np.float64(0.0)), (4500, np.float64(0.0)), (4501, np.float64(0.0)), (4502, np.float64(0.0)), (4503, np.float64(0.0)), (4504, np.float64(0.0)), (4505, np.float64(0.0)), (4506, np.float64(0.0)), (4507, np.float64(0.0)), (4508, np.float64(0.0)), (4509, np.float64(0.0)), (4510, np.float64(0.0)), (4512, np.float64(0.0)), (4513, np.float64(0.0)), (4514, np.float64(0.0)), (4515, np.float64(0.0)), (4516, np.float64(0.0)), (4517, np.float64(0.0)), (4518, np.float64(0.0)), (4519, np.float64(0.0)), (4520, np.float64(0.0)), (4521, np.float64(0.0)), (4522, np.float64(0.0)), (4524, np.float64(0.0)), (4525, np.float64(0.0)), (4526, np.float64(0.0)), (4527, np.float64(0.0)), (4528, np.float64(0.0)), (4529, np.float64(0.0)), (4531, np.float64(0.0)), (4532, np.float64(0.0)), (4533, np.float64(0.0)), (4534, np.float64(0.0)), (4535, np.float64(0.0)), (4536, np.float64(0.0)), (4537, np.float64(0.0)), (4538, np.float64(0.0)), (4539, np.float64(0.0)), (4540, np.float64(0.0)), (4541, np.float64(0.0)), (4542, np.float64(0.0)), (4543, np.float64(0.0)), (4544, np.float64(0.0)), (4545, np.float64(0.0)), (4546, np.float64(0.0)), (4547, np.float64(0.0)), (4548, np.float64(0.0)), (4549, np.float64(0.0)), (4550, np.float64(0.0)), (4551, np.float64(0.0)), (4552, np.float64(0.0)), (4553, np.float64(0.0)), (4554, np.float64(0.0)), (4555, np.float64(0.0)), (4556, np.float64(0.0)), (4557, np.float64(0.0)), (4559, np.float64(0.0)), (4560, np.float64(0.0)), (4561, np.float64(0.0)), (4562, np.float64(0.0)), (4563, np.float64(0.0)), (4564, np.float64(0.0)), (4565, np.float64(0.0)), (4566, np.float64(0.0)), (4567, np.float64(0.0)), (4568, np.float64(0.0)), (4569, np.float64(0.0)), (4570, np.float64(0.0)), (4571, np.float64(0.0)), (4572, np.float64(0.0)), (4573, np.float64(0.0)), (4574, np.float64(0.0)), (4575, np.float64(0.0)), (4576, np.float64(0.0)), (4577, np.float64(0.0)), (4578, np.float64(0.0)), (4579, np.float64(0.0)), (4580, np.float64(0.0)), (4581, np.float64(0.0)), (4583, np.float64(0.0)), (4584, np.float64(0.0)), (4585, np.float64(0.0)), (4586, np.float64(0.0)), (4587, np.float64(0.0)), (4588, np.float64(0.0)), (4589, np.float64(0.0)), (4590, np.float64(0.0)), (4591, np.float64(0.0)), (4592, np.float64(0.0)), (4593, np.float64(0.0)), (4594, np.float64(0.0)), (4595, np.float64(0.0)), (4596, np.float64(0.0)), (4597, np.float64(0.0)), (4598, np.float64(0.0)), (4599, np.float64(0.0)), (4600, np.float64(0.0)), (4601, np.float64(0.0)), (4602, np.float64(0.0)), (4603, np.float64(0.0)), (4604, np.float64(0.0)), (4606, np.float64(0.0)), (4607, np.float64(0.0)), (4608, np.float64(0.0)), (4610, np.float64(0.0)), (4611, np.float64(0.0)), (4612, np.float64(0.0)), (4613, np.float64(0.0)), (4614, np.float64(0.0)), (4615, np.float64(0.0)), (4617, np.float64(0.0)), (4618, np.float64(0.0)), (4619, np.float64(0.0)), (4620, np.float64(0.0)), (4621, np.float64(0.0)), (4622, np.float64(0.0)), (4623, np.float64(0.0)), (4624, np.float64(0.0)), (4625, np.float64(0.0)), (4626, np.float64(0.0)), (4627, np.float64(0.0)), (4628, np.float64(0.0)), (4629, np.float64(0.0)), (4631, np.float64(0.0)), (4632, np.float64(0.0)), (4633, np.float64(0.0)), (4634, np.float64(0.0)), (4635, np.float64(0.0)), (4636, np.float64(0.0)), (4637, np.float64(0.0)), (4638, np.float64(0.0)), (4639, np.float64(0.0)), (4641, np.float64(0.0)), (4642, np.float64(0.0)), (4643, np.float64(0.0)), (4644, np.float64(0.0)), (4645, np.float64(0.0)), (4646, np.float64(0.0)), (4648, np.float64(0.0)), (4649, np.float64(0.0)), (4650, np.float64(0.0)), (4651, np.float64(0.0)), (4652, np.float64(0.0)), (4653, np.float64(0.0)), (4654, np.float64(0.0)), (4655, np.float64(0.0)), (4656, np.float64(0.0)), (4657, np.float64(0.0)), (4658, np.float64(0.0)), (4659, np.float64(0.0)), (4660, np.float64(0.0)), (4661, np.float64(0.0)), (4662, np.float64(0.0)), (4663, np.float64(0.0)), (4664, np.float64(0.0)), (4666, np.float64(0.0)), (4667, np.float64(0.0)), (4668, np.float64(0.0)), (4669, np.float64(0.0)), (4670, np.float64(0.0)), (4671, np.float64(0.0)), (4672, np.float64(0.0)), (4673, np.float64(0.0)), (4674, np.float64(0.0)), (4675, np.float64(0.0)), (4676, np.float64(0.0)), (4677, np.float64(0.0)), (4678, np.float64(0.0)), (4679, np.float64(0.0)), (4680, np.float64(0.0)), (4681, np.float64(0.0)), (4682, np.float64(0.0)), (4683, np.float64(0.0)), (4684, np.float64(0.0)), (4685, np.float64(0.0)), (4686, np.float64(0.0)), (4687, np.float64(0.0)), (4688, np.float64(0.0)), (4689, np.float64(0.0)), (4690, np.float64(0.0)), (4691, np.float64(0.0)), (4692, np.float64(0.0)), (4693, np.float64(0.0)), (4694, np.float64(0.0)), (4695, np.float64(0.0)), (4696, np.float64(0.0)), (4697, np.float64(0.0)), (4698, np.float64(0.0)), (4699, np.float64(0.0)), (4700, np.float64(0.0)), (4701, np.float64(0.0)), (4702, np.float64(0.0)), (4704, np.float64(0.0)), (4705, np.float64(0.0)), (4706, np.float64(0.0)), (4707, np.float64(0.0)), (4708, np.float64(0.0)), (4709, np.float64(0.0)), (4710, np.float64(0.0)), (4711, np.float64(0.0)), (4712, np.float64(0.0)), (4713, np.float64(0.0)), (4714, np.float64(0.0)), (4715, np.float64(0.0)), (4717, np.float64(0.0)), (4719, np.float64(0.0)), (4720, np.float64(0.0)), (4721, np.float64(0.0)), (4722, np.float64(0.0)), (4723, np.float64(0.0)), (4724, np.float64(0.0)), (4725, np.float64(0.0)), (4726, np.float64(0.0)), (4727, np.float64(0.0)), (4728, np.float64(0.0)), (4729, np.float64(0.0)), (4730, np.float64(0.0)), (4731, np.float64(0.0)), (4732, np.float64(0.0)), (4733, np.float64(0.0)), (4734, np.float64(0.0)), (4735, np.float64(0.0)), (4736, np.float64(0.0)), (4737, np.float64(0.0)), (4739, np.float64(0.0)), (4740, np.float64(0.0)), (4741, np.float64(0.0)), (4742, np.float64(0.0)), (4743, np.float64(0.0)), (4744, np.float64(0.0)), (4745, np.float64(0.0)), (4746, np.float64(0.0)), (4747, np.float64(0.0)), (4748, np.float64(0.0)), (4749, np.float64(0.0)), (4750, np.float64(0.0)), (4751, np.float64(0.0)), (4752, np.float64(0.0)), (4753, np.float64(0.0)), (4754, np.float64(0.0)), (4755, np.float64(0.0)), (4756, np.float64(0.0)), (4757, np.float64(0.0)), (4758, np.float64(0.0)), (4759, np.float64(0.0))]\n"
     ]
    }
   ],
   "source": [
    "print(sorted_similar_movies)"
   ]
  },
  {
   "cell_type": "markdown",
   "id": "33024349-6cea-4fa2-8616-9dcbe9863121",
   "metadata": {},
   "source": [
    "# Printing the name of similar movies based on the Index"
   ]
  },
  {
   "cell_type": "code",
   "execution_count": 87,
   "id": "bc8b0d71-cc48-4530-86a1-83d6258f6886",
   "metadata": {},
   "outputs": [
    {
     "name": "stdout",
     "output_type": "stream",
     "text": [
      "Top 30 Movies suggested for You : \n",
      "\n",
      "1 . Finding Nemo\n",
      "2 . Shark Tale\n",
      "3 . Big Fish\n",
      "4 . WALL·E\n",
      "5 . Treading Water\n",
      "6 . Ponyo\n",
      "7 . Happy Feet\n",
      "8 . Meet the Deedles\n",
      "9 . John Carter\n",
      "10 . Oceans\n",
      "11 . The Reef\n",
      "12 . When Did You Last See Your Father?\n",
      "13 . Jonah: A VeggieTales Movie\n",
      "14 . Megamind\n",
      "15 . Dear Frankie\n",
      "16 . He Got Game\n",
      "17 . Dark Shadows\n",
      "18 . El Mariachi\n",
      "19 . Mean Girls\n",
      "20 . Closer\n",
      "21 . Tora! Tora! Tora!\n",
      "22 . Aquamarine\n",
      "23 . Snitch\n",
      "24 . The Savages\n",
      "25 . A Bug's Life\n",
      "26 . Central Station\n",
      "27 . The Shaggy Dog\n",
      "28 . House at the End of the Street\n",
      "29 . Because of Winn-Dixie\n",
      "30 . Rudderless\n"
     ]
    }
   ],
   "source": [
    "print(\"Top 30 Movies suggested for You : \\n\")\n",
    "i = 1\n",
    "for movie in sorted_similar_movies :\n",
    "    index = movie[0]\n",
    "    title_from_index = dataset[dataset.index == index ][\"Movie_Title\"].values[0]\n",
    "    if (i < 31):\n",
    "        print(i, \".\", title_from_index)\n",
    "        i = i+1"
   ]
  },
  {
   "cell_type": "markdown",
   "id": "24aae003-9de4-4fce-b93b-541a43d38c0b",
   "metadata": {},
   "source": [
    "# Top 10 Movie Recommendation List"
   ]
  },
  {
   "cell_type": "code",
   "execution_count": 90,
   "id": "3fa3563c-4dd5-4e67-b2bb-a9e8ea8baa3c",
   "metadata": {},
   "outputs": [
    {
     "name": "stdin",
     "output_type": "stream",
     "text": [
      "Enter your Favourite movie name : Avtaar\n"
     ]
    },
    {
     "name": "stdout",
     "output_type": "stream",
     "text": [
      "Top 10 Movies Suggested for You : \n",
      "\n",
      "1 . Finding Nemo\n",
      "2 . Shark Tale\n",
      "3 . Big Fish\n",
      "4 . WALL·E\n",
      "5 . Treading Water\n",
      "6 . Ponyo\n",
      "7 . Happy Feet\n",
      "8 . Meet the Deedles\n",
      "9 . John Carter\n",
      "10 . Oceans\n"
     ]
    }
   ],
   "source": [
    "fav_movie_name1 = input('Enter your Favourite movie name :')\n",
    "\n",
    "list_of_all_titles = dataset[\"Movie_Title\"].tolist()\n",
    "\n",
    "find_close_match = difflib.get_close_matches(fav_movie_name1, list_of_all_titles)\n",
    "\n",
    "Close_Match = find_close_match[0]\n",
    "\n",
    "Index_of_Movie = dataset[dataset.Movie_Title == Close_Match][\"Movie_ID\"].values[0]\n",
    "\n",
    "recommendation_score = list(enumerate(cosine_sim[index_of_close_match_movie]))\n",
    "\n",
    "sorted_similar_movies = sorted(recommendation_score, key = lambda x:x[1], reverse = True)\n",
    "\n",
    "print(\"Top 10 Movies Suggested for You : \\n\")\n",
    "\n",
    "i = 1\n",
    "for movie in sorted_similar_movies :\n",
    "    index = movie[0]\n",
    "    title_from_index = dataset[dataset.index == index ][\"Movie_Title\"].values[0]\n",
    "    if (i < 11):\n",
    "        print(i, \".\", title_from_index)\n",
    "        i = i+1"
   ]
  },
  {
   "cell_type": "code",
   "execution_count": null,
   "id": "aa00e041-b5d0-4827-a86c-743042db03ae",
   "metadata": {},
   "outputs": [],
   "source": []
  }
 ],
 "metadata": {
  "kernelspec": {
   "display_name": "Python 3 (ipykernel)",
   "language": "python",
   "name": "python3"
  },
  "language_info": {
   "codemirror_mode": {
    "name": "ipython",
    "version": 3
   },
   "file_extension": ".py",
   "mimetype": "text/x-python",
   "name": "python",
   "nbconvert_exporter": "python",
   "pygments_lexer": "ipython3",
   "version": "3.12.4"
  }
 },
 "nbformat": 4,
 "nbformat_minor": 5
}
